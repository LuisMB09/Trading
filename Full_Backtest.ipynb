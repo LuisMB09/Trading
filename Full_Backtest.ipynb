{
 "cells": [
  {
   "cell_type": "markdown",
   "id": "c4919992",
   "metadata": {},
   "source": [
    "## <font color='cornflowerblue'> Data"
   ]
  },
  {
   "cell_type": "code",
   "execution_count": 1,
   "id": "330a17da",
   "metadata": {},
   "outputs": [],
   "source": [
    "import pandas as pd\n",
    "import numpy as np\n",
    "import matplotlib.pyplot as plt\n",
    "import seaborn as sns\n",
    "import ta\n",
    "\n",
    "sns.set_theme()"
   ]
  },
  {
   "cell_type": "code",
   "execution_count": 2,
   "id": "cea0e148",
   "metadata": {},
   "outputs": [],
   "source": [
    "data = pd.read_csv('aapl_5m_train.csv').dropna()"
   ]
  },
  {
   "cell_type": "code",
   "execution_count": 3,
   "id": "b8e0bd71",
   "metadata": {},
   "outputs": [
    {
     "data": {
      "text/html": [
       "<div>\n",
       "<style scoped>\n",
       "    .dataframe tbody tr th:only-of-type {\n",
       "        vertical-align: middle;\n",
       "    }\n",
       "\n",
       "    .dataframe tbody tr th {\n",
       "        vertical-align: top;\n",
       "    }\n",
       "\n",
       "    .dataframe thead th {\n",
       "        text-align: right;\n",
       "    }\n",
       "</style>\n",
       "<table border=\"1\" class=\"dataframe\">\n",
       "  <thead>\n",
       "    <tr style=\"text-align: right;\">\n",
       "      <th></th>\n",
       "      <th>Unnamed: 0</th>\n",
       "      <th>Timestamp</th>\n",
       "      <th>Gmtoffset</th>\n",
       "      <th>Datetime</th>\n",
       "      <th>Open</th>\n",
       "      <th>High</th>\n",
       "      <th>Low</th>\n",
       "      <th>Close</th>\n",
       "      <th>Volume</th>\n",
       "      <th>rsi</th>\n",
       "      <th>buy_signal</th>\n",
       "      <th>sell_signal</th>\n",
       "    </tr>\n",
       "  </thead>\n",
       "  <tbody>\n",
       "    <tr>\n",
       "      <th>14</th>\n",
       "      <td>14</td>\n",
       "      <td>1609774800</td>\n",
       "      <td>0</td>\n",
       "      <td>2021-01-04 15:40:00</td>\n",
       "      <td>131.111297</td>\n",
       "      <td>131.309997</td>\n",
       "      <td>131.029998</td>\n",
       "      <td>131.044998</td>\n",
       "      <td>1253385.0</td>\n",
       "      <td>35.472015</td>\n",
       "      <td>False</td>\n",
       "      <td>False</td>\n",
       "    </tr>\n",
       "    <tr>\n",
       "      <th>15</th>\n",
       "      <td>15</td>\n",
       "      <td>1609775100</td>\n",
       "      <td>0</td>\n",
       "      <td>2021-01-04 15:45:00</td>\n",
       "      <td>131.044006</td>\n",
       "      <td>131.044006</td>\n",
       "      <td>130.479995</td>\n",
       "      <td>130.749893</td>\n",
       "      <td>1730254.0</td>\n",
       "      <td>31.779676</td>\n",
       "      <td>False</td>\n",
       "      <td>False</td>\n",
       "    </tr>\n",
       "    <tr>\n",
       "      <th>16</th>\n",
       "      <td>16</td>\n",
       "      <td>1609775400</td>\n",
       "      <td>0</td>\n",
       "      <td>2021-01-04 15:50:00</td>\n",
       "      <td>130.750000</td>\n",
       "      <td>130.830001</td>\n",
       "      <td>130.449996</td>\n",
       "      <td>130.709793</td>\n",
       "      <td>1887654.0</td>\n",
       "      <td>31.305254</td>\n",
       "      <td>False</td>\n",
       "      <td>False</td>\n",
       "    </tr>\n",
       "    <tr>\n",
       "      <th>17</th>\n",
       "      <td>17</td>\n",
       "      <td>1609775700</td>\n",
       "      <td>0</td>\n",
       "      <td>2021-01-04 15:55:00</td>\n",
       "      <td>130.700103</td>\n",
       "      <td>131.250000</td>\n",
       "      <td>130.699996</td>\n",
       "      <td>131.000000</td>\n",
       "      <td>1608419.0</td>\n",
       "      <td>38.432075</td>\n",
       "      <td>False</td>\n",
       "      <td>False</td>\n",
       "    </tr>\n",
       "    <tr>\n",
       "      <th>18</th>\n",
       "      <td>18</td>\n",
       "      <td>1609776000</td>\n",
       "      <td>0</td>\n",
       "      <td>2021-01-04 16:00:00</td>\n",
       "      <td>131.134994</td>\n",
       "      <td>131.309997</td>\n",
       "      <td>130.160003</td>\n",
       "      <td>130.309997</td>\n",
       "      <td>2055970.0</td>\n",
       "      <td>30.398179</td>\n",
       "      <td>False</td>\n",
       "      <td>False</td>\n",
       "    </tr>\n",
       "  </tbody>\n",
       "</table>\n",
       "</div>"
      ],
      "text/plain": [
       "    Unnamed: 0   Timestamp  Gmtoffset             Datetime        Open  \\\n",
       "14          14  1609774800          0  2021-01-04 15:40:00  131.111297   \n",
       "15          15  1609775100          0  2021-01-04 15:45:00  131.044006   \n",
       "16          16  1609775400          0  2021-01-04 15:50:00  130.750000   \n",
       "17          17  1609775700          0  2021-01-04 15:55:00  130.700103   \n",
       "18          18  1609776000          0  2021-01-04 16:00:00  131.134994   \n",
       "\n",
       "          High         Low       Close     Volume        rsi  buy_signal  \\\n",
       "14  131.309997  131.029998  131.044998  1253385.0  35.472015       False   \n",
       "15  131.044006  130.479995  130.749893  1730254.0  31.779676       False   \n",
       "16  130.830001  130.449996  130.709793  1887654.0  31.305254       False   \n",
       "17  131.250000  130.699996  131.000000  1608419.0  38.432075       False   \n",
       "18  131.309997  130.160003  130.309997  2055970.0  30.398179       False   \n",
       "\n",
       "    sell_signal  \n",
       "14        False  \n",
       "15        False  \n",
       "16        False  \n",
       "17        False  \n",
       "18        False  "
      ]
     },
     "execution_count": 3,
     "metadata": {},
     "output_type": "execute_result"
    }
   ],
   "source": [
    "rsi_indicator = ta.momentum.RSIIndicator(close=data.Close, window=15)\n",
    "\n",
    "data['rsi'] = rsi_indicator.rsi()\n",
    "data['buy_signal'] = data['rsi'] < 20\n",
    "data['sell_signal'] = data['rsi'] > 80\n",
    "\n",
    "data = data.dropna()\n",
    "data.head()"
   ]
  },
  {
   "cell_type": "markdown",
   "id": "18ed3a05",
   "metadata": {},
   "source": [
    "## <font color='cornflowerblue'> Classes and Functions"
   ]
  },
  {
   "cell_type": "code",
   "execution_count": 4,
   "id": "2fd5ffa8",
   "metadata": {},
   "outputs": [],
   "source": [
    "from dataclasses import dataclass\n",
    "\n",
    "@dataclass\n",
    "class Position:\n",
    "    \"\"\" A cool representation of a position\n",
    "    \"\"\"\n",
    "    ticker: str\n",
    "    n_shares: int\n",
    "    price: float\n",
    "    sl: float\n",
    "    tp: float\n",
    "    margin_account: float\n",
    "    margin_requirement: float\n",
    "    time: str"
   ]
  },
  {
   "cell_type": "code",
   "execution_count": 5,
   "id": "da104e4a",
   "metadata": {},
   "outputs": [],
   "source": [
    "def get_portfolio_value(cash: float, long_ops: list[Position], short_ops: list[Position], current_price: float, n_shares: int, COM: float) -> float:\n",
    "    val = cash\n",
    "\n",
    "    # Add long positions value\n",
    "    val += len(long_ops) * current_price * n_shares\n",
    "\n",
    "    # Add short positions equity (margin_account + margin_requirement - cost to cover)\n",
    "    for pos in short_ops:\n",
    "        cover_cost = current_price * pos.n_shares * (1 + COM)  # include commission\n",
    "        val += pos.margin_account + pos.margin_requirement - cover_cost\n",
    "\n",
    "    return val"
   ]
  },
  {
   "cell_type": "markdown",
   "id": "8aec6a55",
   "metadata": {},
   "source": [
    "## <font color='cornflowerblue'> Parameters"
   ]
  },
  {
   "cell_type": "code",
   "execution_count": 6,
   "id": "8a5f5b40",
   "metadata": {},
   "outputs": [],
   "source": [
    "COM: float = 0.125 / 100\n",
    "BORROW_RATE: float = 0.25 / 100\n",
    "INITIAL_MARGIN = 0.5\n",
    "MAINTENANCE_MARGIN = 0.25\n",
    "\n",
    "# Convert annualized borrow rate to 5-min bar rate\n",
    "bars_per_year = 252 * 6.5 * 60 / 5  # 252 trading days, 6.5 hours per day, 5-min bars\n",
    "bar_borrow_rate = (1 + BORROW_RATE) ** (1 / bars_per_year) - 1\n",
    "\n",
    "# DOF\n",
    "STOP_LOSS: float = 0.1\n",
    "TAKE_PROFIT: float = 0.1\n",
    "N_SHARES: int = 50"
   ]
  },
  {
   "cell_type": "markdown",
   "id": "ca96b8f3",
   "metadata": {},
   "source": [
    "## <font color='cornflowerblue'> Backtest"
   ]
  },
  {
   "cell_type": "code",
   "execution_count": 7,
   "id": "ff502920",
   "metadata": {},
   "outputs": [],
   "source": [
    "capital: float = 1_000_000\n",
    "margin_account: float = 0\n",
    "portfolio_value = [capital]\n",
    "active_long_positions: list[Position] = []\n",
    "active_short_positions: list[Position] = []\n",
    "\n",
    "for i, row in data.iterrows():\n",
    "    # -- LONG -- #\n",
    "    # Check active orders\n",
    "    for position in active_long_positions.copy():\n",
    "        # Stop loss or take profit check\n",
    "        if row.Close > position.tp or row.Close < position.sl:\n",
    "            # Add profits / losses to capital\n",
    "            capital += row.Close * position.n_shares * (1 - COM)\n",
    "            # Remove position from active position\n",
    "            active_long_positions.remove(position)\n",
    "\n",
    "    # -- SHORT -- #\n",
    "    for position in active_short_positions.copy():\n",
    "        # Apply borrow rate to active short positions\n",
    "        cover_cost = row.Close * position.n_shares * (1 + COM)\n",
    "        position.margin_account -= row.Close * position.n_shares * bar_borrow_rate\n",
    "\n",
    "        margin_deposit = position.margin_requirement\n",
    "        equity = (position.margin_account + margin_deposit) - cover_cost\n",
    "\n",
    "        # Required Equity\n",
    "        required_equity = MAINTENANCE_MARGIN * cover_cost\n",
    "\n",
    "        # Check Margin call\n",
    "        if equity < required_equity:\n",
    "            # Margin Call\n",
    "            deposit = required_equity - equity\n",
    "            print(f'Margin Call at {row.Datetime} | Equity: {equity:.2f} | Required: {required_equity:.2f}')\n",
    "\n",
    "            if capital > deposit:\n",
    "                capital -= deposit\n",
    "            else:\n",
    "                # We have to close the position\n",
    "                capital += position.margin_account + position.margin_requirement - cover_cost\n",
    "                active_short_positions.remove(position)\n",
    "                continue\n",
    "\n",
    "        else:\n",
    "            # Stop loss or take profit check\n",
    "            if row.Close < position.tp or row.Close > position.sl:\n",
    "                # Add profits / losses to capital\n",
    "                capital += position.margin_account + position.margin_requirement - cover_cost\n",
    "                # Remove position from active position\n",
    "                active_short_positions.remove(position)\n",
    "\n",
    "    # Check Long Signal\n",
    "    if row.buy_signal:\n",
    "        cost = row.Close * N_SHARES * (1 + COM)\n",
    "\n",
    "        # Do we have enough cash?\n",
    "        if capital > cost:\n",
    "            # Discount cash\n",
    "            capital -= cost\n",
    "            # Add position to portfolio\n",
    "            pos = Position(ticker='AAPL', n_shares=N_SHARES, price=row.Close,\n",
    "                           sl=row.Close * (1 - STOP_LOSS), tp=row.Close*(1 + TAKE_PROFIT),\n",
    "                           margin_account=0, margin_requirement=0, time=row.Datetime)\n",
    "            active_long_positions.append(pos)\n",
    "\n",
    "    # Check Short Signal\n",
    "    if row.sell_signal:\n",
    "        short_value = row.Close * N_SHARES\n",
    "        margin_requirement = short_value * INITIAL_MARGIN\n",
    "        \n",
    "        # Do we have enough cash?\n",
    "        if capital > margin_requirement:\n",
    "            # Setting up the margin account\n",
    "            margin_account = row.Close * N_SHARES * (1 - COM)\n",
    "            # Discount cash\n",
    "            capital -= margin_requirement\n",
    "\n",
    "            pos = Position(ticker='AAPL', n_shares=N_SHARES, price=row.Close,\n",
    "                           sl=row.Close * (1 + STOP_LOSS), tp=row.Close*(1 - TAKE_PROFIT),\n",
    "                           margin_account=margin_account, margin_requirement=margin_requirement, time=row.Datetime)\n",
    "            active_short_positions.append(pos)\n",
    "\n",
    "    # Calculate portfolio value\n",
    "    portfolio_value.append(get_portfolio_value(capital, active_long_positions, active_short_positions, row.Close, N_SHARES, COM))\n",
    "\n",
    "# At the end of the backtesting, we should close all active positions\n",
    "capital += row.Close * len(active_long_positions) * N_SHARES * (1 - COM)\n",
    "\n",
    "for position in active_short_positions:\n",
    "    capital += position.margin_account + position.margin_requirement - (row.Close * position.n_shares * (1 + COM))\n",
    "\n",
    "active_long_positions = []\n",
    "active_short_positions = []"
   ]
  },
  {
   "cell_type": "code",
   "execution_count": 8,
   "id": "487d994c",
   "metadata": {},
   "outputs": [
    {
     "data": {
      "text/plain": [
       "1043449.9190748965"
      ]
     },
     "execution_count": 8,
     "metadata": {},
     "output_type": "execute_result"
    }
   ],
   "source": [
    "capital"
   ]
  },
  {
   "cell_type": "markdown",
   "id": "3c99633d",
   "metadata": {},
   "source": [
    "## <font color='cornflowerblue'> Plots"
   ]
  },
  {
   "cell_type": "code",
   "execution_count": 9,
   "id": "687c87cb",
   "metadata": {},
   "outputs": [
    {
     "data": {
      "image/png": "[encoded data removed]",
      "text/plain": [
       "<Figure size 640x480 with 1 Axes>"
      ]
     },
     "metadata": {},
     "output_type": "display_data"
    }
   ],
   "source": [
    "plt.plot(portfolio_value);"
   ]
  }
 ],
 "metadata": {
  "kernelspec": {
   "display_name": "base",
   "language": "python",
   "name": "python3"
  },
  "language_info": {
   "codemirror_mode": {
    "name": "ipython",
    "version": 3
   },
   "file_extension": ".py",
   "mimetype": "text/x-python",
   "name": "python",
   "nbconvert_exporter": "python",
   "pygments_lexer": "ipython3",
   "version": "3.12.3"
  }
 },
 "nbformat": 4,
 "nbformat_minor": 5
}
