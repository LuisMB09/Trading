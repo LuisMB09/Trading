{
 "cells": [
  {
   "cell_type": "markdown",
   "id": "404527d8",
   "metadata": {},
   "source": [
    "# Ejercicio"
   ]
  },
  {
   "cell_type": "markdown",
   "id": "bbcaef63",
   "metadata": {},
   "source": [
    "Trades at close\n",
    "\n",
    "Comisión: $0.125\\%$\n",
    "\n",
    "$SL=TP=5\\%$\n",
    "\n",
    "Cash: $\\$1 M$\n",
    "\n",
    "N shares: $50$\n",
    "\n",
    "No taxes\n",
    "\n",
    "No leverages\n",
    "\n",
    "Margin acc: $50\\%$\n",
    "\n",
    "Borrow rate: $0.25\\%$\n",
    "\n",
    "Time frame: $5m$"
   ]
  },
  {
   "cell_type": "code",
   "execution_count": 1,
   "id": "c94ad614",
   "metadata": {},
   "outputs": [],
   "source": [
    "import ta\n",
    "import optuna\n",
    "import warnings\n",
    "import pandas as pd\n",
    "import seaborn as sns\n",
    "import matplotlib.pyplot as plt\n",
    "\n",
    "warnings.filterwarnings(\"ignore\")\n",
    "sns.set_theme()"
   ]
  },
  {
   "cell_type": "code",
   "execution_count": 2,
   "id": "1c301784",
   "metadata": {},
   "outputs": [
    {
     "data": {
      "text/html": [
       "<div>\n",
       "<style scoped>\n",
       "    .dataframe tbody tr th:only-of-type {\n",
       "        vertical-align: middle;\n",
       "    }\n",
       "\n",
       "    .dataframe tbody tr th {\n",
       "        vertical-align: top;\n",
       "    }\n",
       "\n",
       "    .dataframe thead th {\n",
       "        text-align: right;\n",
       "    }\n",
       "</style>\n",
       "<table border=\"1\" class=\"dataframe\">\n",
       "  <thead>\n",
       "    <tr style=\"text-align: right;\">\n",
       "      <th></th>\n",
       "      <th>Unnamed: 0</th>\n",
       "      <th>Timestamp</th>\n",
       "      <th>Gmtoffset</th>\n",
       "      <th>Datetime</th>\n",
       "      <th>Open</th>\n",
       "      <th>High</th>\n",
       "      <th>Low</th>\n",
       "      <th>Close</th>\n",
       "      <th>Volume</th>\n",
       "    </tr>\n",
       "  </thead>\n",
       "  <tbody>\n",
       "    <tr>\n",
       "      <th>0</th>\n",
       "      <td>0</td>\n",
       "      <td>1609770600</td>\n",
       "      <td>0</td>\n",
       "      <td>2021-01-04 14:30:00</td>\n",
       "      <td>133.570007</td>\n",
       "      <td>133.611602</td>\n",
       "      <td>132.389999</td>\n",
       "      <td>132.809997</td>\n",
       "      <td>6624663.0</td>\n",
       "    </tr>\n",
       "    <tr>\n",
       "      <th>1</th>\n",
       "      <td>1</td>\n",
       "      <td>1609770900</td>\n",
       "      <td>0</td>\n",
       "      <td>2021-01-04 14:35:00</td>\n",
       "      <td>132.750000</td>\n",
       "      <td>132.750000</td>\n",
       "      <td>131.809997</td>\n",
       "      <td>131.889999</td>\n",
       "      <td>2541553.0</td>\n",
       "    </tr>\n",
       "    <tr>\n",
       "      <th>2</th>\n",
       "      <td>2</td>\n",
       "      <td>1609771200</td>\n",
       "      <td>0</td>\n",
       "      <td>2021-01-04 14:40:00</td>\n",
       "      <td>131.500000</td>\n",
       "      <td>132.339996</td>\n",
       "      <td>131.500000</td>\n",
       "      <td>132.059997</td>\n",
       "      <td>2492415.0</td>\n",
       "    </tr>\n",
       "    <tr>\n",
       "      <th>3</th>\n",
       "      <td>3</td>\n",
       "      <td>1609771500</td>\n",
       "      <td>0</td>\n",
       "      <td>2021-01-04 14:45:00</td>\n",
       "      <td>132.000000</td>\n",
       "      <td>132.250000</td>\n",
       "      <td>131.899993</td>\n",
       "      <td>132.250000</td>\n",
       "      <td>1859131.0</td>\n",
       "    </tr>\n",
       "    <tr>\n",
       "      <th>4</th>\n",
       "      <td>4</td>\n",
       "      <td>1609771800</td>\n",
       "      <td>0</td>\n",
       "      <td>2021-01-04 14:50:00</td>\n",
       "      <td>132.000000</td>\n",
       "      <td>132.018096</td>\n",
       "      <td>131.520004</td>\n",
       "      <td>131.589996</td>\n",
       "      <td>1780105.0</td>\n",
       "    </tr>\n",
       "  </tbody>\n",
       "</table>\n",
       "</div>"
      ],
      "text/plain": [
       "   Unnamed: 0   Timestamp  Gmtoffset             Datetime        Open  \\\n",
       "0           0  1609770600          0  2021-01-04 14:30:00  133.570007   \n",
       "1           1  1609770900          0  2021-01-04 14:35:00  132.750000   \n",
       "2           2  1609771200          0  2021-01-04 14:40:00  131.500000   \n",
       "3           3  1609771500          0  2021-01-04 14:45:00  132.000000   \n",
       "4           4  1609771800          0  2021-01-04 14:50:00  132.000000   \n",
       "\n",
       "         High         Low       Close     Volume  \n",
       "0  133.611602  132.389999  132.809997  6624663.0  \n",
       "1  132.750000  131.809997  131.889999  2541553.0  \n",
       "2  132.339996  131.500000  132.059997  2492415.0  \n",
       "3  132.250000  131.899993  132.250000  1859131.0  \n",
       "4  132.018096  131.520004  131.589996  1780105.0  "
      ]
     },
     "execution_count": 2,
     "metadata": {},
     "output_type": "execute_result"
    }
   ],
   "source": [
    "data = pd.read_csv('aapl_5m_train.csv').dropna()\n",
    "data.head()"
   ]
  },
  {
   "cell_type": "markdown",
   "id": "4dea1e1c",
   "metadata": {},
   "source": [
    "## Código no optimizado"
   ]
  },
  {
   "cell_type": "code",
   "execution_count": 3,
   "id": "40cfb528",
   "metadata": {},
   "outputs": [],
   "source": [
    "rsi_indicator = ta.momentum.RSIIndicator(data.Close, window=20)\n",
    "data['rsi'] = rsi_indicator.rsi()"
   ]
  },
  {
   "cell_type": "code",
   "execution_count": 4,
   "id": "7936b0a4",
   "metadata": {},
   "outputs": [],
   "source": [
    "historic = data.dropna()\n",
    "historic['buy_signal'] = historic.rsi < 20\n",
    "historic['sell_signal'] = historic.rsi > 80"
   ]
  },
  {
   "cell_type": "code",
   "execution_count": 5,
   "id": "1fcf13a1",
   "metadata": {},
   "outputs": [
    {
     "data": {
      "text/html": [
       "<div>\n",
       "<style scoped>\n",
       "    .dataframe tbody tr th:only-of-type {\n",
       "        vertical-align: middle;\n",
       "    }\n",
       "\n",
       "    .dataframe tbody tr th {\n",
       "        vertical-align: top;\n",
       "    }\n",
       "\n",
       "    .dataframe thead th {\n",
       "        text-align: right;\n",
       "    }\n",
       "</style>\n",
       "<table border=\"1\" class=\"dataframe\">\n",
       "  <thead>\n",
       "    <tr style=\"text-align: right;\">\n",
       "      <th></th>\n",
       "      <th>Unnamed: 0</th>\n",
       "      <th>Timestamp</th>\n",
       "      <th>Gmtoffset</th>\n",
       "      <th>Datetime</th>\n",
       "      <th>Open</th>\n",
       "      <th>High</th>\n",
       "      <th>Low</th>\n",
       "      <th>Close</th>\n",
       "      <th>Volume</th>\n",
       "      <th>rsi</th>\n",
       "      <th>buy_signal</th>\n",
       "      <th>sell_signal</th>\n",
       "    </tr>\n",
       "  </thead>\n",
       "  <tbody>\n",
       "    <tr>\n",
       "      <th>19</th>\n",
       "      <td>19</td>\n",
       "      <td>1609776300</td>\n",
       "      <td>0</td>\n",
       "      <td>2021-01-04 16:05:00</td>\n",
       "      <td>130.309997</td>\n",
       "      <td>130.549896</td>\n",
       "      <td>129.660003</td>\n",
       "      <td>129.866699</td>\n",
       "      <td>3030766.0</td>\n",
       "      <td>26.683236</td>\n",
       "      <td>False</td>\n",
       "      <td>False</td>\n",
       "    </tr>\n",
       "    <tr>\n",
       "      <th>20</th>\n",
       "      <td>20</td>\n",
       "      <td>1609776600</td>\n",
       "      <td>0</td>\n",
       "      <td>2021-01-04 16:10:00</td>\n",
       "      <td>129.860000</td>\n",
       "      <td>130.239898</td>\n",
       "      <td>129.399993</td>\n",
       "      <td>130.089996</td>\n",
       "      <td>2231137.0</td>\n",
       "      <td>30.749593</td>\n",
       "      <td>False</td>\n",
       "      <td>False</td>\n",
       "    </tr>\n",
       "    <tr>\n",
       "      <th>21</th>\n",
       "      <td>21</td>\n",
       "      <td>1609776900</td>\n",
       "      <td>0</td>\n",
       "      <td>2021-01-04 16:15:00</td>\n",
       "      <td>130.080093</td>\n",
       "      <td>130.354995</td>\n",
       "      <td>129.904602</td>\n",
       "      <td>130.324996</td>\n",
       "      <td>1328068.0</td>\n",
       "      <td>34.758166</td>\n",
       "      <td>False</td>\n",
       "      <td>False</td>\n",
       "    </tr>\n",
       "    <tr>\n",
       "      <th>22</th>\n",
       "      <td>22</td>\n",
       "      <td>1609777200</td>\n",
       "      <td>0</td>\n",
       "      <td>2021-01-04 16:20:00</td>\n",
       "      <td>130.324005</td>\n",
       "      <td>130.419998</td>\n",
       "      <td>129.930099</td>\n",
       "      <td>129.996398</td>\n",
       "      <td>1233893.0</td>\n",
       "      <td>32.029264</td>\n",
       "      <td>False</td>\n",
       "      <td>False</td>\n",
       "    </tr>\n",
       "    <tr>\n",
       "      <th>23</th>\n",
       "      <td>23</td>\n",
       "      <td>1609777500</td>\n",
       "      <td>0</td>\n",
       "      <td>2021-01-04 16:25:00</td>\n",
       "      <td>129.994995</td>\n",
       "      <td>130.206695</td>\n",
       "      <td>129.880004</td>\n",
       "      <td>129.895004</td>\n",
       "      <td>1144809.0</td>\n",
       "      <td>31.232801</td>\n",
       "      <td>False</td>\n",
       "      <td>False</td>\n",
       "    </tr>\n",
       "  </tbody>\n",
       "</table>\n",
       "</div>"
      ],
      "text/plain": [
       "    Unnamed: 0   Timestamp  Gmtoffset             Datetime        Open  \\\n",
       "19          19  1609776300          0  2021-01-04 16:05:00  130.309997   \n",
       "20          20  1609776600          0  2021-01-04 16:10:00  129.860000   \n",
       "21          21  1609776900          0  2021-01-04 16:15:00  130.080093   \n",
       "22          22  1609777200          0  2021-01-04 16:20:00  130.324005   \n",
       "23          23  1609777500          0  2021-01-04 16:25:00  129.994995   \n",
       "\n",
       "          High         Low       Close     Volume        rsi  buy_signal  \\\n",
       "19  130.549896  129.660003  129.866699  3030766.0  26.683236       False   \n",
       "20  130.239898  129.399993  130.089996  2231137.0  30.749593       False   \n",
       "21  130.354995  129.904602  130.324996  1328068.0  34.758166       False   \n",
       "22  130.419998  129.930099  129.996398  1233893.0  32.029264       False   \n",
       "23  130.206695  129.880004  129.895004  1144809.0  31.232801       False   \n",
       "\n",
       "    sell_signal  \n",
       "19        False  \n",
       "20        False  \n",
       "21        False  \n",
       "22        False  \n",
       "23        False  "
      ]
     },
     "execution_count": 5,
     "metadata": {},
     "output_type": "execute_result"
    }
   ],
   "source": [
    "historic.head()"
   ]
  },
  {
   "cell_type": "code",
   "execution_count": 6,
   "id": "aa745de4",
   "metadata": {},
   "outputs": [],
   "source": [
    "from dataclasses import dataclass\n",
    "\n",
    "@dataclass\n",
    "class Operation:\n",
    "    time: str\n",
    "    price: float\n",
    "    stop_loss: float\n",
    "    take_profit: float\n",
    "    n_shares: int\n",
    "    type: str"
   ]
  },
  {
   "cell_type": "code",
   "execution_count": 7,
   "id": "c69bbc74",
   "metadata": {},
   "outputs": [],
   "source": [
    "def get_portfolio_value(cash: float, long_ops: list[Operation], short_ops: list[Operation], current_price:float, n_shares: int) -> float:\n",
    "    val = cash\n",
    "\n",
    "    # Add long positions value\n",
    "    val += len(long_ops) * current_price * n_shares\n",
    "\n",
    "    # TODO: Add short positions value\n",
    "    return val"
   ]
  },
  {
   "cell_type": "code",
   "execution_count": 8,
   "id": "157b73cf",
   "metadata": {},
   "outputs": [],
   "source": [
    "COM = 0.125 / 100\n",
    "SL = 0.1\n",
    "TP = 0.1\n",
    "BORROW_RATE = 0.25 / 100\n",
    "\n",
    "cash = 1_000_000\n",
    "n_shares = 200\n",
    "\n",
    "active_long_positions: list[Operation] = []\n",
    "\n",
    "portfolio_value = [cash]\n",
    "\n",
    "for i, row in historic.iterrows():\n",
    "    # This only works for long positions\n",
    "    \n",
    "    # Close positions\n",
    "    for position in active_long_positions.copy():\n",
    "        if row.Close > position.take_profit or row.Close < position.stop_loss:\n",
    "            cash += row.Close * position.n_shares * (1 - COM)\n",
    "            active_long_positions.remove(position)\n",
    "    # --- BUY ---\n",
    "    # Check signal\n",
    "    if not row.buy_signal:\n",
    "        portfolio_value.append(get_portfolio_value(cash, active_long_positions, [], row.Close, n_shares))\n",
    "        continue\n",
    "    # Do we have enough cash?\n",
    "    if cash < row.Close * n_shares * (1 + COM):\n",
    "        portfolio_value.append(get_portfolio_value(cash, active_long_positions, [], row.Close, n_shares))\n",
    "        continue\n",
    "    # Discount the cost\n",
    "    cash -= row.Close * n_shares * (1 + COM)\n",
    "    # Save the operation as active position\n",
    "    active_long_positions.append(\n",
    "        Operation(\n",
    "        time=row.Datetime,\n",
    "        price=row.Close,\n",
    "        take_profit=row.Close * (1 + TP),\n",
    "        stop_loss=row.Close * (1 - SL),\n",
    "        n_shares=n_shares,\n",
    "        type=\"LONG\"\n",
    "        )\n",
    "    )\n",
    "\n",
    "    portfolio_value.append(get_portfolio_value(cash, active_long_positions, [], row.Close, n_shares))\n",
    "\n",
    "cash += row.Close * len(active_long_positions) * n_shares * (1 - COM)\n",
    "active_long_positions = []"
   ]
  },
  {
   "cell_type": "code",
   "execution_count": 9,
   "id": "a3d1403b",
   "metadata": {},
   "outputs": [
    {
     "data": {
      "text/plain": [
       "(1175409.6117202505, 0)"
      ]
     },
     "execution_count": 9,
     "metadata": {},
     "output_type": "execute_result"
    }
   ],
   "source": [
    "cash, len(active_long_positions)"
   ]
  },
  {
   "cell_type": "markdown",
   "id": "ac26f043",
   "metadata": {},
   "source": [
    "## Código optimizado"
   ]
  },
  {
   "cell_type": "code",
   "execution_count": 10,
   "id": "ea195ee7",
   "metadata": {},
   "outputs": [],
   "source": [
    "from dataclasses import dataclass\n",
    "\n",
    "@dataclass\n",
    "class Operation:\n",
    "    time: str\n",
    "    price: float\n",
    "    stop_loss: float\n",
    "    take_profit: float\n",
    "    n_shares: int\n",
    "    type: str"
   ]
  },
  {
   "cell_type": "code",
   "execution_count": 11,
   "id": "bca69a28",
   "metadata": {},
   "outputs": [],
   "source": [
    "def get_portfolio_value(cash: float, long_ops: list[Operation], short_ops: list[Operation], current_price:float, n_shares: int) -> float:\n",
    "    val = cash\n",
    "\n",
    "    # Add long positions value\n",
    "    val += len(long_ops) * current_price * n_shares\n",
    "\n",
    "    # TODO: Add short positions value\n",
    "    return val"
   ]
  },
  {
   "cell_type": "code",
   "execution_count": 12,
   "id": "b70a8683",
   "metadata": {},
   "outputs": [],
   "source": [
    "def backtest(data, trial) -> float:\n",
    "    data = data.copy()\n",
    "\n",
    "    rsi_window = trial.suggest_int('rsi_window', 5, 50)\n",
    "    rsi_lower = trial.suggest_int('rsi_lower', 5, 35)\n",
    "    rsi_upper = trial.suggest_int('rsi_upper', 65, 95)\n",
    "    stop_loss = trial.suggest_float('stop_loss', 0.01, 0.15)\n",
    "    take_profit = trial.suggest_float('take_profit', 0.01, 0.15)\n",
    "    n_shares = trial.suggest_int('n_shares', 50, 500)\n",
    "\n",
    "    rsi_indicator = ta.momentum.RSIIndicator(data.Close, window=rsi_window)\n",
    "    data['rsi'] = rsi_indicator.rsi()\n",
    "\n",
    "    historic = data.dropna()\n",
    "    historic['buy_signal'] = historic.rsi < rsi_lower\n",
    "    historic['sell_signal'] = historic.rsi > rsi_upper\n",
    "\n",
    "    COM = 0.125 / 100\n",
    "    SL = 0.1\n",
    "    TP = 0.1\n",
    "    BORROW_RATE = 0.25 / 100\n",
    "\n",
    "    cash = 1_000_000\n",
    "\n",
    "    active_long_positions: list[Operation] = []\n",
    "\n",
    "    portfolio_value = [cash]\n",
    "\n",
    "    for i, row in historic.iterrows():\n",
    "        # This only works for long positions\n",
    "        \n",
    "        # Close positions\n",
    "        for position in active_long_positions.copy():\n",
    "            if row.Close > position.take_profit or row.Close < position.stop_loss:\n",
    "                cash += row.Close * position.n_shares * (1 - COM)\n",
    "                active_long_positions.remove(position)\n",
    "        # --- BUY ---\n",
    "        # Check signal\n",
    "        if not row.buy_signal:\n",
    "            portfolio_value.append(get_portfolio_value(cash, active_long_positions, [], row.Close, n_shares))\n",
    "            continue\n",
    "        # Do we have enough cash?\n",
    "        if cash < row.Close * n_shares * (1 + COM):\n",
    "            portfolio_value.append(get_portfolio_value(cash, active_long_positions, [], row.Close, n_shares))\n",
    "            continue\n",
    "        # Discount the cost\n",
    "        cash -= row.Close * n_shares * (1 + COM)\n",
    "        # Save the operation as active position\n",
    "        active_long_positions.append(\n",
    "            Operation(\n",
    "            time=row.Datetime,\n",
    "            price=row.Close,\n",
    "            take_profit=row.Close * (1 + TP),\n",
    "            stop_loss=row.Close * (1 - SL),\n",
    "            n_shares=n_shares,\n",
    "            type=\"LONG\"\n",
    "            )\n",
    "        )\n",
    "\n",
    "        portfolio_value.append(get_portfolio_value(cash, active_long_positions, [], row.Close, n_shares))\n",
    "\n",
    "    cash += row.Close * len(active_long_positions) * n_shares * (1 - COM)\n",
    "    active_long_positions = []\n",
    "\n",
    "    return (cash / 1_000_000) - 1"
   ]
  },
  {
   "cell_type": "code",
   "execution_count": 13,
   "id": "a45e9629",
   "metadata": {},
   "outputs": [
    {
     "name": "stderr",
     "output_type": "stream",
     "text": [
      "[I 2025-09-12 09:26:29,727] A new study created in memory with name: no-name-6a6b6728-e9ad-4997-beaa-ad8b84936827\n",
      "[I 2025-09-12 09:26:34,267] Trial 0 finished with value: 0.0 and parameters: {'rsi_window': 47, 'rsi_lower': 16, 'rsi_upper': 90, 'stop_loss': 0.14967875238421385, 'take_profit': 0.12419913264916642, 'n_shares': 420}. Best is trial 0 with value: 0.0.\n",
      "[I 2025-09-12 09:26:34,548] Trial 6 finished with value: 0.028786927879644875 and parameters: {'rsi_window': 20, 'rsi_lower': 11, 'rsi_upper': 91, 'stop_loss': 0.06647958523781908, 'take_profit': 0.010169150911082994, 'n_shares': 377}. Best is trial 6 with value: 0.028786927879644875.\n",
      "[I 2025-09-12 09:26:35,151] Trial 1 finished with value: 0.025435740355142844 and parameters: {'rsi_window': 41, 'rsi_lower': 21, 'rsi_upper': 71, 'stop_loss': 0.039392512796291176, 'take_profit': 0.12480597707058957, 'n_shares': 118}. Best is trial 6 with value: 0.028786927879644875.\n",
      "[I 2025-09-12 09:26:39,603] Trial 4 finished with value: 0.22133421216424454 and parameters: {'rsi_window': 18, 'rsi_lower': 20, 'rsi_upper': 66, 'stop_loss': 0.11690097967030488, 'take_profit': 0.11287554350961998, 'n_shares': 237}. Best is trial 4 with value: 0.22133421216424454.\n",
      "[I 2025-09-12 09:26:39,876] Trial 7 finished with value: 0.19867679988875064 and parameters: {'rsi_window': 37, 'rsi_lower': 27, 'rsi_upper': 86, 'stop_loss': 0.11319022982704605, 'take_profit': 0.13646180739558555, 'n_shares': 200}. Best is trial 4 with value: 0.22133421216424454.\n",
      "[I 2025-09-12 09:26:40,228] Trial 9 finished with value: 0.0 and parameters: {'rsi_window': 43, 'rsi_lower': 14, 'rsi_upper': 84, 'stop_loss': 0.11345810629766416, 'take_profit': 0.015941735358998597, 'n_shares': 72}. Best is trial 4 with value: 0.22133421216424454.\n",
      "[I 2025-09-12 09:26:41,295] Trial 5 finished with value: 0.05834295524358102 and parameters: {'rsi_window': 14, 'rsi_lower': 20, 'rsi_upper': 72, 'stop_loss': 0.014680224133607232, 'take_profit': 0.05814006245353649, 'n_shares': 476}. Best is trial 4 with value: 0.22133421216424454.\n",
      "[I 2025-09-12 09:26:43,342] Trial 8 finished with value: 0.2330377841916489 and parameters: {'rsi_window': 22, 'rsi_lower': 22, 'rsi_upper': 81, 'stop_loss': 0.05961753787718935, 'take_profit': 0.07516992783777511, 'n_shares': 230}. Best is trial 8 with value: 0.2330377841916489.\n",
      "[I 2025-09-12 09:26:43,821] Trial 3 finished with value: 0.05130063301212595 and parameters: {'rsi_window': 26, 'rsi_lower': 29, 'rsi_upper': 86, 'stop_loss': 0.12041530407168927, 'take_profit': 0.14165672435035603, 'n_shares': 322}. Best is trial 8 with value: 0.2330377841916489.\n",
      "[I 2025-09-12 09:26:50,468] Trial 2 finished with value: -0.10373515050189086 and parameters: {'rsi_window': 15, 'rsi_lower': 30, 'rsi_upper': 82, 'stop_loss': 0.09070124410304752, 'take_profit': 0.1385943593040577, 'n_shares': 79}. Best is trial 8 with value: 0.2330377841916489.\n"
     ]
    }
   ],
   "source": [
    "study = optuna.create_study(direction='maximize')\n",
    "study.optimize(lambda trial: backtest(data, trial), n_trials=10, n_jobs=-1)"
   ]
  },
  {
   "cell_type": "code",
   "execution_count": 14,
   "id": "698940cb",
   "metadata": {},
   "outputs": [
    {
     "data": {
      "text/plain": [
       "{'rsi_window': 22,\n",
       " 'rsi_lower': 22,\n",
       " 'rsi_upper': 81,\n",
       " 'stop_loss': 0.05961753787718935,\n",
       " 'take_profit': 0.07516992783777511,\n",
       " 'n_shares': 230}"
      ]
     },
     "execution_count": 14,
     "metadata": {},
     "output_type": "execute_result"
    }
   ],
   "source": [
    "study.best_params"
   ]
  },
  {
   "cell_type": "code",
   "execution_count": 15,
   "id": "54ca49fc",
   "metadata": {},
   "outputs": [
    {
     "data": {
      "text/plain": [
       "0.2330377841916489"
      ]
     },
     "execution_count": 15,
     "metadata": {},
     "output_type": "execute_result"
    }
   ],
   "source": [
    "study.best_value"
   ]
  },
  {
   "cell_type": "code",
   "execution_count": 16,
   "id": "bc05fd77",
   "metadata": {},
   "outputs": [
    {
     "data": {
      "text/plain": [
       "[<matplotlib.lines.Line2D at 0x175419af0>]"
      ]
     },
     "execution_count": 16,
     "metadata": {},
     "output_type": "execute_result"
    },
    {
     "data": {
      "image/png": "[encoded data removed]",
      "text/plain": [
       "<Figure size 640x480 with 1 Axes>"
      ]
     },
     "metadata": {},
     "output_type": "display_data"
    }
   ],
   "source": [
    "plt.plot(portfolio_value)"
   ]
  }
 ],
 "metadata": {
  "kernelspec": {
   "display_name": "base",
   "language": "python",
   "name": "python3"
  },
  "language_info": {
   "codemirror_mode": {
    "name": "ipython",
    "version": 3
   },
   "file_extension": ".py",
   "mimetype": "text/x-python",
   "name": "python",
   "nbconvert_exporter": "python",
   "pygments_lexer": "ipython3",
   "version": "3.12.3"
  }
 },
 "nbformat": 4,
 "nbformat_minor": 5
}
