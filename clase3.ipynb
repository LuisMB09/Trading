{
 "cells": [
  {
   "cell_type": "markdown",
   "id": "404527d8",
   "metadata": {},
   "source": [
    "# <font color='navy'> Backtest"
   ]
  },
  {
   "cell_type": "code",
   "execution_count": 1,
   "id": "c94ad614",
   "metadata": {},
   "outputs": [],
   "source": [
    "import ta\n",
    "import optuna\n",
    "import warnings\n",
    "import numpy as np\n",
    "import pandas as pd\n",
    "import seaborn as sns\n",
    "import matplotlib.pyplot as plt\n",
    "\n",
    "sns.set_theme()\n",
    "np.random.seed(42)\n",
    "warnings.filterwarnings(\"ignore\")"
   ]
  },
  {
   "cell_type": "code",
   "execution_count": 2,
   "id": "b46a2f08",
   "metadata": {},
   "outputs": [],
   "source": [
    "from dataclasses import dataclass\n",
    "\n",
    "\n",
    "@dataclass\n",
    "class Operation:\n",
    "    time: str\n",
    "    price: float\n",
    "    stop_loss: float\n",
    "    take_profit: float\n",
    "    n_shares: int\n",
    "    type: str"
   ]
  },
  {
   "cell_type": "code",
   "execution_count": 3,
   "id": "e7b914f5",
   "metadata": {},
   "outputs": [],
   "source": [
    "def get_portfolio_value(cash: float, long_ops: list[Operation], short_ops: list[Operation], current_price:float, n_shares: int) -> float:\n",
    "    val = cash\n",
    "\n",
    "    # Add long positions value\n",
    "    val += len(long_ops) * current_price * n_shares\n",
    "\n",
    "    # TODO: Add short positions value\n",
    "    return val"
   ]
  },
  {
   "cell_type": "code",
   "execution_count": 4,
   "id": "1c301784",
   "metadata": {},
   "outputs": [
    {
     "data": {
      "text/html": [
       "<div>\n",
       "<style scoped>\n",
       "    .dataframe tbody tr th:only-of-type {\n",
       "        vertical-align: middle;\n",
       "    }\n",
       "\n",
       "    .dataframe tbody tr th {\n",
       "        vertical-align: top;\n",
       "    }\n",
       "\n",
       "    .dataframe thead th {\n",
       "        text-align: right;\n",
       "    }\n",
       "</style>\n",
       "<table border=\"1\" class=\"dataframe\">\n",
       "  <thead>\n",
       "    <tr style=\"text-align: right;\">\n",
       "      <th></th>\n",
       "      <th>Unnamed: 0</th>\n",
       "      <th>Timestamp</th>\n",
       "      <th>Gmtoffset</th>\n",
       "      <th>Datetime</th>\n",
       "      <th>Open</th>\n",
       "      <th>High</th>\n",
       "      <th>Low</th>\n",
       "      <th>Close</th>\n",
       "      <th>Volume</th>\n",
       "    </tr>\n",
       "  </thead>\n",
       "  <tbody>\n",
       "    <tr>\n",
       "      <th>0</th>\n",
       "      <td>0</td>\n",
       "      <td>1609770600</td>\n",
       "      <td>0</td>\n",
       "      <td>2021-01-04 14:30:00</td>\n",
       "      <td>133.570007</td>\n",
       "      <td>133.611602</td>\n",
       "      <td>132.389999</td>\n",
       "      <td>132.809997</td>\n",
       "      <td>6624663.0</td>\n",
       "    </tr>\n",
       "    <tr>\n",
       "      <th>1</th>\n",
       "      <td>1</td>\n",
       "      <td>1609770900</td>\n",
       "      <td>0</td>\n",
       "      <td>2021-01-04 14:35:00</td>\n",
       "      <td>132.750000</td>\n",
       "      <td>132.750000</td>\n",
       "      <td>131.809997</td>\n",
       "      <td>131.889999</td>\n",
       "      <td>2541553.0</td>\n",
       "    </tr>\n",
       "    <tr>\n",
       "      <th>2</th>\n",
       "      <td>2</td>\n",
       "      <td>1609771200</td>\n",
       "      <td>0</td>\n",
       "      <td>2021-01-04 14:40:00</td>\n",
       "      <td>131.500000</td>\n",
       "      <td>132.339996</td>\n",
       "      <td>131.500000</td>\n",
       "      <td>132.059997</td>\n",
       "      <td>2492415.0</td>\n",
       "    </tr>\n",
       "    <tr>\n",
       "      <th>3</th>\n",
       "      <td>3</td>\n",
       "      <td>1609771500</td>\n",
       "      <td>0</td>\n",
       "      <td>2021-01-04 14:45:00</td>\n",
       "      <td>132.000000</td>\n",
       "      <td>132.250000</td>\n",
       "      <td>131.899993</td>\n",
       "      <td>132.250000</td>\n",
       "      <td>1859131.0</td>\n",
       "    </tr>\n",
       "    <tr>\n",
       "      <th>4</th>\n",
       "      <td>4</td>\n",
       "      <td>1609771800</td>\n",
       "      <td>0</td>\n",
       "      <td>2021-01-04 14:50:00</td>\n",
       "      <td>132.000000</td>\n",
       "      <td>132.018096</td>\n",
       "      <td>131.520004</td>\n",
       "      <td>131.589996</td>\n",
       "      <td>1780105.0</td>\n",
       "    </tr>\n",
       "  </tbody>\n",
       "</table>\n",
       "</div>"
      ],
      "text/plain": [
       "   Unnamed: 0   Timestamp  Gmtoffset             Datetime        Open  \\\n",
       "0           0  1609770600          0  2021-01-04 14:30:00  133.570007   \n",
       "1           1  1609770900          0  2021-01-04 14:35:00  132.750000   \n",
       "2           2  1609771200          0  2021-01-04 14:40:00  131.500000   \n",
       "3           3  1609771500          0  2021-01-04 14:45:00  132.000000   \n",
       "4           4  1609771800          0  2021-01-04 14:50:00  132.000000   \n",
       "\n",
       "         High         Low       Close     Volume  \n",
       "0  133.611602  132.389999  132.809997  6624663.0  \n",
       "1  132.750000  131.809997  131.889999  2541553.0  \n",
       "2  132.339996  131.500000  132.059997  2492415.0  \n",
       "3  132.250000  131.899993  132.250000  1859131.0  \n",
       "4  132.018096  131.520004  131.589996  1780105.0  "
      ]
     },
     "execution_count": 4,
     "metadata": {},
     "output_type": "execute_result"
    }
   ],
   "source": [
    "data = pd.read_csv('aapl_5m_train.csv').dropna()\n",
    "data.head()"
   ]
  },
  {
   "cell_type": "markdown",
   "id": "ac26f043",
   "metadata": {},
   "source": [
    "## <font color='cornflowerblue'> Optimización de hiperparámetros"
   ]
  },
  {
   "cell_type": "code",
   "execution_count": 5,
   "id": "b70a8683",
   "metadata": {},
   "outputs": [],
   "source": [
    "def backtest(data, trial) -> float:\n",
    "    data = data.copy()\n",
    "\n",
    "    rsi_window = trial.suggest_int('rsi_window', 5, 50)\n",
    "    rsi_lower = trial.suggest_int('rsi_lower', 5, 35)\n",
    "    rsi_upper = trial.suggest_int('rsi_upper', 65, 95)\n",
    "    stop_loss = trial.suggest_float('stop_loss', 0.01, 0.15)\n",
    "    take_profit = trial.suggest_float('take_profit', 0.01, 0.15)\n",
    "    n_shares = trial.suggest_int('n_shares', 50, 500)\n",
    "\n",
    "    rsi_indicator = ta.momentum.RSIIndicator(data.Close, window=rsi_window)\n",
    "    data['rsi'] = rsi_indicator.rsi()\n",
    "\n",
    "    historic = data.dropna()\n",
    "    historic['buy_signal'] = historic.rsi < rsi_lower\n",
    "    historic['sell_signal'] = historic.rsi > rsi_upper\n",
    "\n",
    "    COM = 0.125 / 100\n",
    "    SL = stop_loss\n",
    "    TP = take_profit\n",
    "    BORROW_RATE = 0.25 / 100\n",
    "\n",
    "    cash = 1_000_000\n",
    "\n",
    "    active_long_positions: list[Operation] = []\n",
    "\n",
    "    portfolio_value = [cash]\n",
    "\n",
    "    for i, row in historic.iterrows():\n",
    "        # This only works for long positions\n",
    "\n",
    "        # Close positions\n",
    "        for position in active_long_positions.copy():\n",
    "            if row.Close > position.take_profit or row.Close < position.stop_loss:\n",
    "                cash += row.Close * position.n_shares * (1 - COM)\n",
    "                active_long_positions.remove(position)\n",
    "        # --- BUY ---\n",
    "        # Check signal\n",
    "        if not row.buy_signal:\n",
    "            portfolio_value.append(get_portfolio_value(\n",
    "                cash, active_long_positions, [], row.Close, n_shares))\n",
    "            continue\n",
    "        # Do we have enough cash?\n",
    "        if cash < row.Close * n_shares * (1 + COM):\n",
    "            portfolio_value.append(get_portfolio_value(\n",
    "                cash, active_long_positions, [], row.Close, n_shares))\n",
    "            continue\n",
    "        # Discount the cost\n",
    "        cash -= row.Close * n_shares * (1 + COM)\n",
    "        # Save the operation as active position\n",
    "        active_long_positions.append(\n",
    "            Operation(\n",
    "                time=row.Datetime,\n",
    "                price=row.Close,\n",
    "                take_profit=row.Close * (1 + TP),\n",
    "                stop_loss=row.Close * (1 - SL),\n",
    "                n_shares=n_shares,\n",
    "                type=\"LONG\"\n",
    "            )\n",
    "        )\n",
    "\n",
    "        portfolio_value.append(get_portfolio_value(\n",
    "            cash, active_long_positions, [], row.Close, n_shares))\n",
    "\n",
    "    cash += row.Close * len(active_long_positions) * n_shares * (1 - COM)\n",
    "    active_long_positions = []\n",
    "\n",
    "    return (cash / 1_000_000) - 1"
   ]
  },
  {
   "cell_type": "code",
   "execution_count": 6,
   "id": "a45e9629",
   "metadata": {},
   "outputs": [
    {
     "name": "stderr",
     "output_type": "stream",
     "text": [
      "[I 2025-09-12 14:43:31,116] A new study created in memory with name: no-name-5c3b104b-9b82-4163-a180-d72243817159\n",
      "[I 2025-09-12 14:43:35,717] Trial 0 finished with value: 0.04505014870496016 and parameters: {'rsi_window': 33, 'rsi_lower': 17, 'rsi_upper': 89, 'stop_loss': 0.13040106906229132, 'take_profit': 0.06308636384879657, 'n_shares': 448}. Best is trial 0 with value: 0.04505014870496016.\n",
      "[I 2025-09-12 14:43:36,138] Trial 4 finished with value: 0.0139164698063734 and parameters: {'rsi_window': 18, 'rsi_lower': 14, 'rsi_upper': 65, 'stop_loss': 0.14964270411590352, 'take_profit': 0.018959315601868944, 'n_shares': 231}. Best is trial 0 with value: 0.04505014870496016.\n",
      "[I 2025-09-12 14:43:36,230] Trial 7 finished with value: 0.0 and parameters: {'rsi_window': 28, 'rsi_lower': 7, 'rsi_upper': 92, 'stop_loss': 0.02961341841096447, 'take_profit': 0.0697516226563137, 'n_shares': 169}. Best is trial 0 with value: 0.04505014870496016.\n",
      "[I 2025-09-12 14:43:38,509] Trial 6 finished with value: -0.0674016600184183 and parameters: {'rsi_window': 9, 'rsi_lower': 15, 'rsi_upper': 94, 'stop_loss': 0.06189009944426125, 'take_profit': 0.026039114210019754, 'n_shares': 364}. Best is trial 0 with value: 0.04505014870496016.\n",
      "[I 2025-09-12 14:43:38,912] Trial 1 finished with value: 0.022334730466132324 and parameters: {'rsi_window': 35, 'rsi_lower': 28, 'rsi_upper': 89, 'stop_loss': 0.06944743484169527, 'take_profit': 0.03973934623267665, 'n_shares': 78}. Best is trial 0 with value: 0.04505014870496016.\n",
      "[I 2025-09-12 14:43:39,860] Trial 5 finished with value: -0.17164911505607083 and parameters: {'rsi_window': 44, 'rsi_lower': 33, 'rsi_upper': 74, 'stop_loss': 0.026914331056461908, 'take_profit': 0.10004849942207411, 'n_shares': 462}. Best is trial 0 with value: 0.04505014870496016.\n",
      "[I 2025-09-12 14:43:42,474] Trial 8 finished with value: -0.02657325991081494 and parameters: {'rsi_window': 31, 'rsi_lower': 25, 'rsi_upper': 79, 'stop_loss': 0.046063480375739776, 'take_profit': 0.013164739514668764, 'n_shares': 228}. Best is trial 0 with value: 0.04505014870496016.\n",
      "[I 2025-09-12 14:43:43,400] Trial 10 finished with value: -0.0033894531293441332 and parameters: {'rsi_window': 36, 'rsi_lower': 21, 'rsi_upper': 93, 'stop_loss': 0.012794035841214432, 'take_profit': 0.06835372001617912, 'n_shares': 75}. Best is trial 0 with value: 0.04505014870496016.\n",
      "[I 2025-09-12 14:43:46,913] Trial 3 finished with value: -0.16803823014049335 and parameters: {'rsi_window': 7, 'rsi_lower': 22, 'rsi_upper': 77, 'stop_loss': 0.11817043276277493, 'take_profit': 0.048611739485556874, 'n_shares': 429}. Best is trial 0 with value: 0.04505014870496016.\n",
      "[I 2025-09-12 14:43:47,644] Trial 13 finished with value: 0.017649993288375576 and parameters: {'rsi_window': 45, 'rsi_lower': 28, 'rsi_upper': 94, 'stop_loss': 0.12545644240602574, 'take_profit': 0.02160365715331693, 'n_shares': 90}. Best is trial 0 with value: 0.04505014870496016.\n",
      "[I 2025-09-12 14:43:49,774] Trial 11 finished with value: 0.21775773673940035 and parameters: {'rsi_window': 29, 'rsi_lower': 24, 'rsi_upper': 83, 'stop_loss': 0.10852374575631632, 'take_profit': 0.10432302114649022, 'n_shares': 185}. Best is trial 11 with value: 0.21775773673940035.\n",
      "[I 2025-09-12 14:43:49,959] Trial 14 finished with value: 0.0 and parameters: {'rsi_window': 47, 'rsi_lower': 10, 'rsi_upper': 70, 'stop_loss': 0.12185744738622349, 'take_profit': 0.09852299161029712, 'n_shares': 197}. Best is trial 11 with value: 0.21775773673940035.\n",
      "[I 2025-09-12 14:43:52,715] Trial 12 finished with value: 0.16720017365828777 and parameters: {'rsi_window': 39, 'rsi_lower': 28, 'rsi_upper': 75, 'stop_loss': 0.11832863756562273, 'take_profit': 0.11546749008290197, 'n_shares': 109}. Best is trial 11 with value: 0.21775773673940035.\n",
      "[I 2025-09-12 14:43:52,831] Trial 16 finished with value: -0.0010007564083795994 and parameters: {'rsi_window': 30, 'rsi_lower': 15, 'rsi_upper': 88, 'stop_loss': 0.020165833270161637, 'take_profit': 0.11281980755653712, 'n_shares': 188}. Best is trial 11 with value: 0.21775773673940035.\n",
      "[I 2025-09-12 14:43:53,657] Trial 17 finished with value: 0.0 and parameters: {'rsi_window': 19, 'rsi_lower': 5, 'rsi_upper': 86, 'stop_loss': 0.09889829113149896, 'take_profit': 0.1447347236875003, 'n_shares': 342}. Best is trial 11 with value: 0.21775773673940035.\n",
      "[I 2025-09-12 14:43:57,327] Trial 9 finished with value: -0.20275506312761826 and parameters: {'rsi_window': 13, 'rsi_lower': 27, 'rsi_upper': 79, 'stop_loss': 0.05020718956005541, 'take_profit': 0.12116751954250232, 'n_shares': 304}. Best is trial 11 with value: 0.21775773673940035.\n",
      "[I 2025-09-12 14:43:57,617] Trial 19 finished with value: 0.1559560856880975 and parameters: {'rsi_window': 22, 'rsi_lower': 16, 'rsi_upper': 85, 'stop_loss': 0.09199219243596043, 'take_profit': 0.14304762499922866, 'n_shares': 338}. Best is trial 11 with value: 0.21775773673940035.\n",
      "[I 2025-09-12 14:44:00,740] Trial 18 finished with value: 0.31801728730057377 and parameters: {'rsi_window': 15, 'rsi_lower': 16, 'rsi_upper': 86, 'stop_loss': 0.09769769673853777, 'take_profit': 0.143210837414618, 'n_shares': 326}. Best is trial 18 with value: 0.31801728730057377.\n",
      "[I 2025-09-12 14:44:04,177] Trial 2 finished with value: -0.10557680454318374 and parameters: {'rsi_window': 15, 'rsi_lower': 30, 'rsi_upper': 81, 'stop_loss': 0.09073012452026702, 'take_profit': 0.08210103506061905, 'n_shares': 157}. Best is trial 18 with value: 0.31801728730057377.\n",
      "[I 2025-09-12 14:44:04,344] Trial 15 finished with value: -0.16603639157618566 and parameters: {'rsi_window': 13, 'rsi_lower': 26, 'rsi_upper': 88, 'stop_loss': 0.07611270081726924, 'take_profit': 0.05914265281279923, 'n_shares': 241}. Best is trial 18 with value: 0.31801728730057377.\n",
      "[I 2025-09-12 14:44:13,055] Trial 27 finished with value: 0.019125963290625103 and parameters: {'rsi_window': 22, 'rsi_lower': 11, 'rsi_upper': 83, 'stop_loss': 0.10365948629891986, 'take_profit': 0.13145847953947246, 'n_shares': 285}. Best is trial 18 with value: 0.31801728730057377.\n",
      "[I 2025-09-12 14:44:19,187] Trial 26 finished with value: 0.35101006176089733 and parameters: {'rsi_window': 24, 'rsi_lower': 23, 'rsi_upper': 82, 'stop_loss': 0.10079890645439747, 'take_profit': 0.1281961812045678, 'n_shares': 391}. Best is trial 26 with value: 0.35101006176089733.\n",
      "[I 2025-09-12 14:44:20,139] Trial 21 finished with value: -0.08279213742360791 and parameters: {'rsi_window': 21, 'rsi_lower': 32, 'rsi_upper': 83, 'stop_loss': 0.09268554030486105, 'take_profit': 0.1487508338473707, 'n_shares': 322}. Best is trial 26 with value: 0.35101006176089733.\n",
      "[I 2025-09-12 14:44:21,721] Trial 28 finished with value: 0.024640184855065916 and parameters: {'rsi_window': 39, 'rsi_lower': 19, 'rsi_upper': 74, 'stop_loss': 0.10637817671398388, 'take_profit': 0.12513533744486494, 'n_shares': 123}. Best is trial 26 with value: 0.35101006176089733.\n",
      "[I 2025-09-12 14:44:22,581] Trial 20 finished with value: -0.020960211186260458 and parameters: {'rsi_window': 21, 'rsi_lower': 34, 'rsi_upper': 83, 'stop_loss': 0.09753793592098396, 'take_profit': 0.14682160182953108, 'n_shares': 316}. Best is trial 26 with value: 0.35101006176089733.\n",
      "[I 2025-09-12 14:44:28,534] Trial 29 finished with value: 0.23932251737545385 and parameters: {'rsi_window': 24, 'rsi_lower': 19, 'rsi_upper': 83, 'stop_loss': 0.10716233275221579, 'take_profit': 0.13201057268265168, 'n_shares': 413}. Best is trial 26 with value: 0.35101006176089733.\n",
      "[I 2025-09-12 14:44:32,211] Trial 23 finished with value: -0.005848158009012505 and parameters: {'rsi_window': 41, 'rsi_lower': 35, 'rsi_upper': 83, 'stop_loss': 0.10186578171367584, 'take_profit': 0.08938824909565656, 'n_shares': 141}. Best is trial 26 with value: 0.35101006176089733.\n",
      "[I 2025-09-12 14:44:32,284] Trial 25 finished with value: 0.030769565946105804 and parameters: {'rsi_window': 23, 'rsi_lower': 35, 'rsi_upper': 83, 'stop_loss': 0.09720522829324457, 'take_profit': 0.13283557909527083, 'n_shares': 284}. Best is trial 26 with value: 0.35101006176089733.\n",
      "[I 2025-09-12 14:44:34,204] Trial 30 finished with value: 0.3769857006695334 and parameters: {'rsi_window': 24, 'rsi_lower': 23, 'rsi_upper': 82, 'stop_loss': 0.10770636396151018, 'take_profit': 0.12979785841382427, 'n_shares': 394}. Best is trial 30 with value: 0.3769857006695334.\n",
      "[I 2025-09-12 14:44:35,533] Trial 24 finished with value: 0.023880005012765215 and parameters: {'rsi_window': 39, 'rsi_lower': 35, 'rsi_upper': 82, 'stop_loss': 0.10113148476290373, 'take_profit': 0.09078257306820002, 'n_shares': 131}. Best is trial 30 with value: 0.3769857006695334.\n",
      "[I 2025-09-12 14:44:36,730] Trial 32 finished with value: 0.40405254527075174 and parameters: {'rsi_window': 24, 'rsi_lower': 23, 'rsi_upper': 81, 'stop_loss': 0.14010970023105299, 'take_profit': 0.10293306213931133, 'n_shares': 394}. Best is trial 32 with value: 0.40405254527075174.\n",
      "[I 2025-09-12 14:44:37,266] Trial 31 finished with value: 0.2951819298394507 and parameters: {'rsi_window': 24, 'rsi_lower': 24, 'rsi_upper': 81, 'stop_loss': 0.13714240964098157, 'take_profit': 0.10124357192806202, 'n_shares': 395}. Best is trial 32 with value: 0.40405254527075174.\n",
      "[I 2025-09-12 14:44:37,470] Trial 33 finished with value: 0.2322758450283824 and parameters: {'rsi_window': 26, 'rsi_lower': 19, 'rsi_upper': 86, 'stop_loss': 0.13984380243385544, 'take_profit': 0.13128934667295997, 'n_shares': 499}. Best is trial 32 with value: 0.40405254527075174.\n",
      "[I 2025-09-12 14:44:40,490] Trial 34 finished with value: 0.2348267105898878 and parameters: {'rsi_window': 26, 'rsi_lower': 19, 'rsi_upper': 86, 'stop_loss': 0.08363326919802555, 'take_profit': 0.13296483769920736, 'n_shares': 497}. Best is trial 32 with value: 0.40405254527075174.\n",
      "[I 2025-09-12 14:44:40,606] Trial 35 finished with value: 0.2048535263726854 and parameters: {'rsi_window': 25, 'rsi_lower': 19, 'rsi_upper': 86, 'stop_loss': 0.14243851347903222, 'take_profit': 0.1319761125875762, 'n_shares': 394}. Best is trial 32 with value: 0.40405254527075174.\n",
      "[I 2025-09-12 14:44:42,412] Trial 22 finished with value: -0.12123604738176741 and parameters: {'rsi_window': 22, 'rsi_lower': 33, 'rsi_upper': 83, 'stop_loss': 0.0977598647983821, 'take_profit': 0.13089008518004253, 'n_shares': 117}. Best is trial 32 with value: 0.40405254527075174.\n",
      "[I 2025-09-12 14:44:44,313] Trial 36 finished with value: 0.4478418564737663 and parameters: {'rsi_window': 25, 'rsi_lower': 22, 'rsi_upper': 90, 'stop_loss': 0.13948251326772546, 'take_profit': 0.13805991986348903, 'n_shares': 494}. Best is trial 36 with value: 0.4478418564737663.\n",
      "[I 2025-09-12 14:44:46,029] Trial 37 finished with value: 0.3898742658675516 and parameters: {'rsi_window': 26, 'rsi_lower': 22, 'rsi_upper': 91, 'stop_loss': 0.14133089736024532, 'take_profit': 0.1373769381118109, 'n_shares': 383}. Best is trial 36 with value: 0.4478418564737663.\n",
      "[I 2025-09-12 14:44:46,925] Trial 38 finished with value: 0.32655284641545523 and parameters: {'rsi_window': 26, 'rsi_lower': 22, 'rsi_upper': 86, 'stop_loss': 0.14115930277709057, 'take_profit': 0.11230886220173836, 'n_shares': 374}. Best is trial 36 with value: 0.4478418564737663.\n",
      "[I 2025-09-12 14:44:51,615] Trial 39 finished with value: 0.09271741943821077 and parameters: {'rsi_window': 17, 'rsi_lower': 22, 'rsi_upper': 90, 'stop_loss': 0.08306575720274367, 'take_profit': 0.11164441090048552, 'n_shares': 388}. Best is trial 36 with value: 0.4478418564737663.\n",
      "[I 2025-09-12 14:44:52,107] Trial 40 finished with value: 0.11425776748867245 and parameters: {'rsi_window': 17, 'rsi_lower': 22, 'rsi_upper': 77, 'stop_loss': 0.08305048352853016, 'take_profit': 0.11089454495677888, 'n_shares': 374}. Best is trial 36 with value: 0.4478418564737663.\n",
      "[I 2025-09-12 14:44:53,967] Trial 44 finished with value: 0.17893040816574035 and parameters: {'rsi_window': 33, 'rsi_lower': 22, 'rsi_upper': 90, 'stop_loss': 0.12997706539258813, 'take_profit': 0.11203677450547514, 'n_shares': 456}. Best is trial 36 with value: 0.4478418564737663.\n",
      "[I 2025-09-12 14:44:55,309] Trial 45 finished with value: 0.1518663866587202 and parameters: {'rsi_window': 34, 'rsi_lower': 22, 'rsi_upper': 91, 'stop_loss': 0.14958407070113217, 'take_profit': 0.11163254187368903, 'n_shares': 456}. Best is trial 36 with value: 0.4478418564737663.\n",
      "[I 2025-09-12 14:44:55,760] Trial 41 finished with value: 0.08034672814137056 and parameters: {'rsi_window': 17, 'rsi_lower': 22, 'rsi_upper': 77, 'stop_loss': 0.11483982078553603, 'take_profit': 0.11275321289486127, 'n_shares': 444}. Best is trial 36 with value: 0.4478418564737663.\n",
      "[I 2025-09-12 14:44:58,614] Trial 43 finished with value: 0.11342359430005078 and parameters: {'rsi_window': 17, 'rsi_lower': 23, 'rsi_upper': 90, 'stop_loss': 0.0832360263353681, 'take_profit': 0.11377968724791093, 'n_shares': 370}. Best is trial 36 with value: 0.4478418564737663.\n",
      "[I 2025-09-12 14:44:59,769] Trial 42 finished with value: 0.0357351877609573 and parameters: {'rsi_window': 15, 'rsi_lower': 22, 'rsi_upper': 90, 'stop_loss': 0.13015696606966143, 'take_profit': 0.11522220684857996, 'n_shares': 445}. Best is trial 36 with value: 0.4478418564737663.\n",
      "[I 2025-09-12 14:45:01,819] Trial 47 finished with value: 0.41542071255345414 and parameters: {'rsi_window': 32, 'rsi_lower': 25, 'rsi_upper': 91, 'stop_loss': 0.13179143625836406, 'take_profit': 0.12103461311215141, 'n_shares': 451}. Best is trial 36 with value: 0.4478418564737663.\n",
      "[I 2025-09-12 14:45:02,854] Trial 46 finished with value: 0.06102105947437608 and parameters: {'rsi_window': 34, 'rsi_lower': 30, 'rsi_upper': 91, 'stop_loss': 0.14935749717451333, 'take_profit': 0.1194822831583915, 'n_shares': 462}. Best is trial 36 with value: 0.4478418564737663.\n",
      "[I 2025-09-12 14:45:02,873] Trial 49 finished with value: 0.37434386203859993 and parameters: {'rsi_window': 31, 'rsi_lower': 24, 'rsi_upper': 91, 'stop_loss': 0.1477807790903617, 'take_profit': 0.12240361886850788, 'n_shares': 430}. Best is trial 36 with value: 0.4478418564737663.\n",
      "[I 2025-09-12 14:45:03,706] Trial 48 finished with value: 0.10530284576209592 and parameters: {'rsi_window': 33, 'rsi_lower': 30, 'rsi_upper': 91, 'stop_loss': 0.14999569418298705, 'take_profit': 0.12127234205371935, 'n_shares': 452}. Best is trial 36 with value: 0.4478418564737663.\n"
     ]
    }
   ],
   "source": [
    "study = optuna.create_study(direction='maximize')\n",
    "study.optimize(lambda trial: backtest(data, trial), n_trials=50, n_jobs=-1)"
   ]
  },
  {
   "cell_type": "markdown",
   "id": "7a103ede",
   "metadata": {},
   "source": [
    "## <font color='cornflowerblue'> Resultados"
   ]
  },
  {
   "cell_type": "code",
   "execution_count": 7,
   "id": "698940cb",
   "metadata": {},
   "outputs": [
    {
     "data": {
      "text/plain": [
       "{'rsi_window': 25,\n",
       " 'rsi_lower': 22,\n",
       " 'rsi_upper': 90,\n",
       " 'stop_loss': 0.13948251326772546,\n",
       " 'take_profit': 0.13805991986348903,\n",
       " 'n_shares': 494}"
      ]
     },
     "execution_count": 7,
     "metadata": {},
     "output_type": "execute_result"
    }
   ],
   "source": [
    "study.best_params"
   ]
  },
  {
   "cell_type": "code",
   "execution_count": 8,
   "id": "54ca49fc",
   "metadata": {},
   "outputs": [
    {
     "data": {
      "text/plain": [
       "0.4478418564737663"
      ]
     },
     "execution_count": 8,
     "metadata": {},
     "output_type": "execute_result"
    }
   ],
   "source": [
    "study.best_value"
   ]
  },
  {
   "cell_type": "markdown",
   "id": "6c825790",
   "metadata": {},
   "source": [
    "## <font color='cornflowerblue'> Uso de resultados óptimos"
   ]
  },
  {
   "cell_type": "code",
   "execution_count": 9,
   "id": "e8f1846d",
   "metadata": {},
   "outputs": [],
   "source": [
    "window = study.best_params['rsi_window']\n",
    "lower = study.best_params['rsi_lower']\n",
    "upper = study.best_params['rsi_upper']\n",
    "\n",
    "SL = study.best_params['stop_loss']\n",
    "TP = study.best_params['take_profit']\n",
    "n_shares = study.best_params['n_shares']\n",
    "\n",
    "COM = 0.125 / 100\n",
    "BORROW_RATE = 0.25 / 100\n",
    "cash = 1_000_000"
   ]
  },
  {
   "cell_type": "code",
   "execution_count": 10,
   "id": "bd326290",
   "metadata": {},
   "outputs": [
    {
     "data": {
      "text/html": [
       "<div>\n",
       "<style scoped>\n",
       "    .dataframe tbody tr th:only-of-type {\n",
       "        vertical-align: middle;\n",
       "    }\n",
       "\n",
       "    .dataframe tbody tr th {\n",
       "        vertical-align: top;\n",
       "    }\n",
       "\n",
       "    .dataframe thead th {\n",
       "        text-align: right;\n",
       "    }\n",
       "</style>\n",
       "<table border=\"1\" class=\"dataframe\">\n",
       "  <thead>\n",
       "    <tr style=\"text-align: right;\">\n",
       "      <th></th>\n",
       "      <th>Unnamed: 0</th>\n",
       "      <th>Timestamp</th>\n",
       "      <th>Gmtoffset</th>\n",
       "      <th>Datetime</th>\n",
       "      <th>Open</th>\n",
       "      <th>High</th>\n",
       "      <th>Low</th>\n",
       "      <th>Close</th>\n",
       "      <th>Volume</th>\n",
       "    </tr>\n",
       "  </thead>\n",
       "  <tbody>\n",
       "    <tr>\n",
       "      <th>0</th>\n",
       "      <td>0</td>\n",
       "      <td>1609770600</td>\n",
       "      <td>0</td>\n",
       "      <td>2021-01-04 14:30:00</td>\n",
       "      <td>133.570007</td>\n",
       "      <td>133.611602</td>\n",
       "      <td>132.389999</td>\n",
       "      <td>132.809997</td>\n",
       "      <td>6624663.0</td>\n",
       "    </tr>\n",
       "    <tr>\n",
       "      <th>1</th>\n",
       "      <td>1</td>\n",
       "      <td>1609770900</td>\n",
       "      <td>0</td>\n",
       "      <td>2021-01-04 14:35:00</td>\n",
       "      <td>132.750000</td>\n",
       "      <td>132.750000</td>\n",
       "      <td>131.809997</td>\n",
       "      <td>131.889999</td>\n",
       "      <td>2541553.0</td>\n",
       "    </tr>\n",
       "    <tr>\n",
       "      <th>2</th>\n",
       "      <td>2</td>\n",
       "      <td>1609771200</td>\n",
       "      <td>0</td>\n",
       "      <td>2021-01-04 14:40:00</td>\n",
       "      <td>131.500000</td>\n",
       "      <td>132.339996</td>\n",
       "      <td>131.500000</td>\n",
       "      <td>132.059997</td>\n",
       "      <td>2492415.0</td>\n",
       "    </tr>\n",
       "    <tr>\n",
       "      <th>3</th>\n",
       "      <td>3</td>\n",
       "      <td>1609771500</td>\n",
       "      <td>0</td>\n",
       "      <td>2021-01-04 14:45:00</td>\n",
       "      <td>132.000000</td>\n",
       "      <td>132.250000</td>\n",
       "      <td>131.899993</td>\n",
       "      <td>132.250000</td>\n",
       "      <td>1859131.0</td>\n",
       "    </tr>\n",
       "    <tr>\n",
       "      <th>4</th>\n",
       "      <td>4</td>\n",
       "      <td>1609771800</td>\n",
       "      <td>0</td>\n",
       "      <td>2021-01-04 14:50:00</td>\n",
       "      <td>132.000000</td>\n",
       "      <td>132.018096</td>\n",
       "      <td>131.520004</td>\n",
       "      <td>131.589996</td>\n",
       "      <td>1780105.0</td>\n",
       "    </tr>\n",
       "  </tbody>\n",
       "</table>\n",
       "</div>"
      ],
      "text/plain": [
       "   Unnamed: 0   Timestamp  Gmtoffset             Datetime        Open  \\\n",
       "0           0  1609770600          0  2021-01-04 14:30:00  133.570007   \n",
       "1           1  1609770900          0  2021-01-04 14:35:00  132.750000   \n",
       "2           2  1609771200          0  2021-01-04 14:40:00  131.500000   \n",
       "3           3  1609771500          0  2021-01-04 14:45:00  132.000000   \n",
       "4           4  1609771800          0  2021-01-04 14:50:00  132.000000   \n",
       "\n",
       "         High         Low       Close     Volume  \n",
       "0  133.611602  132.389999  132.809997  6624663.0  \n",
       "1  132.750000  131.809997  131.889999  2541553.0  \n",
       "2  132.339996  131.500000  132.059997  2492415.0  \n",
       "3  132.250000  131.899993  132.250000  1859131.0  \n",
       "4  132.018096  131.520004  131.589996  1780105.0  "
      ]
     },
     "execution_count": 10,
     "metadata": {},
     "output_type": "execute_result"
    }
   ],
   "source": [
    "data = pd.read_csv('aapl_5m_train.csv').dropna()\n",
    "data.head()"
   ]
  },
  {
   "cell_type": "code",
   "execution_count": 11,
   "id": "dbeb4231",
   "metadata": {},
   "outputs": [],
   "source": [
    "rsi_indicator = ta.momentum.RSIIndicator(data.Close, window=window)\n",
    "data['rsi'] = rsi_indicator.rsi()"
   ]
  },
  {
   "cell_type": "code",
   "execution_count": 12,
   "id": "ea3d2471",
   "metadata": {},
   "outputs": [],
   "source": [
    "historic = data.dropna()\n",
    "historic['buy_signal'] = historic.rsi < lower\n",
    "historic['sell_signal'] = historic.rsi > upper"
   ]
  },
  {
   "cell_type": "code",
   "execution_count": 13,
   "id": "66f67f16",
   "metadata": {},
   "outputs": [],
   "source": [
    "active_long_positions: list[Operation] = []\n",
    "\n",
    "portfolio_value = [cash]\n",
    "\n",
    "for i, row in historic.iterrows():\n",
    "    # This only works for long positions\n",
    "\n",
    "    # Close positions\n",
    "    for position in active_long_positions.copy():\n",
    "        if row.Close > position.take_profit or row.Close < position.stop_loss:\n",
    "            cash += row.Close * position.n_shares * (1 - COM)\n",
    "            active_long_positions.remove(position)\n",
    "    # --- BUY ---\n",
    "    # Check signal\n",
    "    if not row.buy_signal:\n",
    "        portfolio_value.append(get_portfolio_value(\n",
    "            cash, active_long_positions, [], row.Close, n_shares))\n",
    "        continue\n",
    "    # Do we have enough cash?\n",
    "    if cash < row.Close * n_shares * (1 + COM):\n",
    "        portfolio_value.append(get_portfolio_value(\n",
    "            cash, active_long_positions, [], row.Close, n_shares))\n",
    "        continue\n",
    "    # Discount the cost\n",
    "    cash -= row.Close * n_shares * (1 + COM)\n",
    "    # Save the operation as active position\n",
    "    active_long_positions.append(\n",
    "        Operation(\n",
    "            time=row.Datetime,\n",
    "            price=row.Close,\n",
    "            take_profit=row.Close * (1 + TP),\n",
    "            stop_loss=row.Close * (1 - SL),\n",
    "            n_shares=n_shares,\n",
    "            type=\"LONG\"\n",
    "        )\n",
    "    )\n",
    "\n",
    "    portfolio_value.append(get_portfolio_value(\n",
    "        cash, active_long_positions, [], row.Close, n_shares))\n",
    "\n",
    "cash += row.Close * len(active_long_positions) * n_shares * (1 - COM)\n",
    "active_long_positions = []"
   ]
  },
  {
   "cell_type": "code",
   "execution_count": 14,
   "id": "f54c756c",
   "metadata": {},
   "outputs": [
    {
     "data": {
      "text/plain": [
       "(1447841.8564737663, 0)"
      ]
     },
     "execution_count": 14,
     "metadata": {},
     "output_type": "execute_result"
    }
   ],
   "source": [
    "cash, len(active_long_positions)"
   ]
  },
  {
   "cell_type": "code",
   "execution_count": 15,
   "id": "bc05fd77",
   "metadata": {},
   "outputs": [
    {
     "data": {
      "image/png": "[encoded data removed]",
      "text/plain": [
       "<Figure size 640x480 with 1 Axes>"
      ]
     },
     "metadata": {},
     "output_type": "display_data"
    }
   ],
   "source": [
    "plt.plot(portfolio_value, color = 'navy')\n",
    "plt.title('Portfolio Value Over Time')\n",
    "plt.xlabel('Time')\n",
    "plt.ylabel('Portfolio Value ($)')\n",
    "plt.show()"
   ]
  }
 ],
 "metadata": {
  "kernelspec": {
   "display_name": "base",
   "language": "python",
   "name": "python3"
  },
  "language_info": {
   "codemirror_mode": {
    "name": "ipython",
    "version": 3
   },
   "file_extension": ".py",
   "mimetype": "text/x-python",
   "name": "python",
   "nbconvert_exporter": "python",
   "pygments_lexer": "ipython3",
   "version": "3.12.3"
  }
 },
 "nbformat": 4,
 "nbformat_minor": 5
}
