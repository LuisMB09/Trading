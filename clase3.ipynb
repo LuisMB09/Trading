{
 "cells": [
  {
   "cell_type": "markdown",
   "id": "404527d8",
   "metadata": {},
   "source": [
    "# <font color='navy'> Backtest"
   ]
  },
  {
   "cell_type": "code",
   "execution_count": 1,
   "id": "c94ad614",
   "metadata": {},
   "outputs": [],
   "source": [
    "import ta\n",
    "import optuna\n",
    "import warnings\n",
    "import numpy as np\n",
    "import pandas as pd\n",
    "import seaborn as sns\n",
    "import matplotlib.pyplot as plt\n",
    "\n",
    "sns.set_theme()\n",
    "np.random.seed(42)\n",
    "warnings.filterwarnings(\"ignore\")"
   ]
  },
  {
   "cell_type": "code",
   "execution_count": 2,
   "id": "b46a2f08",
   "metadata": {},
   "outputs": [],
   "source": [
    "from dataclasses import dataclass\n",
    "\n",
    "\n",
    "@dataclass\n",
    "class Operation:\n",
    "    time: str\n",
    "    price: float\n",
    "    stop_loss: float\n",
    "    take_profit: float\n",
    "    n_shares: int\n",
    "    type: str"
   ]
  },
  {
   "cell_type": "code",
   "execution_count": 3,
   "id": "e7b914f5",
   "metadata": {},
   "outputs": [],
   "source": [
    "def get_portfolio_value(cash: float, long_ops: list[Operation], short_ops: list[Operation], current_price:float, n_shares: int) -> float:\n",
    "    val = cash\n",
    "\n",
    "    # Add long positions value\n",
    "    val += len(long_ops) * current_price * n_shares\n",
    "\n",
    "    # TODO: Add short positions value\n",
    "    return val"
   ]
  },
  {
   "cell_type": "code",
   "execution_count": 4,
   "id": "1c301784",
   "metadata": {},
   "outputs": [
    {
     "data": {
      "text/html": [
       "<div>\n",
       "<style scoped>\n",
       "    .dataframe tbody tr th:only-of-type {\n",
       "        vertical-align: middle;\n",
       "    }\n",
       "\n",
       "    .dataframe tbody tr th {\n",
       "        vertical-align: top;\n",
       "    }\n",
       "\n",
       "    .dataframe thead th {\n",
       "        text-align: right;\n",
       "    }\n",
       "</style>\n",
       "<table border=\"1\" class=\"dataframe\">\n",
       "  <thead>\n",
       "    <tr style=\"text-align: right;\">\n",
       "      <th></th>\n",
       "      <th>Unnamed: 0</th>\n",
       "      <th>Timestamp</th>\n",
       "      <th>Gmtoffset</th>\n",
       "      <th>Datetime</th>\n",
       "      <th>Open</th>\n",
       "      <th>High</th>\n",
       "      <th>Low</th>\n",
       "      <th>Close</th>\n",
       "      <th>Volume</th>\n",
       "    </tr>\n",
       "  </thead>\n",
       "  <tbody>\n",
       "    <tr>\n",
       "      <th>0</th>\n",
       "      <td>0</td>\n",
       "      <td>1609770600</td>\n",
       "      <td>0</td>\n",
       "      <td>2021-01-04 14:30:00</td>\n",
       "      <td>133.570007</td>\n",
       "      <td>133.611602</td>\n",
       "      <td>132.389999</td>\n",
       "      <td>132.809997</td>\n",
       "      <td>6624663.0</td>\n",
       "    </tr>\n",
       "    <tr>\n",
       "      <th>1</th>\n",
       "      <td>1</td>\n",
       "      <td>1609770900</td>\n",
       "      <td>0</td>\n",
       "      <td>2021-01-04 14:35:00</td>\n",
       "      <td>132.750000</td>\n",
       "      <td>132.750000</td>\n",
       "      <td>131.809997</td>\n",
       "      <td>131.889999</td>\n",
       "      <td>2541553.0</td>\n",
       "    </tr>\n",
       "    <tr>\n",
       "      <th>2</th>\n",
       "      <td>2</td>\n",
       "      <td>1609771200</td>\n",
       "      <td>0</td>\n",
       "      <td>2021-01-04 14:40:00</td>\n",
       "      <td>131.500000</td>\n",
       "      <td>132.339996</td>\n",
       "      <td>131.500000</td>\n",
       "      <td>132.059997</td>\n",
       "      <td>2492415.0</td>\n",
       "    </tr>\n",
       "    <tr>\n",
       "      <th>3</th>\n",
       "      <td>3</td>\n",
       "      <td>1609771500</td>\n",
       "      <td>0</td>\n",
       "      <td>2021-01-04 14:45:00</td>\n",
       "      <td>132.000000</td>\n",
       "      <td>132.250000</td>\n",
       "      <td>131.899993</td>\n",
       "      <td>132.250000</td>\n",
       "      <td>1859131.0</td>\n",
       "    </tr>\n",
       "    <tr>\n",
       "      <th>4</th>\n",
       "      <td>4</td>\n",
       "      <td>1609771800</td>\n",
       "      <td>0</td>\n",
       "      <td>2021-01-04 14:50:00</td>\n",
       "      <td>132.000000</td>\n",
       "      <td>132.018096</td>\n",
       "      <td>131.520004</td>\n",
       "      <td>131.589996</td>\n",
       "      <td>1780105.0</td>\n",
       "    </tr>\n",
       "  </tbody>\n",
       "</table>\n",
       "</div>"
      ],
      "text/plain": [
       "   Unnamed: 0   Timestamp  Gmtoffset             Datetime        Open  \\\n",
       "0           0  1609770600          0  2021-01-04 14:30:00  133.570007   \n",
       "1           1  1609770900          0  2021-01-04 14:35:00  132.750000   \n",
       "2           2  1609771200          0  2021-01-04 14:40:00  131.500000   \n",
       "3           3  1609771500          0  2021-01-04 14:45:00  132.000000   \n",
       "4           4  1609771800          0  2021-01-04 14:50:00  132.000000   \n",
       "\n",
       "         High         Low       Close     Volume  \n",
       "0  133.611602  132.389999  132.809997  6624663.0  \n",
       "1  132.750000  131.809997  131.889999  2541553.0  \n",
       "2  132.339996  131.500000  132.059997  2492415.0  \n",
       "3  132.250000  131.899993  132.250000  1859131.0  \n",
       "4  132.018096  131.520004  131.589996  1780105.0  "
      ]
     },
     "execution_count": 4,
     "metadata": {},
     "output_type": "execute_result"
    }
   ],
   "source": [
    "data = pd.read_csv('aapl_5m_train.csv').dropna()\n",
    "data.head()"
   ]
  },
  {
   "cell_type": "markdown",
   "id": "ac26f043",
   "metadata": {},
   "source": [
    "## <font color='cornflowerblue'> Optimización de hiperparámetros"
   ]
  },
  {
   "cell_type": "code",
   "execution_count": 5,
   "id": "b70a8683",
   "metadata": {},
   "outputs": [],
   "source": [
    "def backtest(data, trial) -> float:\n",
    "    data = data.copy()\n",
    "\n",
    "    rsi_window = trial.suggest_int('rsi_window', 5, 50)\n",
    "    rsi_lower = trial.suggest_int('rsi_lower', 5, 35)\n",
    "    rsi_upper = trial.suggest_int('rsi_upper', 65, 95)\n",
    "    stop_loss = trial.suggest_float('stop_loss', 0.01, 0.15)\n",
    "    take_profit = trial.suggest_float('take_profit', 0.01, 0.15)\n",
    "    n_shares = trial.suggest_int('n_shares', 50, 500)\n",
    "\n",
    "    rsi_indicator = ta.momentum.RSIIndicator(data.Close, window=rsi_window)\n",
    "    data['rsi'] = rsi_indicator.rsi()\n",
    "\n",
    "    historic = data.dropna()\n",
    "    historic['buy_signal'] = historic.rsi < rsi_lower\n",
    "    historic['sell_signal'] = historic.rsi > rsi_upper\n",
    "\n",
    "    COM = 0.125 / 100\n",
    "    SL = stop_loss\n",
    "    TP = take_profit\n",
    "    BORROW_RATE = 0.25 / 100\n",
    "\n",
    "    cash = 1_000_000\n",
    "\n",
    "    active_long_positions: list[Operation] = []\n",
    "\n",
    "    portfolio_value = [cash]\n",
    "\n",
    "    for i, row in historic.iterrows():\n",
    "        # This only works for long positions\n",
    "\n",
    "        # Close positions\n",
    "        for position in active_long_positions.copy():\n",
    "            if row.Close > position.take_profit or row.Close < position.stop_loss:\n",
    "                cash += row.Close * position.n_shares * (1 - COM)\n",
    "                active_long_positions.remove(position)\n",
    "        # --- BUY ---\n",
    "        # Check signal\n",
    "        if not row.buy_signal:\n",
    "            portfolio_value.append(get_portfolio_value(\n",
    "                cash, active_long_positions, [], row.Close, n_shares))\n",
    "            continue\n",
    "        # Do we have enough cash?\n",
    "        if cash < row.Close * n_shares * (1 + COM):\n",
    "            portfolio_value.append(get_portfolio_value(\n",
    "                cash, active_long_positions, [], row.Close, n_shares))\n",
    "            continue\n",
    "        # Discount the cost\n",
    "        cash -= row.Close * n_shares * (1 + COM)\n",
    "        # Save the operation as active position\n",
    "        active_long_positions.append(\n",
    "            Operation(\n",
    "                time=row.Datetime,\n",
    "                price=row.Close,\n",
    "                take_profit=row.Close * (1 + TP),\n",
    "                stop_loss=row.Close * (1 - SL),\n",
    "                n_shares=n_shares,\n",
    "                type=\"LONG\"\n",
    "            )\n",
    "        )\n",
    "\n",
    "        portfolio_value.append(get_portfolio_value(\n",
    "            cash, active_long_positions, [], row.Close, n_shares))\n",
    "\n",
    "    cash += row.Close * len(active_long_positions) * n_shares * (1 - COM)\n",
    "    active_long_positions = []\n",
    "\n",
    "    return (cash / 1_000_000) - 1"
   ]
  },
  {
   "cell_type": "code",
   "execution_count": 6,
   "id": "0a893658",
   "metadata": {},
   "outputs": [
    {
     "name": "stderr",
     "output_type": "stream",
     "text": [
      "[I 2025-09-12 17:00:15,924] A new study created in memory with name: no-name-aeb1fc6d-a4f5-4dbe-aaf2-229c2d6c85ab\n",
      "[I 2025-09-12 17:00:21,072] Trial 6 finished with value: -0.017763603500594805 and parameters: {'rsi_window': 21, 'rsi_lower': 15, 'rsi_upper': 87, 'stop_loss': 0.05345848364838883, 'take_profit': 0.02534571505145592, 'n_shares': 327}. Best is trial 6 with value: -0.017763603500594805.\n",
      "[I 2025-09-12 17:00:21,422] Trial 5 finished with value: 0.01106156458580232 and parameters: {'rsi_window': 40, 'rsi_lower': 17, 'rsi_upper': 85, 'stop_loss': 0.10967897384470258, 'take_profit': 0.10062042470981696, 'n_shares': 462}. Best is trial 5 with value: 0.01106156458580232.\n",
      "[I 2025-09-12 17:00:21,575] Trial 2 finished with value: 0.0 and parameters: {'rsi_window': 37, 'rsi_lower': 11, 'rsi_upper': 88, 'stop_loss': 0.06379629582075605, 'take_profit': 0.04583966888812951, 'n_shares': 121}. Best is trial 5 with value: 0.01106156458580232.\n",
      "[I 2025-09-12 17:00:28,154] Trial 8 finished with value: 0.010450054772250805 and parameters: {'rsi_window': 20, 'rsi_lower': 18, 'rsi_upper': 90, 'stop_loss': 0.14994717547244707, 'take_profit': 0.010058597615236793, 'n_shares': 152}. Best is trial 5 with value: 0.01106156458580232.\n",
      "[I 2025-09-12 17:00:29,024] Trial 10 finished with value: 0.0 and parameters: {'rsi_window': 25, 'rsi_lower': 6, 'rsi_upper': 94, 'stop_loss': 0.0735342330592927, 'take_profit': 0.06840405742224968, 'n_shares': 312}. Best is trial 5 with value: 0.01106156458580232.\n",
      "[I 2025-09-12 17:00:31,039] Trial 1 finished with value: -0.10534626946043213 and parameters: {'rsi_window': 50, 'rsi_lower': 35, 'rsi_upper': 85, 'stop_loss': 0.03826984434012087, 'take_profit': 0.12875171926362505, 'n_shares': 191}. Best is trial 5 with value: 0.01106156458580232.\n",
      "[I 2025-09-12 17:00:32,200] Trial 9 finished with value: -0.042700481846831395 and parameters: {'rsi_window': 9, 'rsi_lower': 17, 'rsi_upper': 84, 'stop_loss': 0.027093339775184935, 'take_profit': 0.06278926157150161, 'n_shares': 93}. Best is trial 5 with value: 0.01106156458580232.\n",
      "[I 2025-09-12 17:00:32,329] Trial 0 finished with value: -0.02803180906571212 and parameters: {'rsi_window': 19, 'rsi_lower': 26, 'rsi_upper': 66, 'stop_loss': 0.08327784730567647, 'take_profit': 0.044537457431318955, 'n_shares': 92}. Best is trial 5 with value: 0.01106156458580232.\n",
      "[I 2025-09-12 17:00:33,152] Trial 3 finished with value: -0.011313522365853257 and parameters: {'rsi_window': 24, 'rsi_lower': 35, 'rsi_upper': 85, 'stop_loss': 0.04015520735220511, 'take_profit': 0.13547356283330406, 'n_shares': 483}. Best is trial 5 with value: 0.01106156458580232.\n",
      "[I 2025-09-12 17:00:33,793] Trial 11 finished with value: 0.0 and parameters: {'rsi_window': 25, 'rsi_lower': 6, 'rsi_upper': 93, 'stop_loss': 0.1068229354243565, 'take_profit': 0.11158866049749086, 'n_shares': 312}. Best is trial 5 with value: 0.01106156458580232.\n",
      "[I 2025-09-12 17:00:34,594] Trial 12 finished with value: 0.0 and parameters: {'rsi_window': 41, 'rsi_lower': 10, 'rsi_upper': 79, 'stop_loss': 0.13670149165469, 'take_profit': 0.10342300307977181, 'n_shares': 363}. Best is trial 5 with value: 0.01106156458580232.\n",
      "[I 2025-09-12 17:00:36,587] Trial 13 finished with value: 0.01564194805216146 and parameters: {'rsi_window': 9, 'rsi_lower': 5, 'rsi_upper': 72, 'stop_loss': 0.07845088529267943, 'take_profit': 0.05881948441428666, 'n_shares': 367}. Best is trial 13 with value: 0.01564194805216146.\n",
      "[I 2025-09-12 17:00:37,045] Trial 7 finished with value: 0.1068701042691409 and parameters: {'rsi_window': 16, 'rsi_lower': 23, 'rsi_upper': 86, 'stop_loss': 0.07313054845138509, 'take_profit': 0.10109954628036973, 'n_shares': 114}. Best is trial 7 with value: 0.1068701042691409.\n",
      "[I 2025-09-12 17:00:37,637] Trial 15 finished with value: 0.0 and parameters: {'rsi_window': 42, 'rsi_lower': 14, 'rsi_upper': 65, 'stop_loss': 0.14870842508100843, 'take_profit': 0.1416516864159538, 'n_shares': 162}. Best is trial 7 with value: 0.1068701042691409.\n",
      "[I 2025-09-12 17:00:39,931] Trial 16 finished with value: 0.22305876299340888 and parameters: {'rsi_window': 39, 'rsi_lower': 25, 'rsi_upper': 73, 'stop_loss': 0.12827987560420312, 'take_profit': 0.0985153542100865, 'n_shares': 479}. Best is trial 16 with value: 0.22305876299340888.\n",
      "[I 2025-09-12 17:00:41,197] Trial 17 finished with value: 0.21897853166820047 and parameters: {'rsi_window': 40, 'rsi_lower': 25, 'rsi_upper': 74, 'stop_loss': 0.12206638298763331, 'take_profit': 0.10222529401669828, 'n_shares': 496}. Best is trial 16 with value: 0.22305876299340888.\n",
      "[I 2025-09-12 17:00:42,014] Trial 18 finished with value: 0.018748478599059926 and parameters: {'rsi_window': 38, 'rsi_lower': 23, 'rsi_upper': 78, 'stop_loss': 0.1448668331665837, 'take_profit': 0.010678155845453762, 'n_shares': 497}. Best is trial 16 with value: 0.22305876299340888.\n",
      "[I 2025-09-12 17:00:48,776] Trial 4 finished with value: 0.037111334287939446 and parameters: {'rsi_window': 48, 'rsi_lower': 35, 'rsi_upper': 65, 'stop_loss': 0.13018425878771395, 'take_profit': 0.13353890622730302, 'n_shares': 189}. Best is trial 16 with value: 0.22305876299340888.\n",
      "[I 2025-09-12 17:00:50,264] Trial 14 finished with value: 0.002610642365985072 and parameters: {'rsi_window': 15, 'rsi_lower': 25, 'rsi_upper': 80, 'stop_loss': 0.13919857124269433, 'take_profit': 0.09513631659189652, 'n_shares': 422}. Best is trial 16 with value: 0.22305876299340888.\n",
      "[I 2025-09-12 17:00:53,883] Trial 22 finished with value: 0.23683919631412187 and parameters: {'rsi_window': 32, 'rsi_lower': 25, 'rsi_upper': 77, 'stop_loss': 0.11120485691975818, 'take_profit': 0.08876297891124639, 'n_shares': 238}. Best is trial 22 with value: 0.23683919631412187.\n",
      "[I 2025-09-12 17:00:54,714] Trial 19 finished with value: -0.06759086785778534 and parameters: {'rsi_window': 10, 'rsi_lower': 24, 'rsi_upper': 73, 'stop_loss': 0.10099333891899759, 'take_profit': 0.08775509167119575, 'n_shares': 449}. Best is trial 22 with value: 0.23683919631412187.\n",
      "[I 2025-09-12 17:00:55,538] Trial 23 finished with value: 0.18563190655980089 and parameters: {'rsi_window': 33, 'rsi_lower': 28, 'rsi_upper': 75, 'stop_loss': 0.12079641594947799, 'take_profit': 0.08526270756209992, 'n_shares': 428}. Best is trial 22 with value: 0.23683919631412187.\n",
      "[I 2025-09-12 17:00:57,653] Trial 24 finished with value: 0.15235678999092106 and parameters: {'rsi_window': 32, 'rsi_lower': 28, 'rsi_upper': 74, 'stop_loss': 0.12003828694831756, 'take_profit': 0.08364667908229302, 'n_shares': 428}. Best is trial 22 with value: 0.23683919631412187.\n",
      "[I 2025-09-12 17:01:07,010] Trial 26 finished with value: 0.038507992195175866 and parameters: {'rsi_window': 34, 'rsi_lower': 30, 'rsi_upper': 74, 'stop_loss': 0.1173345033792714, 'take_profit': 0.08023304321098748, 'n_shares': 428}. Best is trial 22 with value: 0.23683919631412187.\n",
      "[I 2025-09-12 17:01:07,820] Trial 25 finished with value: 0.03819982496370011 and parameters: {'rsi_window': 31, 'rsi_lower': 29, 'rsi_upper': 74, 'stop_loss': 0.11559536351924551, 'take_profit': 0.08578289601286677, 'n_shares': 422}. Best is trial 22 with value: 0.23683919631412187.\n",
      "[I 2025-09-12 17:01:10,660] Trial 20 finished with value: -0.07582466240607966 and parameters: {'rsi_window': 6, 'rsi_lower': 25, 'rsi_upper': 73, 'stop_loss': 0.09406609284692169, 'take_profit': 0.08259892483822226, 'n_shares': 224}. Best is trial 22 with value: 0.23683919631412187.\n",
      "[I 2025-09-12 17:01:13,070] Trial 21 finished with value: -0.06604450731787825 and parameters: {'rsi_window': 6, 'rsi_lower': 24, 'rsi_upper': 74, 'stop_loss': 0.09434079983616514, 'take_profit': 0.08488503977210739, 'n_shares': 224}. Best is trial 22 with value: 0.23683919631412187.\n",
      "[I 2025-09-12 17:01:15,847] Trial 32 finished with value: 0.0379786280615102 and parameters: {'rsi_window': 43, 'rsi_lower': 20, 'rsi_upper': 68, 'stop_loss': 0.09366785428233608, 'take_profit': 0.1240639567440304, 'n_shares': 261}. Best is trial 22 with value: 0.23683919631412187.\n",
      "[I 2025-09-12 17:01:16,128] Trial 31 finished with value: 0.11081330734130579 and parameters: {'rsi_window': 30, 'rsi_lower': 21, 'rsi_upper': 70, 'stop_loss': 0.0932901384227941, 'take_profit': 0.12422076921392836, 'n_shares': 255}. Best is trial 22 with value: 0.23683919631412187.\n",
      "[I 2025-09-12 17:01:18,410] Trial 30 finished with value: -0.015875438021718313 and parameters: {'rsi_window': 31, 'rsi_lower': 31, 'rsi_upper': 69, 'stop_loss': 0.09312672274927733, 'take_profit': 0.11924158511239959, 'n_shares': 375}. Best is trial 22 with value: 0.23683919631412187.\n",
      "[I 2025-09-12 17:01:19,278] Trial 28 finished with value: 0.04205749133789882 and parameters: {'rsi_window': 32, 'rsi_lower': 29, 'rsi_upper': 74, 'stop_loss': 0.12423688929055608, 'take_profit': 0.11904376592804444, 'n_shares': 255}. Best is trial 22 with value: 0.23683919631412187.\n",
      "[I 2025-09-12 17:01:19,499] Trial 29 finished with value: -0.01280696999458486 and parameters: {'rsi_window': 31, 'rsi_lower': 30, 'rsi_upper': 70, 'stop_loss': 0.09500763159688531, 'take_profit': 0.11975838866390899, 'n_shares': 234}. Best is trial 22 with value: 0.23683919631412187.\n",
      "[I 2025-09-12 17:01:20,290] Trial 27 finished with value: 0.03352438766468824 and parameters: {'rsi_window': 34, 'rsi_lower': 31, 'rsi_upper': 75, 'stop_loss': 0.12313849532506237, 'take_profit': 0.11758510804496466, 'n_shares': 250}. Best is trial 22 with value: 0.23683919631412187.\n",
      "[I 2025-09-12 17:01:20,617] Trial 34 finished with value: 0.04255580557432492 and parameters: {'rsi_window': 46, 'rsi_lower': 21, 'rsi_upper': 69, 'stop_loss': 0.12927799210340557, 'take_profit': 0.11725782501201742, 'n_shares': 276}. Best is trial 22 with value: 0.23683919631412187.\n",
      "[I 2025-09-12 17:01:28,811] Trial 38 finished with value: 0.2436743519543112 and parameters: {'rsi_window': 46, 'rsi_lower': 27, 'rsi_upper': 77, 'stop_loss': 0.12963918117781204, 'take_profit': 0.10963587254687301, 'n_shares': 469}. Best is trial 38 with value: 0.2436743519543112.\n",
      "[I 2025-09-12 17:01:30,337] Trial 39 finished with value: 0.2747986066921899 and parameters: {'rsi_window': 45, 'rsi_lower': 27, 'rsi_upper': 78, 'stop_loss': 0.128656309136498, 'take_profit': 0.10966679439787534, 'n_shares': 476}. Best is trial 39 with value: 0.2747986066921899.\n",
      "[I 2025-09-12 17:01:31,599] Trial 41 finished with value: 0.2297415419647595 and parameters: {'rsi_window': 36, 'rsi_lower': 26, 'rsi_upper': 77, 'stop_loss': 0.10966678870004587, 'take_profit': 0.06849341320427334, 'n_shares': 469}. Best is trial 39 with value: 0.2747986066921899.\n",
      "[I 2025-09-12 17:01:31,861] Trial 40 finished with value: 0.2758926985466599 and parameters: {'rsi_window': 36, 'rsi_lower': 27, 'rsi_upper': 76, 'stop_loss': 0.1083460625993142, 'take_profit': 0.0701324895637634, 'n_shares': 481}. Best is trial 40 with value: 0.2758926985466599.\n",
      "[I 2025-09-12 17:01:32,104] Trial 33 finished with value: 0.049517241241522125 and parameters: {'rsi_window': 46, 'rsi_lower': 32, 'rsi_upper': 69, 'stop_loss': 0.13063165525432882, 'take_profit': 0.11808325807913897, 'n_shares': 251}. Best is trial 40 with value: 0.2758926985466599.\n",
      "[I 2025-09-12 17:01:32,463] Trial 35 finished with value: 0.02352765662870082 and parameters: {'rsi_window': 47, 'rsi_lower': 32, 'rsi_upper': 81, 'stop_loss': 0.1310758731350777, 'take_profit': 0.11617861972580457, 'n_shares': 380}. Best is trial 40 with value: 0.2758926985466599.\n",
      "[I 2025-09-12 17:01:32,721] Trial 36 finished with value: -0.00752866893049442 and parameters: {'rsi_window': 46, 'rsi_lower': 32, 'rsi_upper': 77, 'stop_loss': 0.1250430053439557, 'take_profit': 0.11295504380860509, 'n_shares': 387}. Best is trial 40 with value: 0.2758926985466599.\n",
      "[I 2025-09-12 17:01:35,600] Trial 42 finished with value: 0.18459006871013472 and parameters: {'rsi_window': 45, 'rsi_lower': 27, 'rsi_upper': 77, 'stop_loss': 0.13311581033638456, 'take_profit': 0.07098755478537538, 'n_shares': 484}. Best is trial 40 with value: 0.2758926985466599.\n",
      "[I 2025-09-12 17:01:35,648] Trial 37 finished with value: 0.010038826137698686 and parameters: {'rsi_window': 45, 'rsi_lower': 32, 'rsi_upper': 77, 'stop_loss': 0.1287127093455672, 'take_profit': 0.11454280476040034, 'n_shares': 286}. Best is trial 40 with value: 0.2758926985466599.\n",
      "[I 2025-09-12 17:01:38,173] Trial 43 finished with value: 0.09663233840931973 and parameters: {'rsi_window': 50, 'rsi_lower': 27, 'rsi_upper': 77, 'stop_loss': 0.13472294610064234, 'take_profit': 0.0712945160263276, 'n_shares': 386}. Best is trial 40 with value: 0.2758926985466599.\n",
      "[I 2025-09-12 17:01:38,710] Trial 45 finished with value: 0.06569979288552052 and parameters: {'rsi_window': 50, 'rsi_lower': 27, 'rsi_upper': 82, 'stop_loss': 0.13808024204817868, 'take_profit': 0.04742773872503968, 'n_shares': 456}. Best is trial 40 with value: 0.2758926985466599.\n",
      "[I 2025-09-12 17:01:38,965] Trial 47 finished with value: 0.06489777134856856 and parameters: {'rsi_window': 50, 'rsi_lower': 27, 'rsi_upper': 83, 'stop_loss': 0.10398597610607052, 'take_profit': 0.04791767662255051, 'n_shares': 445}. Best is trial 40 with value: 0.2758926985466599.\n",
      "[I 2025-09-12 17:01:41,050] Trial 48 finished with value: 0.2725373914441609 and parameters: {'rsi_window': 37, 'rsi_lower': 27, 'rsi_upper': 82, 'stop_loss': 0.10999062245963115, 'take_profit': 0.07288974648707545, 'n_shares': 457}. Best is trial 40 with value: 0.2758926985466599.\n",
      "[I 2025-09-12 17:01:42,509] Trial 46 finished with value: -0.07859370809603572 and parameters: {'rsi_window': 50, 'rsi_lower': 33, 'rsi_upper': 81, 'stop_loss': 0.08400314729889069, 'take_profit': 0.1085333855797346, 'n_shares': 393}. Best is trial 40 with value: 0.2758926985466599.\n",
      "[I 2025-09-12 17:01:42,988] Trial 49 finished with value: 0.20257712781122472 and parameters: {'rsi_window': 36, 'rsi_lower': 27, 'rsi_upper': 82, 'stop_loss': 0.10987534829177978, 'take_profit': 0.049873314374801275, 'n_shares': 454}. Best is trial 40 with value: 0.2758926985466599.\n",
      "[I 2025-09-12 17:01:43,156] Trial 44 finished with value: 0.02016338645821536 and parameters: {'rsi_window': 49, 'rsi_lower': 34, 'rsi_upper': 82, 'stop_loss': 0.13655907892010052, 'take_profit': 0.10848132191782417, 'n_shares': 451}. Best is trial 40 with value: 0.2758926985466599.\n"
     ]
    }
   ],
   "source": [
    "study = optuna.create_study(direction='maximize')\n",
    "study.optimize(lambda trial: backtest(data, trial), n_trials=50, n_jobs=-1)"
   ]
  },
  {
   "cell_type": "markdown",
   "id": "7a103ede",
   "metadata": {},
   "source": [
    "## <font color='cornflowerblue'> Resultados"
   ]
  },
  {
   "cell_type": "code",
   "execution_count": 7,
   "id": "698940cb",
   "metadata": {},
   "outputs": [
    {
     "data": {
      "text/plain": [
       "{'rsi_window': 36,\n",
       " 'rsi_lower': 27,\n",
       " 'rsi_upper': 76,\n",
       " 'stop_loss': 0.1083460625993142,\n",
       " 'take_profit': 0.0701324895637634,\n",
       " 'n_shares': 481}"
      ]
     },
     "execution_count": 7,
     "metadata": {},
     "output_type": "execute_result"
    }
   ],
   "source": [
    "study.best_params"
   ]
  },
  {
   "cell_type": "code",
   "execution_count": 8,
   "id": "54ca49fc",
   "metadata": {},
   "outputs": [
    {
     "data": {
      "text/plain": [
       "0.2758926985466599"
      ]
     },
     "execution_count": 8,
     "metadata": {},
     "output_type": "execute_result"
    }
   ],
   "source": [
    "study.best_value"
   ]
  },
  {
   "cell_type": "markdown",
   "id": "6c825790",
   "metadata": {},
   "source": [
    "## <font color='cornflowerblue'> Uso de resultados óptimos"
   ]
  },
  {
   "cell_type": "code",
   "execution_count": 9,
   "id": "e8f1846d",
   "metadata": {},
   "outputs": [],
   "source": [
    "window = study.best_params['rsi_window']\n",
    "lower = study.best_params['rsi_lower']\n",
    "upper = study.best_params['rsi_upper']\n",
    "\n",
    "SL = study.best_params['stop_loss']\n",
    "TP = study.best_params['take_profit']\n",
    "n_shares = study.best_params['n_shares']\n",
    "\n",
    "COM = 0.125 / 100\n",
    "BORROW_RATE = 0.25 / 100\n",
    "cash = 1_000_000"
   ]
  },
  {
   "cell_type": "code",
   "execution_count": 10,
   "id": "bd326290",
   "metadata": {},
   "outputs": [
    {
     "data": {
      "text/html": [
       "<div>\n",
       "<style scoped>\n",
       "    .dataframe tbody tr th:only-of-type {\n",
       "        vertical-align: middle;\n",
       "    }\n",
       "\n",
       "    .dataframe tbody tr th {\n",
       "        vertical-align: top;\n",
       "    }\n",
       "\n",
       "    .dataframe thead th {\n",
       "        text-align: right;\n",
       "    }\n",
       "</style>\n",
       "<table border=\"1\" class=\"dataframe\">\n",
       "  <thead>\n",
       "    <tr style=\"text-align: right;\">\n",
       "      <th></th>\n",
       "      <th>Unnamed: 0</th>\n",
       "      <th>Timestamp</th>\n",
       "      <th>Gmtoffset</th>\n",
       "      <th>Datetime</th>\n",
       "      <th>Open</th>\n",
       "      <th>High</th>\n",
       "      <th>Low</th>\n",
       "      <th>Close</th>\n",
       "      <th>Volume</th>\n",
       "    </tr>\n",
       "  </thead>\n",
       "  <tbody>\n",
       "    <tr>\n",
       "      <th>0</th>\n",
       "      <td>0</td>\n",
       "      <td>1609770600</td>\n",
       "      <td>0</td>\n",
       "      <td>2021-01-04 14:30:00</td>\n",
       "      <td>133.570007</td>\n",
       "      <td>133.611602</td>\n",
       "      <td>132.389999</td>\n",
       "      <td>132.809997</td>\n",
       "      <td>6624663.0</td>\n",
       "    </tr>\n",
       "    <tr>\n",
       "      <th>1</th>\n",
       "      <td>1</td>\n",
       "      <td>1609770900</td>\n",
       "      <td>0</td>\n",
       "      <td>2021-01-04 14:35:00</td>\n",
       "      <td>132.750000</td>\n",
       "      <td>132.750000</td>\n",
       "      <td>131.809997</td>\n",
       "      <td>131.889999</td>\n",
       "      <td>2541553.0</td>\n",
       "    </tr>\n",
       "    <tr>\n",
       "      <th>2</th>\n",
       "      <td>2</td>\n",
       "      <td>1609771200</td>\n",
       "      <td>0</td>\n",
       "      <td>2021-01-04 14:40:00</td>\n",
       "      <td>131.500000</td>\n",
       "      <td>132.339996</td>\n",
       "      <td>131.500000</td>\n",
       "      <td>132.059997</td>\n",
       "      <td>2492415.0</td>\n",
       "    </tr>\n",
       "    <tr>\n",
       "      <th>3</th>\n",
       "      <td>3</td>\n",
       "      <td>1609771500</td>\n",
       "      <td>0</td>\n",
       "      <td>2021-01-04 14:45:00</td>\n",
       "      <td>132.000000</td>\n",
       "      <td>132.250000</td>\n",
       "      <td>131.899993</td>\n",
       "      <td>132.250000</td>\n",
       "      <td>1859131.0</td>\n",
       "    </tr>\n",
       "    <tr>\n",
       "      <th>4</th>\n",
       "      <td>4</td>\n",
       "      <td>1609771800</td>\n",
       "      <td>0</td>\n",
       "      <td>2021-01-04 14:50:00</td>\n",
       "      <td>132.000000</td>\n",
       "      <td>132.018096</td>\n",
       "      <td>131.520004</td>\n",
       "      <td>131.589996</td>\n",
       "      <td>1780105.0</td>\n",
       "    </tr>\n",
       "  </tbody>\n",
       "</table>\n",
       "</div>"
      ],
      "text/plain": [
       "   Unnamed: 0   Timestamp  Gmtoffset             Datetime        Open  \\\n",
       "0           0  1609770600          0  2021-01-04 14:30:00  133.570007   \n",
       "1           1  1609770900          0  2021-01-04 14:35:00  132.750000   \n",
       "2           2  1609771200          0  2021-01-04 14:40:00  131.500000   \n",
       "3           3  1609771500          0  2021-01-04 14:45:00  132.000000   \n",
       "4           4  1609771800          0  2021-01-04 14:50:00  132.000000   \n",
       "\n",
       "         High         Low       Close     Volume  \n",
       "0  133.611602  132.389999  132.809997  6624663.0  \n",
       "1  132.750000  131.809997  131.889999  2541553.0  \n",
       "2  132.339996  131.500000  132.059997  2492415.0  \n",
       "3  132.250000  131.899993  132.250000  1859131.0  \n",
       "4  132.018096  131.520004  131.589996  1780105.0  "
      ]
     },
     "execution_count": 10,
     "metadata": {},
     "output_type": "execute_result"
    }
   ],
   "source": [
    "data = pd.read_csv('aapl_5m_train.csv').dropna()\n",
    "data.head()"
   ]
  },
  {
   "cell_type": "code",
   "execution_count": 11,
   "id": "dbeb4231",
   "metadata": {},
   "outputs": [],
   "source": [
    "rsi_indicator = ta.momentum.RSIIndicator(data.Close, window=window)\n",
    "data['rsi'] = rsi_indicator.rsi()"
   ]
  },
  {
   "cell_type": "code",
   "execution_count": 12,
   "id": "ea3d2471",
   "metadata": {},
   "outputs": [],
   "source": [
    "historic = data.dropna()\n",
    "historic['buy_signal'] = historic.rsi < lower\n",
    "historic['sell_signal'] = historic.rsi > upper"
   ]
  },
  {
   "cell_type": "code",
   "execution_count": 13,
   "id": "66f67f16",
   "metadata": {},
   "outputs": [],
   "source": [
    "active_long_positions: list[Operation] = []\n",
    "\n",
    "portfolio_value = [cash]\n",
    "\n",
    "for i, row in historic.iterrows():\n",
    "    # This only works for long positions\n",
    "\n",
    "    # Close positions\n",
    "    for position in active_long_positions.copy():\n",
    "        if row.Close > position.take_profit or row.Close < position.stop_loss:\n",
    "            cash += row.Close * position.n_shares * (1 - COM)\n",
    "            active_long_positions.remove(position)\n",
    "    # --- BUY ---\n",
    "    # Check signal\n",
    "    if not row.buy_signal:\n",
    "        portfolio_value.append(get_portfolio_value(\n",
    "            cash, active_long_positions, [], row.Close, n_shares))\n",
    "        continue\n",
    "    # Do we have enough cash?\n",
    "    if cash < row.Close * n_shares * (1 + COM):\n",
    "        portfolio_value.append(get_portfolio_value(\n",
    "            cash, active_long_positions, [], row.Close, n_shares))\n",
    "        continue\n",
    "    # Discount the cost\n",
    "    cash -= row.Close * n_shares * (1 + COM)\n",
    "    # Save the operation as active position\n",
    "    active_long_positions.append(\n",
    "        Operation(\n",
    "            time=row.Datetime,\n",
    "            price=row.Close,\n",
    "            take_profit=row.Close * (1 + TP),\n",
    "            stop_loss=row.Close * (1 - SL),\n",
    "            n_shares=n_shares,\n",
    "            type=\"LONG\"\n",
    "        )\n",
    "    )\n",
    "\n",
    "    portfolio_value.append(get_portfolio_value(\n",
    "        cash, active_long_positions, [], row.Close, n_shares))\n",
    "\n",
    "cash += row.Close * len(active_long_positions) * n_shares * (1 - COM)\n",
    "active_long_positions = []"
   ]
  },
  {
   "cell_type": "code",
   "execution_count": 14,
   "id": "f54c756c",
   "metadata": {},
   "outputs": [
    {
     "data": {
      "text/plain": [
       "(1275892.69854666, 0)"
      ]
     },
     "execution_count": 14,
     "metadata": {},
     "output_type": "execute_result"
    }
   ],
   "source": [
    "cash, len(active_long_positions)"
   ]
  },
  {
   "cell_type": "code",
   "execution_count": 15,
   "id": "bc05fd77",
   "metadata": {},
   "outputs": [
    {
     "data": {
      "image/png": "[encoded data removed]",
      "text/plain": [
       "<Figure size 640x480 with 1 Axes>"
      ]
     },
     "metadata": {},
     "output_type": "display_data"
    }
   ],
   "source": [
    "plt.plot(portfolio_value, color = 'navy')\n",
    "plt.title('Portfolio Value Over Time')\n",
    "plt.xlabel('Time')\n",
    "plt.ylabel('Portfolio Value ($)')\n",
    "plt.show()"
   ]
  }
 ],
 "metadata": {
  "kernelspec": {
   "display_name": "base",
   "language": "python",
   "name": "python3"
  },
  "language_info": {
   "codemirror_mode": {
    "name": "ipython",
    "version": 3
   },
   "file_extension": ".py",
   "mimetype": "text/x-python",
   "name": "python",
   "nbconvert_exporter": "python",
   "pygments_lexer": "ipython3",
   "version": "3.12.3"
  }
 },
 "nbformat": 4,
 "nbformat_minor": 5
}
