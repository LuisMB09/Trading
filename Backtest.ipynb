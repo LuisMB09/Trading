{
 "cells": [
  {
   "cell_type": "markdown",
   "id": "031da84e",
   "metadata": {},
   "source": [
    "<img style=\"float: left; margin: 30px 15px 15px 15px;\" src=\"https://oci02.img.iteso.mx/Identidades-De-Instancia/ITESO/Logos%20ITESO/Logo-ITESO-Principal.jpg\" width=\"500\" height=\"250\" /> \n",
    "    \n",
    "    \n",
    "# <font color='navy'> Backtest\n",
    "\n",
    "<font color='black'>\n",
    "\n",
    "- Luis Fernando Márquez Bañuelos"
   ]
  },
  {
   "cell_type": "markdown",
   "id": "679b5c60",
   "metadata": {},
   "source": [
    "## <font color='cornflowerblue'> Supuestos"
   ]
  },
  {
   "cell_type": "markdown",
   "id": "3e8aa906",
   "metadata": {},
   "source": [
    "- Commision: 0.125%\n",
    "- No taxes\n",
    "- Margin Acc: 50%\n",
    "- Cash: $1,000,000\n",
    "- N Shares: 50\n",
    "- SL, TL: 6%\n",
    "- Buy/Sell: Close\n",
    "- Borrow Rate: 0.25%"
   ]
  },
  {
   "cell_type": "code",
   "execution_count": 1,
   "id": "03b5ea31",
   "metadata": {},
   "outputs": [],
   "source": [
    "import pandas as pd\n",
    "import matplotlib.pyplot as plt\n",
    "import seaborn as sns\n",
    "import ta\n",
    "\n",
    "sns.set_theme()"
   ]
  },
  {
   "cell_type": "code",
   "execution_count": 2,
   "id": "29577881",
   "metadata": {},
   "outputs": [],
   "source": [
    "data = pd.read_csv('aapl_5m_train.csv').dropna()"
   ]
  },
  {
   "cell_type": "code",
   "execution_count": 3,
   "id": "db958ec1",
   "metadata": {},
   "outputs": [
    {
     "data": {
      "text/html": [
       "<div>\n",
       "<style scoped>\n",
       "    .dataframe tbody tr th:only-of-type {\n",
       "        vertical-align: middle;\n",
       "    }\n",
       "\n",
       "    .dataframe tbody tr th {\n",
       "        vertical-align: top;\n",
       "    }\n",
       "\n",
       "    .dataframe thead th {\n",
       "        text-align: right;\n",
       "    }\n",
       "</style>\n",
       "<table border=\"1\" class=\"dataframe\">\n",
       "  <thead>\n",
       "    <tr style=\"text-align: right;\">\n",
       "      <th></th>\n",
       "      <th>Unnamed: 0</th>\n",
       "      <th>Timestamp</th>\n",
       "      <th>Gmtoffset</th>\n",
       "      <th>Datetime</th>\n",
       "      <th>Open</th>\n",
       "      <th>High</th>\n",
       "      <th>Low</th>\n",
       "      <th>Close</th>\n",
       "      <th>Volume</th>\n",
       "    </tr>\n",
       "  </thead>\n",
       "  <tbody>\n",
       "    <tr>\n",
       "      <th>0</th>\n",
       "      <td>0</td>\n",
       "      <td>1609770600</td>\n",
       "      <td>0</td>\n",
       "      <td>2021-01-04 14:30:00</td>\n",
       "      <td>133.570007</td>\n",
       "      <td>133.611602</td>\n",
       "      <td>132.389999</td>\n",
       "      <td>132.809997</td>\n",
       "      <td>6624663.0</td>\n",
       "    </tr>\n",
       "    <tr>\n",
       "      <th>1</th>\n",
       "      <td>1</td>\n",
       "      <td>1609770900</td>\n",
       "      <td>0</td>\n",
       "      <td>2021-01-04 14:35:00</td>\n",
       "      <td>132.750000</td>\n",
       "      <td>132.750000</td>\n",
       "      <td>131.809997</td>\n",
       "      <td>131.889999</td>\n",
       "      <td>2541553.0</td>\n",
       "    </tr>\n",
       "    <tr>\n",
       "      <th>2</th>\n",
       "      <td>2</td>\n",
       "      <td>1609771200</td>\n",
       "      <td>0</td>\n",
       "      <td>2021-01-04 14:40:00</td>\n",
       "      <td>131.500000</td>\n",
       "      <td>132.339996</td>\n",
       "      <td>131.500000</td>\n",
       "      <td>132.059997</td>\n",
       "      <td>2492415.0</td>\n",
       "    </tr>\n",
       "    <tr>\n",
       "      <th>3</th>\n",
       "      <td>3</td>\n",
       "      <td>1609771500</td>\n",
       "      <td>0</td>\n",
       "      <td>2021-01-04 14:45:00</td>\n",
       "      <td>132.000000</td>\n",
       "      <td>132.250000</td>\n",
       "      <td>131.899993</td>\n",
       "      <td>132.250000</td>\n",
       "      <td>1859131.0</td>\n",
       "    </tr>\n",
       "    <tr>\n",
       "      <th>4</th>\n",
       "      <td>4</td>\n",
       "      <td>1609771800</td>\n",
       "      <td>0</td>\n",
       "      <td>2021-01-04 14:50:00</td>\n",
       "      <td>132.000000</td>\n",
       "      <td>132.018096</td>\n",
       "      <td>131.520004</td>\n",
       "      <td>131.589996</td>\n",
       "      <td>1780105.0</td>\n",
       "    </tr>\n",
       "  </tbody>\n",
       "</table>\n",
       "</div>"
      ],
      "text/plain": [
       "   Unnamed: 0   Timestamp  Gmtoffset             Datetime        Open  \\\n",
       "0           0  1609770600          0  2021-01-04 14:30:00  133.570007   \n",
       "1           1  1609770900          0  2021-01-04 14:35:00  132.750000   \n",
       "2           2  1609771200          0  2021-01-04 14:40:00  131.500000   \n",
       "3           3  1609771500          0  2021-01-04 14:45:00  132.000000   \n",
       "4           4  1609771800          0  2021-01-04 14:50:00  132.000000   \n",
       "\n",
       "         High         Low       Close     Volume  \n",
       "0  133.611602  132.389999  132.809997  6624663.0  \n",
       "1  132.750000  131.809997  131.889999  2541553.0  \n",
       "2  132.339996  131.500000  132.059997  2492415.0  \n",
       "3  132.250000  131.899993  132.250000  1859131.0  \n",
       "4  132.018096  131.520004  131.589996  1780105.0  "
      ]
     },
     "execution_count": 3,
     "metadata": {},
     "output_type": "execute_result"
    }
   ],
   "source": [
    "data.head()"
   ]
  },
  {
   "cell_type": "code",
   "execution_count": 4,
   "id": "0165dbd2",
   "metadata": {},
   "outputs": [],
   "source": [
    "rsi_indicator = ta.momentum.RSIIndicator(close=data.Close, window=15)"
   ]
  },
  {
   "cell_type": "code",
   "execution_count": 5,
   "id": "5f92a3c9",
   "metadata": {},
   "outputs": [],
   "source": [
    "data['rsi'] = rsi_indicator.rsi()"
   ]
  },
  {
   "cell_type": "code",
   "execution_count": 6,
   "id": "db1e86a5",
   "metadata": {},
   "outputs": [
    {
     "name": "stderr",
     "output_type": "stream",
     "text": [
      "/var/folders/60/rl4yk8jj3453bx7hbt074rbc0000gn/T/ipykernel_32980/3384102837.py:2: SettingWithCopyWarning: \n",
      "A value is trying to be set on a copy of a slice from a DataFrame.\n",
      "Try using .loc[row_indexer,col_indexer] = value instead\n",
      "\n",
      "See the caveats in the documentation: https://pandas.pydata.org/pandas-docs/stable/user_guide/indexing.html#returning-a-view-versus-a-copy\n",
      "  historic['buy_signal'] = historic.rsi < 20\n",
      "/var/folders/60/rl4yk8jj3453bx7hbt074rbc0000gn/T/ipykernel_32980/3384102837.py:3: SettingWithCopyWarning: \n",
      "A value is trying to be set on a copy of a slice from a DataFrame.\n",
      "Try using .loc[row_indexer,col_indexer] = value instead\n",
      "\n",
      "See the caveats in the documentation: https://pandas.pydata.org/pandas-docs/stable/user_guide/indexing.html#returning-a-view-versus-a-copy\n",
      "  historic['sell_signal'] = historic.rsi > 80\n"
     ]
    }
   ],
   "source": [
    "historic = data.dropna()\n",
    "historic['buy_signal'] = historic.rsi < 20\n",
    "historic['sell_signal'] = historic.rsi > 80"
   ]
  }
 ],
 "metadata": {
  "kernelspec": {
   "display_name": "base",
   "language": "python",
   "name": "python3"
  },
  "language_info": {
   "codemirror_mode": {
    "name": "ipython",
    "version": 3
   },
   "file_extension": ".py",
   "mimetype": "text/x-python",
   "name": "python",
   "nbconvert_exporter": "python",
   "pygments_lexer": "ipython3",
   "version": "3.12.3"
  }
 },
 "nbformat": 4,
 "nbformat_minor": 5
}
