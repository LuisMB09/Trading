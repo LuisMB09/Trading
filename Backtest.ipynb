{
 "cells": [
  {
   "cell_type": "markdown",
   "id": "031da84e",
   "metadata": {},
   "source": [
    "<img style=\"float: left; margin: 30px 15px 15px 15px;\" src=\"https://oci02.img.iteso.mx/Identidades-De-Instancia/ITESO/Logos%20ITESO/Logo-ITESO-Principal.jpg\" width=\"500\" height=\"250\" /> \n",
    "    \n",
    "    \n",
    "# <font color='navy'> Backtest\n",
    "\n",
    "<font color='black'>\n",
    "\n",
    "- Luis Fernando Márquez Bañuelos"
   ]
  },
  {
   "cell_type": "code",
   "execution_count": 1,
   "id": "03b5ea31",
   "metadata": {},
   "outputs": [],
   "source": [
    "import ta\n",
    "import optuna\n",
    "import numpy as np\n",
    "import pandas as pd\n",
    "import seaborn as sns\n",
    "import matplotlib.pyplot as plt\n",
    "\n",
    "\n",
    "sns.set_theme()"
   ]
  },
  {
   "cell_type": "code",
   "execution_count": 2,
   "id": "164860b8",
   "metadata": {},
   "outputs": [],
   "source": [
    "from dataclasses import dataclass\n",
    "\n",
    "@dataclass\n",
    "class Position:\n",
    "    \"\"\" A cool representation of a position\n",
    "    \"\"\"\n",
    "    ticker: str\n",
    "    n_shares: int\n",
    "    price: float\n",
    "    sl: float\n",
    "    tp: float\n",
    "    time: str"
   ]
  },
  {
   "cell_type": "code",
   "execution_count": 3,
   "id": "65b59184",
   "metadata": {},
   "outputs": [],
   "source": [
    "def get_portfolio_value(cash: float, long_ops: list[Position], short_ops: list[Position], current_price: float, n_shares: int) -> float:\n",
    "    val = cash\n",
    "\n",
    "    # Add long positions value\n",
    "    val += len(long_ops) * current_price * n_shares\n",
    "\n",
    "    return val"
   ]
  },
  {
   "cell_type": "code",
   "execution_count": 4,
   "id": "29577881",
   "metadata": {},
   "outputs": [],
   "source": [
    "data = pd.read_csv('aapl_5m_train.csv').dropna()"
   ]
  },
  {
   "cell_type": "markdown",
   "id": "5a8a33c1",
   "metadata": {},
   "source": [
    "## <font color='cornflowerblue'> Optimization"
   ]
  },
  {
   "cell_type": "code",
   "execution_count": 5,
   "id": "ee571c9f",
   "metadata": {},
   "outputs": [],
   "source": [
    "def objective(trial, data) -> float:\n",
    "\n",
    "    data = data.copy()\n",
    "\n",
    "    # Hyperparameters to optimize\n",
    "    rsi_window = trial.suggest_int('rsi_window', 8, 80)\n",
    "    rsi_lower = trial.suggest_int('rsi_lower', 5, 35)\n",
    "    #rsi_upper = trial.suggest_int('rsi_upper', 65, 95)\n",
    "    stop_loss = trial.suggest_float('stop_loss', 0.01, 0.15)\n",
    "    take_profit = trial.suggest_float('take_profit', 0.01, 0.15)\n",
    "    n_shares = trial.suggest_int('n_shares', 5, 500)\n",
    "\n",
    "    # Indicators\n",
    "    rsi_indicator = ta.momentum.RSIIndicator(data.Close, window=rsi_window)\n",
    "    data['rsi'] = rsi_indicator.rsi()\n",
    "\n",
    "    # Signals\n",
    "    data['buy_signal'] = data.rsi < rsi_lower\n",
    "    #data['sell_signal'] = data.rsi > rsi_upper\n",
    "\n",
    "    data = data.dropna()\n",
    "\n",
    "    # Initial values\n",
    "    capital: float = 1_000_000\n",
    "    portfolio_value = [capital]\n",
    "    active_long_positions: list[Position] = []\n",
    "\n",
    "    # Commissions and rates\n",
    "    COM: float = 0.125 / 100\n",
    "    BORROW_RATE: float = 0.25 / 100\n",
    "\n",
    "    # Strategy parameters\n",
    "    STOP_LOSS: float = stop_loss\n",
    "    TAKE_PROFIT: float = take_profit\n",
    "    N_SHARES: int = n_shares\n",
    "\n",
    "    for i, row in data.iterrows():\n",
    "        # -- LONG -- #\n",
    "        # Check active orders\n",
    "        for position in active_long_positions.copy():\n",
    "            # Stop loss or take profit check\n",
    "            if row.Close > position.tp or row.Close < position.sl:\n",
    "                # Add profits / losses to capital\n",
    "                capital += row.Close * position.n_shares * (1 - COM)\n",
    "                # Remove position from active position\n",
    "                active_long_positions.remove(position)\n",
    "\n",
    "        # Check Signal\n",
    "        if row.buy_signal:\n",
    "            cost = row.Close * N_SHARES * (1 + COM)\n",
    "\n",
    "            # Do we have enough cash?\n",
    "            if capital > cost:\n",
    "                # Discount cash\n",
    "                capital -= cost\n",
    "                # Add position to portfolio\n",
    "                pos = Position(ticker='AAPL', n_shares = N_SHARES, price = row.Close,\n",
    "                            sl = row.Close * (1 - STOP_LOSS), tp = row.Close*(1 + TAKE_PROFIT),\n",
    "                            time = row.Datetime)\n",
    "                active_long_positions.append(pos)\n",
    "\n",
    "        portfolio_value.append(get_portfolio_value(capital, active_long_positions, [], row.Close, N_SHARES))\n",
    "\n",
    "    # At the end of the backtesting, we sholud close all active positions\n",
    "    capital += row.Close * len(active_long_positions) * N_SHARES * (1 - COM)\n",
    "    active_long_positions = []\n",
    "\n",
    "    df = pd.DataFrame()\n",
    "    df['Value'] = portfolio_value\n",
    "    df['rets'] = df.Value.pct_change()\n",
    "    df.dropna(inplace=True)\n",
    "\n",
    "    mean = df.rets.mean()\n",
    "    std = df.rets.std()\n",
    "\n",
    "    anual_rets = mean * (60 / 5) * 6.5 * 252\n",
    "    anual_std = std * np.sqrt((60 / 5) * 6.5 * 252)\n",
    "\n",
    "    return anual_rets / anual_std if anual_std != 0 else 0"
   ]
  },
  {
   "cell_type": "code",
   "execution_count": 6,
   "id": "2dc0a2fe",
   "metadata": {},
   "outputs": [
    {
     "name": "stderr",
     "output_type": "stream",
     "text": [
      "[I 2025-09-18 19:40:41,490] A new study created in memory with name: no-name-73b3c6aa-6c52-40f6-8208-3ed7df43fd65\n",
      "[I 2025-09-18 19:40:46,782] Trial 0 finished with value: 0.0 and parameters: {'rsi_window': 25, 'rsi_lower': 10, 'stop_loss': 0.06824786257681068, 'take_profit': 0.08366807734635555, 'n_shares': 239}. Best is trial 0 with value: 0.0.\n",
      "[I 2025-09-18 19:40:46,913] Trial 1 finished with value: 0.0 and parameters: {'rsi_window': 47, 'rsi_lower': 11, 'stop_loss': 0.082494754028665, 'take_profit': 0.09683812624613491, 'n_shares': 154}. Best is trial 0 with value: 0.0.\n",
      "[I 2025-09-18 19:40:47,267] Trial 3 finished with value: 1.106267312903154 and parameters: {'rsi_window': 36, 'rsi_lower': 16, 'stop_loss': 0.06744533931626945, 'take_profit': 0.015229055461268043, 'n_shares': 327}. Best is trial 3 with value: 1.106267312903154.\n",
      "[I 2025-09-18 19:40:47,649] Trial 6 finished with value: 0.9523196222779958 and parameters: {'rsi_window': 64, 'rsi_lower': 26, 'stop_loss': 0.12976852115392057, 'take_profit': 0.11123231433054795, 'n_shares': 489}. Best is trial 3 with value: 1.106267312903154.\n",
      "[I 2025-09-18 19:40:48,470] Trial 2 finished with value: 1.2627584711494133 and parameters: {'rsi_window': 48, 'rsi_lower': 28, 'stop_loss': 0.08935244071453159, 'take_profit': 0.128979103236475, 'n_shares': 46}. Best is trial 2 with value: 1.2627584711494133.\n",
      "[I 2025-09-18 19:40:49,402] Trial 4 finished with value: -0.6076153601595184 and parameters: {'rsi_window': 43, 'rsi_lower': 33, 'stop_loss': 0.05087243654724285, 'take_profit': 0.021327359045048323, 'n_shares': 110}. Best is trial 2 with value: 1.2627584711494133.\n",
      "[I 2025-09-18 19:40:51,292] Trial 8 finished with value: 0.0 and parameters: {'rsi_window': 77, 'rsi_lower': 18, 'stop_loss': 0.07236502678110786, 'take_profit': 0.03498153158037854, 'n_shares': 289}. Best is trial 2 with value: 1.2627584711494133.\n",
      "[I 2025-09-18 19:40:51,688] Trial 5 finished with value: -0.7409731744388016 and parameters: {'rsi_window': 16, 'rsi_lower': 27, 'stop_loss': 0.0970759742485007, 'take_profit': 0.041816843562365265, 'n_shares': 402}. Best is trial 2 with value: 1.2627584711494133.\n",
      "[I 2025-09-18 19:40:51,829] Trial 9 finished with value: -0.4353163645753342 and parameters: {'rsi_window': 20, 'rsi_lower': 21, 'stop_loss': 0.03251933007787625, 'take_profit': 0.046198936841504, 'n_shares': 242}. Best is trial 2 with value: 1.2627584711494133.\n",
      "[I 2025-09-18 19:40:52,971] Trial 7 finished with value: -0.12042718188051163 and parameters: {'rsi_window': 21, 'rsi_lower': 30, 'stop_loss': 0.09566357786792626, 'take_profit': 0.09427920920312279, 'n_shares': 283}. Best is trial 2 with value: 1.2627584711494133.\n"
     ]
    }
   ],
   "source": [
    "study = optuna.create_study(direction='maximize')\n",
    "study.optimize(lambda trial: objective(trial, data), n_trials=10, n_jobs=-1)"
   ]
  },
  {
   "cell_type": "code",
   "execution_count": 7,
   "id": "ae8a6e58",
   "metadata": {},
   "outputs": [
    {
     "data": {
      "text/plain": [
       "{'rsi_window': 48,\n",
       " 'rsi_lower': 28,\n",
       " 'stop_loss': 0.08935244071453159,\n",
       " 'take_profit': 0.128979103236475,\n",
       " 'n_shares': 46}"
      ]
     },
     "execution_count": 7,
     "metadata": {},
     "output_type": "execute_result"
    }
   ],
   "source": [
    "study.best_params"
   ]
  },
  {
   "cell_type": "code",
   "execution_count": 8,
   "id": "ecc348a9",
   "metadata": {},
   "outputs": [
    {
     "data": {
      "text/plain": [
       "1.2627584711494133"
      ]
     },
     "execution_count": 8,
     "metadata": {},
     "output_type": "execute_result"
    }
   ],
   "source": [
    "study.best_value"
   ]
  },
  {
   "cell_type": "markdown",
   "id": "ce5cb25c",
   "metadata": {},
   "source": [
    "## <font color='cornflowerblue'> Optimized Parameters"
   ]
  },
  {
   "cell_type": "code",
   "execution_count": 9,
   "id": "50b6aa1d",
   "metadata": {},
   "outputs": [],
   "source": [
    "# Windows\n",
    "window = study.best_params['rsi_window']\n",
    "lower = study.best_params['rsi_lower']\n",
    "#upper = study.best_params['rsi_upper']\n",
    "\n",
    "# Commissions and rates\n",
    "COM = 0.125 / 100\n",
    "BORROW_RATE = 0.25 / 100\n",
    "INITIAL_MARGIN = 0.5\n",
    "MAINTENANCE_MARGIN = 0.25\n",
    "\n",
    "# Strategy parameters\n",
    "STOP_LOSS: float = study.best_params['stop_loss']\n",
    "TAKE_PROFIT: float = study.best_params['take_profit']\n",
    "N_SHARES: int = study.best_params['n_shares']\n",
    "\n",
    "capital: float = 1_000_000\n",
    "active_long_positions: list[Position] = []\n",
    "portfolio_value = [capital]"
   ]
  },
  {
   "cell_type": "code",
   "execution_count": 10,
   "id": "929b1dc0",
   "metadata": {},
   "outputs": [],
   "source": [
    "# Data\n",
    "data = pd.read_csv('aapl_5m_train.csv').dropna()\n",
    "\n",
    "# Indicators\n",
    "rsi_indicator = ta.momentum.RSIIndicator(data.Close, window=window)\n",
    "data['rsi'] = rsi_indicator.rsi()\n",
    "\n",
    "# Signals\n",
    "data['buy_signal'] = data['rsi'] < lower\n",
    "#data['sell_signal'] = data['rsi'] > upper"
   ]
  },
  {
   "cell_type": "code",
   "execution_count": 11,
   "id": "23e90742",
   "metadata": {},
   "outputs": [],
   "source": [
    "for i, row in data.iterrows():\n",
    "    # -- LONG -- #\n",
    "    # Check active orders\n",
    "    for position in active_long_positions.copy():\n",
    "        # Stop loss or take profit check\n",
    "        if row.Close > position.tp or row.Close < position.sl:\n",
    "            # Add profits / losses to capital\n",
    "            capital += row.Close * position.n_shares * (1 - COM)\n",
    "            # Remove position from active position\n",
    "            active_long_positions.remove(position)\n",
    "\n",
    "    # Check Signal\n",
    "    if row.buy_signal:\n",
    "        cost = row.Close * N_SHARES * (1 + COM)\n",
    "\n",
    "        # Do we have enough cash?\n",
    "        if capital > cost:\n",
    "            # Discount cash\n",
    "            capital -= cost\n",
    "            # Add position to portfolio\n",
    "            pos = Position(ticker='AAPL', n_shares = N_SHARES, price = row.Close,\n",
    "                           sl = row.Close * (1 - STOP_LOSS), tp = row.Close*(1 + TAKE_PROFIT),\n",
    "                           time = row.Datetime)\n",
    "            active_long_positions.append(pos)\n",
    "\n",
    "    portfolio_value.append(get_portfolio_value(capital, active_long_positions, [], row.Close, N_SHARES))\n",
    "\n",
    "# At the end of the backtesting, we sholud close all active positions\n",
    "capital += row.Close * len(active_long_positions) * N_SHARES * (1 - COM)\n",
    "active_long_positions = []"
   ]
  },
  {
   "cell_type": "code",
   "execution_count": 12,
   "id": "58f4947e",
   "metadata": {},
   "outputs": [
    {
     "data": {
      "text/plain": [
       "1040917.9308689951"
      ]
     },
     "execution_count": 12,
     "metadata": {},
     "output_type": "execute_result"
    }
   ],
   "source": [
    "capital"
   ]
  },
  {
   "cell_type": "code",
   "execution_count": 13,
   "id": "80dfd799",
   "metadata": {},
   "outputs": [
    {
     "data": {
      "image/png": "[encoded data removed]",
      "text/plain": [
       "<Figure size 640x480 with 1 Axes>"
      ]
     },
     "metadata": {},
     "output_type": "display_data"
    }
   ],
   "source": [
    "plt.plot(portfolio_value);"
   ]
  },
  {
   "cell_type": "code",
   "execution_count": 14,
   "id": "7d1874a9",
   "metadata": {},
   "outputs": [
    {
     "data": {
      "text/plain": [
       "1.2620004174965647"
      ]
     },
     "execution_count": 14,
     "metadata": {},
     "output_type": "execute_result"
    }
   ],
   "source": [
    "df = pd.DataFrame()\n",
    "df['Value'] = portfolio_value\n",
    "df['rets'] = df.Value.pct_change()\n",
    "df.dropna(inplace=True)\n",
    "\n",
    "mean = df.rets.mean()\n",
    "std = df.rets.std()\n",
    "\n",
    "anual_rets = mean * (60 / 5) * 6.5 * 252\n",
    "anual_std = std * np.sqrt((60 / 5) * 6.5 * 252)\n",
    "\n",
    "anual_rets / anual_std"
   ]
  }
 ],
 "metadata": {
  "kernelspec": {
   "display_name": "base",
   "language": "python",
   "name": "python3"
  },
  "language_info": {
   "codemirror_mode": {
    "name": "ipython",
    "version": 3
   },
   "file_extension": ".py",
   "mimetype": "text/x-python",
   "name": "python",
   "nbconvert_exporter": "python",
   "pygments_lexer": "ipython3",
   "version": "3.12.3"
  }
 },
 "nbformat": 4,
 "nbformat_minor": 5
}
