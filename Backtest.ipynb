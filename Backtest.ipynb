{
 "cells": [
  {
   "cell_type": "markdown",
   "id": "031da84e",
   "metadata": {},
   "source": [
    "<img style=\"float: left; margin: 30px 15px 15px 15px;\" src=\"https://oci02.img.iteso.mx/Identidades-De-Instancia/ITESO/Logos%20ITESO/Logo-ITESO-Principal.jpg\" width=\"500\" height=\"250\" /> \n",
    "    \n",
    "    \n",
    "# <font color='navy'> Backtest\n",
    "\n",
    "<font color='black'>\n",
    "\n",
    "- Luis Fernando Márquez Bañuelos"
   ]
  },
  {
   "cell_type": "markdown",
   "id": "679b5c60",
   "metadata": {},
   "source": [
    "## <font color='cornflowerblue'> Supuestos"
   ]
  },
  {
   "cell_type": "code",
   "execution_count": 1,
   "id": "03b5ea31",
   "metadata": {},
   "outputs": [],
   "source": [
    "import pandas as pd\n",
    "import matplotlib.pyplot as plt\n",
    "import seaborn as sns\n",
    "import ta\n",
    "\n",
    "sns.set_theme()"
   ]
  },
  {
   "cell_type": "code",
   "execution_count": 2,
   "id": "29577881",
   "metadata": {},
   "outputs": [],
   "source": [
    "data = pd.read_csv('aapl_5m_train.csv').dropna()"
   ]
  },
  {
   "cell_type": "code",
   "execution_count": 3,
   "id": "0165dbd2",
   "metadata": {},
   "outputs": [
    {
     "data": {
      "text/html": [
       "<div>\n",
       "<style scoped>\n",
       "    .dataframe tbody tr th:only-of-type {\n",
       "        vertical-align: middle;\n",
       "    }\n",
       "\n",
       "    .dataframe tbody tr th {\n",
       "        vertical-align: top;\n",
       "    }\n",
       "\n",
       "    .dataframe thead th {\n",
       "        text-align: right;\n",
       "    }\n",
       "</style>\n",
       "<table border=\"1\" class=\"dataframe\">\n",
       "  <thead>\n",
       "    <tr style=\"text-align: right;\">\n",
       "      <th></th>\n",
       "      <th>Unnamed: 0</th>\n",
       "      <th>Timestamp</th>\n",
       "      <th>Gmtoffset</th>\n",
       "      <th>Datetime</th>\n",
       "      <th>Open</th>\n",
       "      <th>High</th>\n",
       "      <th>Low</th>\n",
       "      <th>Close</th>\n",
       "      <th>Volume</th>\n",
       "      <th>rsi</th>\n",
       "      <th>buy_signal</th>\n",
       "      <th>sell_signal</th>\n",
       "    </tr>\n",
       "  </thead>\n",
       "  <tbody>\n",
       "    <tr>\n",
       "      <th>14</th>\n",
       "      <td>14</td>\n",
       "      <td>1609774800</td>\n",
       "      <td>0</td>\n",
       "      <td>2021-01-04 15:40:00</td>\n",
       "      <td>131.111297</td>\n",
       "      <td>131.309997</td>\n",
       "      <td>131.029998</td>\n",
       "      <td>131.044998</td>\n",
       "      <td>1253385.0</td>\n",
       "      <td>35.472015</td>\n",
       "      <td>False</td>\n",
       "      <td>False</td>\n",
       "    </tr>\n",
       "    <tr>\n",
       "      <th>15</th>\n",
       "      <td>15</td>\n",
       "      <td>1609775100</td>\n",
       "      <td>0</td>\n",
       "      <td>2021-01-04 15:45:00</td>\n",
       "      <td>131.044006</td>\n",
       "      <td>131.044006</td>\n",
       "      <td>130.479995</td>\n",
       "      <td>130.749893</td>\n",
       "      <td>1730254.0</td>\n",
       "      <td>31.779676</td>\n",
       "      <td>False</td>\n",
       "      <td>False</td>\n",
       "    </tr>\n",
       "    <tr>\n",
       "      <th>16</th>\n",
       "      <td>16</td>\n",
       "      <td>1609775400</td>\n",
       "      <td>0</td>\n",
       "      <td>2021-01-04 15:50:00</td>\n",
       "      <td>130.750000</td>\n",
       "      <td>130.830001</td>\n",
       "      <td>130.449996</td>\n",
       "      <td>130.709793</td>\n",
       "      <td>1887654.0</td>\n",
       "      <td>31.305254</td>\n",
       "      <td>False</td>\n",
       "      <td>False</td>\n",
       "    </tr>\n",
       "    <tr>\n",
       "      <th>17</th>\n",
       "      <td>17</td>\n",
       "      <td>1609775700</td>\n",
       "      <td>0</td>\n",
       "      <td>2021-01-04 15:55:00</td>\n",
       "      <td>130.700103</td>\n",
       "      <td>131.250000</td>\n",
       "      <td>130.699996</td>\n",
       "      <td>131.000000</td>\n",
       "      <td>1608419.0</td>\n",
       "      <td>38.432075</td>\n",
       "      <td>False</td>\n",
       "      <td>False</td>\n",
       "    </tr>\n",
       "    <tr>\n",
       "      <th>18</th>\n",
       "      <td>18</td>\n",
       "      <td>1609776000</td>\n",
       "      <td>0</td>\n",
       "      <td>2021-01-04 16:00:00</td>\n",
       "      <td>131.134994</td>\n",
       "      <td>131.309997</td>\n",
       "      <td>130.160003</td>\n",
       "      <td>130.309997</td>\n",
       "      <td>2055970.0</td>\n",
       "      <td>30.398179</td>\n",
       "      <td>False</td>\n",
       "      <td>False</td>\n",
       "    </tr>\n",
       "  </tbody>\n",
       "</table>\n",
       "</div>"
      ],
      "text/plain": [
       "    Unnamed: 0   Timestamp  Gmtoffset             Datetime        Open  \\\n",
       "14          14  1609774800          0  2021-01-04 15:40:00  131.111297   \n",
       "15          15  1609775100          0  2021-01-04 15:45:00  131.044006   \n",
       "16          16  1609775400          0  2021-01-04 15:50:00  130.750000   \n",
       "17          17  1609775700          0  2021-01-04 15:55:00  130.700103   \n",
       "18          18  1609776000          0  2021-01-04 16:00:00  131.134994   \n",
       "\n",
       "          High         Low       Close     Volume        rsi  buy_signal  \\\n",
       "14  131.309997  131.029998  131.044998  1253385.0  35.472015       False   \n",
       "15  131.044006  130.479995  130.749893  1730254.0  31.779676       False   \n",
       "16  130.830001  130.449996  130.709793  1887654.0  31.305254       False   \n",
       "17  131.250000  130.699996  131.000000  1608419.0  38.432075       False   \n",
       "18  131.309997  130.160003  130.309997  2055970.0  30.398179       False   \n",
       "\n",
       "    sell_signal  \n",
       "14        False  \n",
       "15        False  \n",
       "16        False  \n",
       "17        False  \n",
       "18        False  "
      ]
     },
     "execution_count": 3,
     "metadata": {},
     "output_type": "execute_result"
    }
   ],
   "source": [
    "rsi_indicator = ta.momentum.RSIIndicator(close=data.Close, window=15)\n",
    "\n",
    "data['rsi'] = rsi_indicator.rsi()\n",
    "data['buy_signal'] = data['rsi'] < 16\n",
    "data['sell_signal'] = data['rsi'] > 80\n",
    "\n",
    "data = data.dropna()\n",
    "data.head()"
   ]
  },
  {
   "cell_type": "code",
   "execution_count": 4,
   "id": "51e6eb67",
   "metadata": {},
   "outputs": [],
   "source": [
    "from dataclasses import dataclass\n",
    "\n",
    "@dataclass\n",
    "class Position:\n",
    "    \"\"\" A cool representation of a position\n",
    "    \"\"\"\n",
    "    ticker: str\n",
    "    n_shares: int\n",
    "    price: float\n",
    "    sl: float\n",
    "    tp: float\n",
    "    time: str"
   ]
  },
  {
   "cell_type": "code",
   "execution_count": 5,
   "id": "4480575a",
   "metadata": {},
   "outputs": [],
   "source": [
    "COM: float = 0.125 / 100\n",
    "BORROW_RATE: float = 0.25 / 100\n",
    "\n",
    "# DOF\n",
    "STOP_LOSS: float = 0.1\n",
    "TAKE_PROFIT: float = 0.1\n",
    "N_SHARES: int = 150\n",
    "\n",
    "capital: float = 1_000_000\n",
    "active_long_positions: list[Position] = []"
   ]
  },
  {
   "cell_type": "code",
   "execution_count": 6,
   "id": "23e90742",
   "metadata": {},
   "outputs": [],
   "source": [
    "for i, row in data.iterrows():\n",
    "    # -- LONG -- #\n",
    "    # Check active orders\n",
    "    for position in active_long_positions.copy():\n",
    "        # Stop loss or take profit check\n",
    "        if row.Close > position.tp or row.Close < position.sl:\n",
    "            # Add profits / losses to capital\n",
    "            capital += row.Close * position.n_shares * (1 - COM)\n",
    "            # Remove position from active position\n",
    "            active_long_positions.remove(position)\n",
    "\n",
    "    # Check Signal\n",
    "    if row.buy_signal:\n",
    "        cost = row.Close * N_SHARES * (1 + COM)\n",
    "\n",
    "        # Do we have enough cash?\n",
    "        if capital > cost:\n",
    "            # Discount cash\n",
    "            capital -= cost\n",
    "            # Add position to portfolio\n",
    "            pos = Position(ticker='AAPL', n_shares = N_SHARES, price = row.Close,\n",
    "                           sl = row.Close * (1 - STOP_LOSS), tp = row.Close*(1 + TAKE_PROFIT),\n",
    "                           time = row.Datetime)\n",
    "            active_long_positions.append(pos)\n",
    "\n",
    "# At the end of the backtesting, we sholud close all active positions\n",
    "capital += row.Close * len(active_long_positions) * N_SHARES * (1 - COM)\n",
    "active_long_positions = []"
   ]
  },
  {
   "cell_type": "code",
   "execution_count": 7,
   "id": "58f4947e",
   "metadata": {},
   "outputs": [
    {
     "data": {
      "text/plain": [
       "1114482.6603437504"
      ]
     },
     "execution_count": 7,
     "metadata": {},
     "output_type": "execute_result"
    }
   ],
   "source": [
    "capital"
   ]
  }
 ],
 "metadata": {
  "kernelspec": {
   "display_name": "base",
   "language": "python",
   "name": "python3"
  },
  "language_info": {
   "codemirror_mode": {
    "name": "ipython",
    "version": 3
   },
   "file_extension": ".py",
   "mimetype": "text/x-python",
   "name": "python",
   "nbconvert_exporter": "python",
   "pygments_lexer": "ipython3",
   "version": "3.12.3"
  }
 },
 "nbformat": 4,
 "nbformat_minor": 5
}
