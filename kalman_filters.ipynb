{
 "cells": [
  {
   "cell_type": "code",
   "execution_count": 2,
   "id": "a254b347",
   "metadata": {},
   "outputs": [],
   "source": [
    "import numpy as np\n",
    "import matplotlib.pyplot as plt\n",
    "\n",
    "from typing import Tuple"
   ]
  },
  {
   "cell_type": "code",
   "execution_count": 3,
   "id": "60355501",
   "metadata": {},
   "outputs": [],
   "source": [
    "def generate_linear_data() -> Tuple[np.ndarray, np.ndarray]:\n",
    "    \"\"\" Generate random linear data to test our Kalman Filter implementation.\n",
    "    \"\"\"\n",
    "    x = np.linspace(0, 10, 100)\n",
    "    y = 1.8 * x -3.21 + np.random.normal(0, 1, size=x.shape)\n",
    "    return x, y\n",
    "\n",
    "def generate_quad_data() -> Tuple[np.ndarray, np.ndarray]:\n",
    "    \"\"\" Generate random quadratic data to test our Kalman Filter implementation.\n",
    "    \"\"\"\n",
    "    x = np.linspace(0, 10, 100)\n",
    "    y = 1.8 * x - 0.7 * x**2 - 3.21 + np.random.normal(0, 2, size=x.shape)\n",
    "    return x, y"
   ]
  },
  {
   "cell_type": "code",
   "execution_count": 7,
   "id": "735bdec3",
   "metadata": {},
   "outputs": [],
   "source": [
    "xl, yl = generate_linear_data()"
   ]
  },
  {
   "cell_type": "markdown",
   "id": "46e4d977",
   "metadata": {},
   "source": [
    "## <font color='cornflowerblue'> Linear Regression"
   ]
  },
  {
   "cell_type": "code",
   "execution_count": 5,
   "id": "dd9c6adf",
   "metadata": {},
   "outputs": [],
   "source": [
    "xl = xl.reshape(-1, 1)\n",
    "xl = np.hstack([np.ones((xl.shape[0], 1)), xl])"
   ]
  },
  {
   "cell_type": "code",
   "execution_count": 6,
   "id": "92ec3b08",
   "metadata": {},
   "outputs": [
    {
     "data": {
      "text/plain": [
       "array([-3.44102946,  1.85024314])"
      ]
     },
     "execution_count": 6,
     "metadata": {},
     "output_type": "execute_result"
    }
   ],
   "source": [
    "W = np.linalg.inv(xl.T @ xl) @ xl.T @ yl\n",
    "W"
   ]
  }
 ],
 "metadata": {
  "kernelspec": {
   "display_name": "base",
   "language": "python",
   "name": "python3"
  },
  "language_info": {
   "codemirror_mode": {
    "name": "ipython",
    "version": 3
   },
   "file_extension": ".py",
   "mimetype": "text/x-python",
   "name": "python",
   "nbconvert_exporter": "python",
   "pygments_lexer": "ipython3",
   "version": "3.12.3"
  }
 },
 "nbformat": 4,
 "nbformat_minor": 5
}
