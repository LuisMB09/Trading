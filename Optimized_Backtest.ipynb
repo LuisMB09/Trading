{
 "cells": [
  {
   "cell_type": "code",
   "execution_count": 1,
   "id": "1883831b",
   "metadata": {},
   "outputs": [],
   "source": [
    "import ta\n",
    "import optuna\n",
    "import warnings\n",
    "import numpy as np\n",
    "import pandas as pd\n",
    "import seaborn as sns\n",
    "import matplotlib.pyplot as plt\n",
    "\n",
    "sns.set_theme()\n",
    "np.random.seed(42)\n",
    "warnings.filterwarnings(\"ignore\")"
   ]
  },
  {
   "cell_type": "code",
   "execution_count": 2,
   "id": "af62c681",
   "metadata": {},
   "outputs": [],
   "source": [
    "from dataclasses import dataclass\n",
    "\n",
    "@dataclass\n",
    "class Position:\n",
    "    \"\"\" A cool representation of a position\n",
    "    \"\"\"\n",
    "    ticker: str\n",
    "    n_shares: int\n",
    "    price: float\n",
    "    sl: float\n",
    "    tp: float\n",
    "    deposit: float\n",
    "    time: str"
   ]
  },
  {
   "cell_type": "code",
   "execution_count": 3,
   "id": "790116e2",
   "metadata": {},
   "outputs": [],
   "source": [
    "def get_portfolio_value(cash: float, long_ops: list[Position], short_ops: list[Position], current_price: float, \n",
    "                        n_shares: int, COM: float, INITIAL_MARGIN: float) -> float:\n",
    "    \n",
    "    val = cash \n",
    "\n",
    "    # Longs\n",
    "    val += len(long_ops) * current_price * n_shares * (1 - COM)\n",
    "\n",
    "    # Shorts\n",
    "    short_val = sum(\n",
    "        pos.price * pos.n_shares * INITIAL_MARGIN + (pos.price - current_price) * pos.n_shares * (1 - COM) + pos.deposit\n",
    "        for pos in short_ops\n",
    "    )\n",
    "\n",
    "    return val + short_val"
   ]
  },
  {
   "cell_type": "code",
   "execution_count": 4,
   "id": "437617f1",
   "metadata": {},
   "outputs": [],
   "source": [
    "data = pd.read_csv('aapl_5m_train.csv').dropna()"
   ]
  },
  {
   "cell_type": "markdown",
   "id": "33fc1e05",
   "metadata": {},
   "source": [
    "## <font color='cornflowerblue'> Optimización de hiperparámetros"
   ]
  },
  {
   "cell_type": "code",
   "execution_count": 5,
   "id": "41bc824c",
   "metadata": {},
   "outputs": [],
   "source": [
    "def backtest(data, trial) -> float:\n",
    "    data = data.copy()\n",
    "\n",
    "    # Hyperparameters to optimize\n",
    "    rsi_window = trial.suggest_int('rsi_window', 5, 50)\n",
    "    rsi_lower = trial.suggest_int('rsi_lower', 5, 35)\n",
    "    rsi_upper = trial.suggest_int('rsi_upper', 65, 95)\n",
    "    stop_loss = trial.suggest_float('stop_loss', 0.01, 0.15)\n",
    "    take_profit = trial.suggest_float('take_profit', 0.01, 0.15)\n",
    "    n_shares = trial.suggest_int('n_shares', 50, 500)\n",
    "\n",
    "    # Indicators\n",
    "    rsi_indicator = ta.momentum.RSIIndicator(data.Close, window=rsi_window)\n",
    "    data['rsi'] = rsi_indicator.rsi()\n",
    "\n",
    "    # Signals\n",
    "    data['buy_signal'] = data.rsi < rsi_lower\n",
    "    data['sell_signal'] = data.rsi > rsi_upper\n",
    "\n",
    "    # Initial values\n",
    "    capital: float = 1_000_000\n",
    "    margin_account: float = 0\n",
    "    portfolio_value = [capital]\n",
    "    active_long_positions: list[Position] = []\n",
    "    active_short_positions: list[Position] = []\n",
    "\n",
    "    # Commissions and rates\n",
    "    COM: float = 0.125 / 100\n",
    "    BORROW_RATE: float = 0.25 / 100\n",
    "    INITIAL_MARGIN = 1.5\n",
    "    MAINTENANCE_MARGIN = 0.25\n",
    "\n",
    "    # Convert annualized borrow rate to 5-min bar rate\n",
    "    bars_per_year = 252 * 6.5 * 60 / 5  # 252 trading days, 6.5 hours per day, 5-min bars\n",
    "    bar_borrow_rate = BORROW_RATE / bars_per_year\n",
    "\n",
    "    # Strategy parameters\n",
    "    STOP_LOSS: float = stop_loss\n",
    "    TAKE_PROFIT: float = take_profit\n",
    "    N_SHARES: int = n_shares\n",
    "\n",
    "    for i, row in data.iterrows():\n",
    "        # -- LONG -- #\n",
    "        # Check active orders\n",
    "        for position in active_long_positions.copy():\n",
    "            # Stop loss or take profit check\n",
    "            if row.Close > position.tp or row.Close < position.sl:\n",
    "                # Add profits / losses to capital\n",
    "                capital += row.Close * position.n_shares * (1 - COM)\n",
    "                # Remove position from active position\n",
    "                active_long_positions.remove(position)\n",
    "\n",
    "        equity: float = 0.0\n",
    "        required_equity: float = 0.0\n",
    "\n",
    "        # -- SHORT -- #\n",
    "        for position in active_short_positions.copy():\n",
    "            # Apply borrow rate to active short positions\n",
    "            cover_cost = row.Close * position.n_shares\n",
    "            initial_account = position.price * position.n_shares * INITIAL_MARGIN\n",
    "            borrow_cost = cover_cost * bar_borrow_rate\n",
    "\n",
    "            capital -= borrow_cost\n",
    "            equity += initial_account - cover_cost + position.deposit\n",
    "            required_equity += MAINTENANCE_MARGIN * cover_cost\n",
    "            #required_equity += MAINTENANCE_MARGIN * row.Close * position.n_shares\n",
    "\n",
    "        for position in active_short_positions.copy():\n",
    "            # Check Margin call\n",
    "            if equity < required_equity:\n",
    "                # Margin Call\n",
    "                deposit = (required_equity - equity) * 2\n",
    "                if capital > deposit:\n",
    "                    print(f'Margin Call at {row.Datetime} | Equity: {equity:.2f} | Required Equity: {required_equity:.2f} | Deposit: {deposit:.2f}')\n",
    "                    capital -= deposit\n",
    "                    equity += deposit\n",
    "                    position.deposit += deposit\n",
    "\n",
    "                else:\n",
    "                    # We have to close the position\n",
    "                    print(f'Forced Close at {row.Datetime} | Equity: {equity:.2f} | Required Equity: {required_equity:.2f} | Deposit Needed: {deposit:.2f} | Capital: {capital:.2f} \\n')\n",
    "                    pnl = (position.price - row.Close) * position.n_shares * (1 - COM)\n",
    "                    capital += pnl + position.price * position.n_shares * INITIAL_MARGIN + position.deposit\n",
    "\n",
    "                    equity -= position.price * position.n_shares * INITIAL_MARGIN - row.Close * position.n_shares + position.deposit\n",
    "                    required_equity -= MAINTENANCE_MARGIN * row.Close * position.n_shares\n",
    "                    active_short_positions.remove(position)\n",
    "                    continue\n",
    "\n",
    "            if row.Close < position.tp or row.Close > position.sl:\n",
    "                # Add profits / losses to capital\n",
    "                pnl = (position.price - row.Close) * position.n_shares * (1 - COM)\n",
    "                capital += pnl + position.price * position.n_shares * INITIAL_MARGIN + position.deposit\n",
    "\n",
    "                equity -= position.price * position.n_shares * INITIAL_MARGIN - row.Close * position.n_shares + position.deposit\n",
    "                required_equity -= MAINTENANCE_MARGIN * row.Close * position.n_shares\n",
    "                active_short_positions.remove(position)\n",
    "                continue\n",
    "\n",
    "        # Check Long Signal\n",
    "        if getattr(row, \"buy_signal\", False):\n",
    "            cost = row.Close * N_SHARES * (1 + COM)\n",
    "\n",
    "            # Do we have enough cash?\n",
    "            if capital > cost:\n",
    "                # Discount cash\n",
    "                capital -= cost\n",
    "                # Add position to portfolio\n",
    "                pos = Position(ticker='AAPL', n_shares=N_SHARES, price=row.Close,\n",
    "                            sl=row.Close * (1 - STOP_LOSS), tp=row.Close*(1 + TAKE_PROFIT),\n",
    "                            deposit=0, time=row.Datetime)\n",
    "                active_long_positions.append(pos)\n",
    "\n",
    "        # Check Short Signal\n",
    "        if getattr(row, \"sell_signal\", False):\n",
    "            margin_requirement = row.Close * N_SHARES * INITIAL_MARGIN\n",
    "            commission = row.Close * N_SHARES * COM\n",
    "\n",
    "            # Do we have enough cash?\n",
    "            if capital > margin_requirement:\n",
    "                # Discount cash\n",
    "                capital -= margin_requirement + commission\n",
    "                # Add position to portfolio\n",
    "                pos = Position(ticker='AAPL', n_shares=N_SHARES, price=row.Close,\n",
    "                            sl=row.Close * (1 + STOP_LOSS), tp=row.Close*(1 - TAKE_PROFIT),\n",
    "                            deposit=0, time=row.Datetime)\n",
    "                active_short_positions.append(pos)\n",
    "\n",
    "        # Calculate portfolio value\n",
    "        portfolio_value.append(get_portfolio_value(capital, active_long_positions, active_short_positions, row.Close, N_SHARES, COM, INITIAL_MARGIN))\n",
    "        continue\n",
    "    # At the end of the backtesting, we should close all active positions\n",
    "    capital += row.Close * len(active_long_positions) * N_SHARES * (1 - COM)\n",
    "\n",
    "    for position in active_short_positions:\n",
    "        pnl = (position.price - row.Close) * position.n_shares * (1 - COM)\n",
    "        capital += pnl + position.price * N_SHARES * INITIAL_MARGIN + position.deposit\n",
    "        equity -= position.price * position.n_shares * INITIAL_MARGIN - row.Close * position.n_shares + position.deposit\n",
    "        required_equity -= MAINTENANCE_MARGIN * row.Close * position.n_shares\n",
    "\n",
    "    active_long_positions = []\n",
    "    active_short_positions = []\n",
    "\n",
    "    return capital / 1_000_000 - 1"
   ]
  },
  {
   "cell_type": "code",
   "execution_count": 6,
   "id": "f2ea7b17",
   "metadata": {},
   "outputs": [
    {
     "name": "stderr",
     "output_type": "stream",
     "text": [
      "[I 2025-09-21 20:07:01,085] A new study created in memory with name: no-name-aa9f5d5f-b054-46aa-8d2c-f24adfe4a51b\n",
      "[I 2025-09-21 20:07:06,944] Trial 7 finished with value: -0.0030492861797428716 and parameters: {'rsi_window': 35, 'rsi_lower': 22, 'rsi_upper': 89, 'stop_loss': 0.031179241096817623, 'take_profit': 0.09097517923761667, 'n_shares': 373}. Best is trial 7 with value: -0.0030492861797428716.\n",
      "[I 2025-09-21 20:07:11,370] Trial 5 finished with value: 0.019749249248738332 and parameters: {'rsi_window': 49, 'rsi_lower': 14, 'rsi_upper': 71, 'stop_loss': 0.0977028516446781, 'take_profit': 0.0961871935756484, 'n_shares': 463}. Best is trial 5 with value: 0.019749249248738332.\n",
      "[I 2025-09-21 20:07:18,521] Trial 1 finished with value: -0.042652074734975454 and parameters: {'rsi_window': 15, 'rsi_lower': 5, 'rsi_upper': 82, 'stop_loss': 0.11341694385333613, 'take_profit': 0.04335843312438427, 'n_shares': 228}. Best is trial 5 with value: 0.019749249248738332.\n",
      "[I 2025-09-21 20:07:18,819] Trial 0 finished with value: -0.20603172482664056 and parameters: {'rsi_window': 18, 'rsi_lower': 32, 'rsi_upper': 90, 'stop_loss': 0.0653067813223887, 'take_profit': 0.047806734279517364, 'n_shares': 406}. Best is trial 5 with value: 0.019749249248738332.\n",
      "[I 2025-09-21 20:07:21,238] Trial 8 finished with value: 0.2488768434144959 and parameters: {'rsi_window': 22, 'rsi_lower': 20, 'rsi_upper': 80, 'stop_loss': 0.08907191258138884, 'take_profit': 0.0762070213257723, 'n_shares': 350}. Best is trial 8 with value: 0.2488768434144959.\n",
      "[I 2025-09-21 20:07:23,892] Trial 3 finished with value: 0.020004285251117526 and parameters: {'rsi_window': 32, 'rsi_lower': 25, 'rsi_upper': 65, 'stop_loss': 0.13862256857564545, 'take_profit': 0.014654166506652822, 'n_shares': 270}. Best is trial 8 with value: 0.2488768434144959.\n",
      "[I 2025-09-21 20:07:28,852] Trial 9 finished with value: -0.15226350621780316 and parameters: {'rsi_window': 39, 'rsi_lower': 35, 'rsi_upper': 74, 'stop_loss': 0.0389459480926751, 'take_profit': 0.07300128789141697, 'n_shares': 198}. Best is trial 8 with value: 0.2488768434144959.\n",
      "[I 2025-09-21 20:07:29,862] Trial 6 finished with value: -0.04625581378105803 and parameters: {'rsi_window': 6, 'rsi_lower': 6, 'rsi_upper': 75, 'stop_loss': 0.09720132123618122, 'take_profit': 0.12282424686040348, 'n_shares': 211}. Best is trial 8 with value: 0.2488768434144959.\n",
      "[I 2025-09-21 20:07:31,453] Trial 2 finished with value: 0.1076006524847386 and parameters: {'rsi_window': 15, 'rsi_lower': 16, 'rsi_upper': 77, 'stop_loss': 0.0610555639879442, 'take_profit': 0.13252659864985053, 'n_shares': 95}. Best is trial 8 with value: 0.2488768434144959.\n",
      "[I 2025-09-21 20:07:35,578] Trial 4 finished with value: 0.008769010586620052 and parameters: {'rsi_window': 12, 'rsi_lower': 29, 'rsi_upper': 84, 'stop_loss': 0.09106895754429728, 'take_profit': 0.1041933724077383, 'n_shares': 89}. Best is trial 8 with value: 0.2488768434144959.\n"
     ]
    }
   ],
   "source": [
    "study = optuna.create_study(direction='maximize')\n",
    "study.optimize(lambda trial: backtest(data, trial), n_trials=10, n_jobs=-1)"
   ]
  },
  {
   "cell_type": "markdown",
   "id": "8613509c",
   "metadata": {},
   "source": [
    "## <font color='cornflowerblue'> Resultados"
   ]
  },
  {
   "cell_type": "code",
   "execution_count": 7,
   "id": "8b143117",
   "metadata": {},
   "outputs": [
    {
     "data": {
      "text/plain": [
       "{'rsi_window': 22,\n",
       " 'rsi_lower': 20,\n",
       " 'rsi_upper': 80,\n",
       " 'stop_loss': 0.08907191258138884,\n",
       " 'take_profit': 0.0762070213257723,\n",
       " 'n_shares': 350}"
      ]
     },
     "execution_count": 7,
     "metadata": {},
     "output_type": "execute_result"
    }
   ],
   "source": [
    "study.best_params"
   ]
  },
  {
   "cell_type": "code",
   "execution_count": 8,
   "id": "95d1861f",
   "metadata": {},
   "outputs": [
    {
     "data": {
      "text/plain": [
       "0.2488768434144959"
      ]
     },
     "execution_count": 8,
     "metadata": {},
     "output_type": "execute_result"
    }
   ],
   "source": [
    "study.best_value"
   ]
  },
  {
   "cell_type": "markdown",
   "id": "cb061814",
   "metadata": {},
   "source": [
    "## <font color='cornflowerblue'> Uso de resultados óptimos"
   ]
  },
  {
   "cell_type": "code",
   "execution_count": 9,
   "id": "30804bbb",
   "metadata": {},
   "outputs": [],
   "source": [
    "# Windows\n",
    "window = study.best_params['rsi_window']\n",
    "lower = study.best_params['rsi_lower']\n",
    "upper = study.best_params['rsi_upper']\n",
    "\n",
    "# Commissions and rates\n",
    "COM = 0.125 / 100\n",
    "BORROW_RATE = 0.25 / 100\n",
    "INITIAL_MARGIN = 1.5\n",
    "MAINTENANCE_MARGIN = 0.25\n",
    "\n",
    "# Convert annualized borrow rate to 5-min bar rate\n",
    "bars_per_year = 252 * 6.5 * 60 / 5  # 252 trading days, 6.5 hours per day, 5-min bars\n",
    "bar_borrow_rate = BORROW_RATE / bars_per_year\n",
    "\n",
    "# Strategy parameters\n",
    "STOP_LOSS: float = study.best_params['stop_loss']\n",
    "TAKE_PROFIT: float = study.best_params['take_profit']\n",
    "N_SHARES: int = study.best_params['n_shares']"
   ]
  },
  {
   "cell_type": "code",
   "execution_count": 10,
   "id": "c6268b22",
   "metadata": {},
   "outputs": [],
   "source": [
    "# Data\n",
    "data = pd.read_csv('aapl_5m_train.csv').dropna()\n",
    "\n",
    "# Indicators\n",
    "rsi_indicator = ta.momentum.RSIIndicator(data.Close, window=window)\n",
    "data['rsi'] = rsi_indicator.rsi()\n",
    "\n",
    "# Signals\n",
    "data['buy_signal'] = data['rsi'] < lower\n",
    "data['sell_signal'] = data['rsi'] > upper"
   ]
  },
  {
   "cell_type": "markdown",
   "id": "794a5e7a",
   "metadata": {},
   "source": [
    "## <font color='cornflowerblue'> Backtest"
   ]
  },
  {
   "cell_type": "code",
   "execution_count": 12,
   "id": "14fdd060",
   "metadata": {},
   "outputs": [],
   "source": [
    "capital: float = 1_000_000\n",
    "margin_account: float = 0.0\n",
    "\n",
    "portfolio_value = [capital]\n",
    "active_long_positions: list[Position] = []\n",
    "active_short_positions: list[Position] = []\n",
    "\n",
    "for i, row in data.iterrows():\n",
    "    # -- LONG -- #\n",
    "    # Check active orders\n",
    "    for position in active_long_positions.copy():\n",
    "        # Stop loss or take profit check\n",
    "        if row.Close > position.tp or row.Close < position.sl:\n",
    "            # Add profits / losses to capital\n",
    "            capital += row.Close * position.n_shares * (1 - COM)\n",
    "            # Remove position from active position\n",
    "            active_long_positions.remove(position)\n",
    "\n",
    "    equity: float = 0.0\n",
    "    required_equity: float = 0.0\n",
    "\n",
    "    # -- SHORT -- #\n",
    "    for position in active_short_positions.copy():\n",
    "        # Apply borrow rate to active short positions\n",
    "        cover_cost = row.Close * position.n_shares\n",
    "        initial_account = position.price * position.n_shares * INITIAL_MARGIN\n",
    "        borrow_cost = cover_cost * bar_borrow_rate\n",
    "\n",
    "        capital -= borrow_cost\n",
    "        equity += initial_account - cover_cost + position.deposit\n",
    "        required_equity += MAINTENANCE_MARGIN * cover_cost\n",
    "        #required_equity += MAINTENANCE_MARGIN * row.Close * position.n_shares\n",
    "\n",
    "    for position in active_short_positions.copy():\n",
    "        # Check Margin call\n",
    "        if equity < required_equity:\n",
    "            # Margin Call\n",
    "            deposit = (required_equity - equity) * 2\n",
    "            if capital > deposit:\n",
    "                print(f'Margin Call at {row.Datetime} | Equity: {equity:.2f} | Required Equity: {required_equity:.2f} | Deposit: {deposit:.2f}')\n",
    "                capital -= deposit\n",
    "                equity += deposit\n",
    "                position.deposit += deposit\n",
    "\n",
    "            else:\n",
    "                # We have to close the position\n",
    "                print(f'Forced Close at {row.Datetime} | Equity: {equity:.2f} | Required Equity: {required_equity:.2f} | Deposit Needed: {deposit:.2f} | Capital: {capital:.2f} \\n')\n",
    "                pnl = (position.price - row.Close) * position.n_shares * (1 - COM)\n",
    "                capital += pnl + position.price * position.n_shares * INITIAL_MARGIN + position.deposit\n",
    "\n",
    "                equity -= position.price * position.n_shares * INITIAL_MARGIN - row.Close * position.n_shares + position.deposit\n",
    "                required_equity -= MAINTENANCE_MARGIN * row.Close * position.n_shares\n",
    "                active_short_positions.remove(position)\n",
    "                continue\n",
    "\n",
    "        if row.Close < position.tp or row.Close > position.sl:\n",
    "            # Add profits / losses to capital\n",
    "            pnl = (position.price - row.Close) * position.n_shares * (1 - COM)\n",
    "            capital += pnl + position.price * position.n_shares * INITIAL_MARGIN + position.deposit\n",
    "\n",
    "            equity -= position.price * position.n_shares * INITIAL_MARGIN - row.Close * position.n_shares + position.deposit\n",
    "            required_equity -= MAINTENANCE_MARGIN * row.Close * position.n_shares\n",
    "            active_short_positions.remove(position)\n",
    "            continue\n",
    "\n",
    "    # Check Long Signal\n",
    "    if getattr(row, \"buy_signal\", False):\n",
    "        cost = row.Close * N_SHARES * (1 + COM)\n",
    "\n",
    "        # Do we have enough cash?\n",
    "        if capital > cost:\n",
    "            # Discount cash\n",
    "            capital -= cost\n",
    "            # Add position to portfolio\n",
    "            pos = Position(ticker='AAPL', n_shares=N_SHARES, price=row.Close,\n",
    "                           sl=row.Close * (1 - STOP_LOSS), tp=row.Close*(1 + TAKE_PROFIT),\n",
    "                           deposit=0, time=row.Datetime)\n",
    "            active_long_positions.append(pos)\n",
    "\n",
    "    # Check Short Signal\n",
    "    if getattr(row, \"sell_signal\", False):\n",
    "        margin_requirement = row.Close * N_SHARES * INITIAL_MARGIN\n",
    "        commission = row.Close * N_SHARES * COM\n",
    "\n",
    "        # Do we have enough cash?\n",
    "        if capital > margin_requirement:\n",
    "            # Discount cash\n",
    "            capital -= margin_requirement + commission\n",
    "            # Add position to portfolio\n",
    "            pos = Position(ticker='AAPL', n_shares=N_SHARES, price=row.Close,\n",
    "                           sl=row.Close * (1 + STOP_LOSS), tp=row.Close*(1 - TAKE_PROFIT),\n",
    "                           deposit=0, time=row.Datetime)\n",
    "            active_short_positions.append(pos)\n",
    "\n",
    "    # Calculate portfolio value\n",
    "    portfolio_value.append(get_portfolio_value(capital, active_long_positions, active_short_positions, row.Close, N_SHARES, COM, INITIAL_MARGIN))\n",
    "    continue\n",
    "# At the end of the backtesting, we should close all active positions\n",
    "capital += row.Close * len(active_long_positions) * N_SHARES * (1 - COM)\n",
    "\n",
    "for position in active_short_positions:\n",
    "    pnl = (position.price - row.Close) * position.n_shares * (1 - COM)\n",
    "    capital += pnl + position.price * N_SHARES * INITIAL_MARGIN + position.deposit\n",
    "    equity -= position.price * position.n_shares * INITIAL_MARGIN - row.Close * position.n_shares + position.deposit\n",
    "    required_equity -= MAINTENANCE_MARGIN * row.Close * position.n_shares\n",
    "\n",
    "active_long_positions = []\n",
    "active_short_positions = []"
   ]
  },
  {
   "cell_type": "code",
   "execution_count": 13,
   "id": "a3e4f7c3",
   "metadata": {},
   "outputs": [
    {
     "data": {
      "text/plain": [
       "1248876.843414496"
      ]
     },
     "execution_count": 13,
     "metadata": {},
     "output_type": "execute_result"
    }
   ],
   "source": [
    "capital"
   ]
  },
  {
   "cell_type": "markdown",
   "id": "499e296a",
   "metadata": {},
   "source": [
    "## <font color='cornflowerblue'> Plots"
   ]
  },
  {
   "cell_type": "code",
   "execution_count": 14,
   "id": "e0d89a4f",
   "metadata": {},
   "outputs": [
    {
     "data": {
      "image/png": "[encoded data removed]",
      "text/plain": [
       "<Figure size 1200x600 with 1 Axes>"
      ]
     },
     "metadata": {},
     "output_type": "display_data"
    }
   ],
   "source": [
    "df = pd.DataFrame({'Portfolio Value': portfolio_value[1:]},\n",
    "                  index=pd.to_datetime(data.Datetime))\n",
    "\n",
    "plt.figure(figsize=(12, 6))\n",
    "plt.plot(df.index, df['Portfolio Value'])\n",
    "plt.title('Portfolio Value Over Time')\n",
    "plt.xlabel('Date')\n",
    "plt.ylabel('Portfolio Value ($)')\n",
    "plt.show()"
   ]
  }
 ],
 "metadata": {
  "kernelspec": {
   "display_name": "base",
   "language": "python",
   "name": "python3"
  },
  "language_info": {
   "codemirror_mode": {
    "name": "ipython",
    "version": 3
   },
   "file_extension": ".py",
   "mimetype": "text/x-python",
   "name": "python",
   "nbconvert_exporter": "python",
   "pygments_lexer": "ipython3",
   "version": "3.12.3"
  }
 },
 "nbformat": 4,
 "nbformat_minor": 5
}
