{
 "cells": [
  {
   "cell_type": "code",
   "execution_count": 1,
   "id": "1883831b",
   "metadata": {},
   "outputs": [],
   "source": [
    "import ta\n",
    "import optuna\n",
    "import warnings\n",
    "import numpy as np\n",
    "import pandas as pd\n",
    "import seaborn as sns\n",
    "import matplotlib.pyplot as plt\n",
    "\n",
    "sns.set_theme()\n",
    "np.random.seed(42)\n",
    "warnings.filterwarnings(\"ignore\")"
   ]
  },
  {
   "cell_type": "code",
   "execution_count": 2,
   "id": "af62c681",
   "metadata": {},
   "outputs": [],
   "source": [
    "from dataclasses import dataclass\n",
    "\n",
    "@dataclass\n",
    "class Position:\n",
    "    \"\"\" A cool representation of a position\n",
    "    \"\"\"\n",
    "    ticker: str\n",
    "    n_shares: int\n",
    "    price: float\n",
    "    sl: float\n",
    "    tp: float\n",
    "    margin_account: float\n",
    "    margin_requirement: float\n",
    "    time: str"
   ]
  },
  {
   "cell_type": "code",
   "execution_count": 3,
   "id": "790116e2",
   "metadata": {},
   "outputs": [],
   "source": [
    "def get_portfolio_value(cash: float, long_ops: list[Position], short_ops: list[Position], current_price: float, n_shares: int, COM: float) -> float:\n",
    "    val = cash\n",
    "\n",
    "    # Add long positions value\n",
    "    val += len(long_ops) * current_price * n_shares\n",
    "\n",
    "    # Add short positions equity (margin_account + margin_requirement - cost to cover)\n",
    "    for pos in short_ops:\n",
    "        cover_cost = current_price * pos.n_shares * (1 + COM)  # include commission\n",
    "        val += pos.margin_account + pos.margin_requirement - cover_cost\n",
    "\n",
    "    return val"
   ]
  },
  {
   "cell_type": "code",
   "execution_count": 4,
   "id": "437617f1",
   "metadata": {},
   "outputs": [],
   "source": [
    "data = pd.read_csv('aapl_5m_train.csv').dropna()"
   ]
  },
  {
   "cell_type": "markdown",
   "id": "33fc1e05",
   "metadata": {},
   "source": [
    "## <font color='cornflowerblue'> Optimización de hiperparámetros"
   ]
  },
  {
   "cell_type": "code",
   "execution_count": 5,
   "id": "41bc824c",
   "metadata": {},
   "outputs": [],
   "source": [
    "def backtest(data, trial) -> float:\n",
    "    data = data.copy()\n",
    "\n",
    "    # Hyperparameters to optimize\n",
    "    rsi_window = trial.suggest_int('rsi_window', 5, 50)\n",
    "    rsi_lower = trial.suggest_int('rsi_lower', 5, 35)\n",
    "    rsi_upper = trial.suggest_int('rsi_upper', 65, 95)\n",
    "    stop_loss = trial.suggest_float('stop_loss', 0.01, 0.15)\n",
    "    take_profit = trial.suggest_float('take_profit', 0.01, 0.15)\n",
    "    n_shares = trial.suggest_int('n_shares', 50, 500)\n",
    "\n",
    "    # Indicators\n",
    "    rsi_indicator = ta.momentum.RSIIndicator(data.Close, window=rsi_window)\n",
    "    data['rsi'] = rsi_indicator.rsi()\n",
    "\n",
    "    # Signals\n",
    "    data['buy_signal'] = data.rsi < rsi_lower\n",
    "    data['sell_signal'] = data.rsi > rsi_upper\n",
    "\n",
    "    # Initial values\n",
    "    capital: float = 1_000_000\n",
    "    margin_account: float = 0\n",
    "    portfolio_value = [capital]\n",
    "    active_long_positions: list[Position] = []\n",
    "    active_short_positions: list[Position] = []\n",
    "\n",
    "    # Commissions and rates\n",
    "    COM: float = 0.125 / 100\n",
    "    BORROW_RATE: float = 0.25 / 100\n",
    "    INITIAL_MARGIN = 0.5\n",
    "    MAINTENANCE_MARGIN = 0.25\n",
    "\n",
    "    # Convert annualized borrow rate to 5-min bar rate\n",
    "    bars_per_year = 252 * 6.5 * 60 / 5  # 252 trading days, 6.5 hours per day, 5-min bars\n",
    "    bar_borrow_rate = (1 + BORROW_RATE) ** (1 / bars_per_year) - 1\n",
    "\n",
    "    # Strategy parameters\n",
    "    STOP_LOSS: float = stop_loss\n",
    "    TAKE_PROFIT: float = take_profit\n",
    "    N_SHARES: int = n_shares\n",
    "\n",
    "    for i, row in data.iterrows():\n",
    "        # -- LONG -- #\n",
    "        # Check active orders\n",
    "        for position in active_long_positions.copy():\n",
    "            # Stop loss or take profit check\n",
    "            if row.Close > position.tp or row.Close < position.sl:\n",
    "                # Add profits / losses to capital\n",
    "                capital += row.Close * position.n_shares * (1 - COM)\n",
    "                # Remove position from active position\n",
    "                active_long_positions.remove(position)\n",
    "\n",
    "        # -- SHORT -- #\n",
    "        for position in active_short_positions.copy():\n",
    "            # Apply borrow rate to active short positions\n",
    "            cover_cost = row.Close * position.n_shares * (1 + COM)\n",
    "            position.margin_account -= row.Close * position.n_shares * bar_borrow_rate\n",
    "\n",
    "            margin_deposit = position.margin_requirement\n",
    "            equity = (position.margin_account + margin_deposit) - cover_cost\n",
    "\n",
    "            # Required Equity\n",
    "            required_equity = MAINTENANCE_MARGIN * cover_cost\n",
    "\n",
    "            # Check Margin call\n",
    "            if equity < required_equity:\n",
    "                # Margin Call\n",
    "                deposit = required_equity - equity\n",
    "                print(f'Margin Call at {row.Datetime} | Equity: {equity:.2f} | Required: {required_equity:.2f}')\n",
    "\n",
    "                if capital > deposit:\n",
    "                    capital -= deposit\n",
    "                    position.margin_account += deposit\n",
    "                else:\n",
    "                    # We have to close the position\n",
    "                    capital += position.margin_account + position.margin_requirement - cover_cost\n",
    "                    active_short_positions.remove(position)\n",
    "                    continue\n",
    "\n",
    "            else:\n",
    "                # Stop loss or take profit check\n",
    "                if row.Close < position.tp or row.Close > position.sl:\n",
    "                    # Add profits / losses to capital\n",
    "                    capital += position.margin_account + position.margin_requirement - cover_cost\n",
    "                    # Remove position from active position\n",
    "                    active_short_positions.remove(position)\n",
    "\n",
    "        # Check Long Signal\n",
    "        if getattr(row, \"buy_signal\", False):\n",
    "            cost = row.Close * N_SHARES * (1 + COM)\n",
    "\n",
    "            # Do we have enough cash?\n",
    "            if capital > cost:\n",
    "                # Discount cash\n",
    "                capital -= cost\n",
    "                # Add position to portfolio\n",
    "                pos = Position(ticker='AAPL', n_shares=N_SHARES, price=row.Close,\n",
    "                            sl=row.Close * (1 - STOP_LOSS), tp=row.Close*(1 + TAKE_PROFIT),\n",
    "                            margin_account=0, margin_requirement=0, time=row.Datetime)\n",
    "                active_long_positions.append(pos)\n",
    "\n",
    "        # Check Short Signal\n",
    "        if getattr(row, \"sell_signal\", False):\n",
    "            short_value = row.Close * N_SHARES\n",
    "            margin_requirement = short_value * INITIAL_MARGIN\n",
    "            \n",
    "            # Do we have enough cash?\n",
    "            if capital > margin_requirement:\n",
    "                # Setting up the margin account\n",
    "                margin_account = row.Close * N_SHARES * (1 - COM)\n",
    "                # Discount cash\n",
    "                capital -= margin_requirement\n",
    "\n",
    "                pos = Position(ticker='AAPL', n_shares=N_SHARES, price=row.Close,\n",
    "                            sl=row.Close * (1 + STOP_LOSS), tp=row.Close*(1 - TAKE_PROFIT),\n",
    "                            margin_account=margin_account, margin_requirement=margin_requirement, time=row.Datetime)\n",
    "                active_short_positions.append(pos)\n",
    "\n",
    "        # Calculate portfolio value\n",
    "        portfolio_value.append(get_portfolio_value(capital, active_long_positions, active_short_positions, row.Close, N_SHARES, COM))\n",
    "\n",
    "    # At the end of the backtesting, we should close all active positions\n",
    "    capital += row.Close * len(active_long_positions) * N_SHARES * (1 - COM)\n",
    "\n",
    "    for position in active_short_positions:\n",
    "        capital += position.margin_account + position.margin_requirement - (row.Close * position.n_shares * (1 + COM))\n",
    "\n",
    "    active_long_positions = []\n",
    "    active_short_positions = []\n",
    "\n",
    "    return (capital / 1_000_000) - 1 "
   ]
  },
  {
   "cell_type": "code",
   "execution_count": 6,
   "id": "f2ea7b17",
   "metadata": {},
   "outputs": [
    {
     "name": "stderr",
     "output_type": "stream",
     "text": [
      "[I 2025-09-16 22:37:44,992] A new study created in memory with name: no-name-7a0a64cd-42e1-4d72-94e1-5605800a02a9\n",
      "[I 2025-09-16 22:37:50,617] Trial 4 finished with value: -0.004471210425403216 and parameters: {'rsi_window': 29, 'rsi_lower': 16, 'rsi_upper': 86, 'stop_loss': 0.02266318494172474, 'take_profit': 0.08544688004380395, 'n_shares': 132}. Best is trial 4 with value: -0.004471210425403216.\n",
      "[I 2025-09-16 22:37:54,147] Trial 3 finished with value: 0.027456222691729204 and parameters: {'rsi_window': 43, 'rsi_lower': 20, 'rsi_upper': 76, 'stop_loss': 0.1307454589524109, 'take_profit': 0.07698292286023242, 'n_shares': 421}. Best is trial 3 with value: 0.027456222691729204.\n",
      "[I 2025-09-16 22:37:57,798] Trial 5 finished with value: 0.05348939856205215 and parameters: {'rsi_window': 33, 'rsi_lower': 16, 'rsi_upper': 69, 'stop_loss': 0.012746524631097631, 'take_profit': 0.05121879279647793, 'n_shares': 387}. Best is trial 5 with value: 0.05348939856205215.\n",
      "[I 2025-09-16 22:37:59,860] Trial 1 finished with value: 0.168215673402331 and parameters: {'rsi_window': 34, 'rsi_lower': 14, 'rsi_upper': 72, 'stop_loss': 0.030345205295141058, 'take_profit': 0.09666557762448554, 'n_shares': 236}. Best is trial 1 with value: 0.168215673402331.\n",
      "[I 2025-09-16 22:38:02,075] Trial 9 finished with value: 0.014990087795532459 and parameters: {'rsi_window': 20, 'rsi_lower': 11, 'rsi_upper': 88, 'stop_loss': 0.08010726862701635, 'take_profit': 0.12922699118353673, 'n_shares': 132}. Best is trial 1 with value: 0.168215673402331.\n",
      "[I 2025-09-16 22:38:07,340] Trial 8 finished with value: 0.07727866165469766 and parameters: {'rsi_window': 41, 'rsi_lower': 30, 'rsi_upper': 73, 'stop_loss': 0.13683705215902064, 'take_profit': 0.04040893725286649, 'n_shares': 424}. Best is trial 1 with value: 0.168215673402331.\n",
      "[I 2025-09-16 22:38:08,401] Trial 2 finished with value: 0.048742898104933596 and parameters: {'rsi_window': 34, 'rsi_lower': 14, 'rsi_upper': 70, 'stop_loss': 0.055079716854052045, 'take_profit': 0.10237709145936433, 'n_shares': 359}. Best is trial 1 with value: 0.168215673402331.\n",
      "[I 2025-09-16 22:38:13,705] Trial 6 finished with value: -0.09370434666280414 and parameters: {'rsi_window': 25, 'rsi_lower': 33, 'rsi_upper': 82, 'stop_loss': 0.06599282073709309, 'take_profit': 0.1027967129403303, 'n_shares': 170}. Best is trial 1 with value: 0.168215673402331.\n",
      "[I 2025-09-16 22:38:14,048] Trial 0 finished with value: -0.41340918173426766 and parameters: {'rsi_window': 7, 'rsi_lower': 12, 'rsi_upper': 74, 'stop_loss': 0.07361235568497528, 'take_profit': 0.022106597024576177, 'n_shares': 379}. Best is trial 1 with value: 0.168215673402331.\n",
      "[I 2025-09-16 22:38:15,848] Trial 7 finished with value: 0.4530633796248047 and parameters: {'rsi_window': 19, 'rsi_lower': 22, 'rsi_upper': 74, 'stop_loss': 0.11142795732719664, 'take_profit': 0.06365932731403195, 'n_shares': 342}. Best is trial 7 with value: 0.4530633796248047.\n"
     ]
    }
   ],
   "source": [
    "study = optuna.create_study(direction='maximize')\n",
    "study.optimize(lambda trial: backtest(data, trial), n_trials=10, n_jobs=-1)"
   ]
  },
  {
   "cell_type": "markdown",
   "id": "8613509c",
   "metadata": {},
   "source": [
    "## <font color='cornflowerblue'> Resultados"
   ]
  },
  {
   "cell_type": "code",
   "execution_count": 7,
   "id": "8b143117",
   "metadata": {},
   "outputs": [
    {
     "data": {
      "text/plain": [
       "{'rsi_window': 19,\n",
       " 'rsi_lower': 22,\n",
       " 'rsi_upper': 74,\n",
       " 'stop_loss': 0.11142795732719664,\n",
       " 'take_profit': 0.06365932731403195,\n",
       " 'n_shares': 342}"
      ]
     },
     "execution_count": 7,
     "metadata": {},
     "output_type": "execute_result"
    }
   ],
   "source": [
    "study.best_params"
   ]
  },
  {
   "cell_type": "code",
   "execution_count": 8,
   "id": "95d1861f",
   "metadata": {},
   "outputs": [
    {
     "data": {
      "text/plain": [
       "0.4530633796248047"
      ]
     },
     "execution_count": 8,
     "metadata": {},
     "output_type": "execute_result"
    }
   ],
   "source": [
    "study.best_value"
   ]
  },
  {
   "cell_type": "markdown",
   "id": "cb061814",
   "metadata": {},
   "source": [
    "## <font color='cornflowerblue'> Uso de resultados óptimos"
   ]
  },
  {
   "cell_type": "code",
   "execution_count": 9,
   "id": "30804bbb",
   "metadata": {},
   "outputs": [],
   "source": [
    "# Windows\n",
    "window = study.best_params['rsi_window']\n",
    "lower = study.best_params['rsi_lower']\n",
    "upper = study.best_params['rsi_upper']\n",
    "\n",
    "# Commissions and rates\n",
    "COM = 0.125 / 100\n",
    "BORROW_RATE = 0.25 / 100\n",
    "INITIAL_MARGIN = 0.5\n",
    "MAINTENANCE_MARGIN = 0.25\n",
    "\n",
    "# Convert annualized borrow rate to 5-min bar rate\n",
    "bars_per_year = 252 * 6.5 * 60 / 5  # 252 trading days, 6.5 hours per day, 5-min bars\n",
    "bar_borrow_rate = (1 + BORROW_RATE) ** (1 / bars_per_year) - 1\n",
    "\n",
    "# Strategy parameters\n",
    "STOP_LOSS: float = study.best_params['stop_loss']\n",
    "TAKE_PROFIT: float = study.best_params['take_profit']\n",
    "N_SHARES: int = study.best_params['n_shares']"
   ]
  },
  {
   "cell_type": "code",
   "execution_count": 10,
   "id": "c6268b22",
   "metadata": {},
   "outputs": [],
   "source": [
    "# Data\n",
    "data = pd.read_csv('aapl_5m_train.csv').dropna()\n",
    "\n",
    "# Indicators\n",
    "rsi_indicator = ta.momentum.RSIIndicator(data.Close, window=window)\n",
    "data['rsi'] = rsi_indicator.rsi()\n",
    "\n",
    "# Signals\n",
    "data['buy_signal'] = data['rsi'] < lower\n",
    "data['sell_signal'] = data['rsi'] > upper"
   ]
  },
  {
   "cell_type": "markdown",
   "id": "794a5e7a",
   "metadata": {},
   "source": [
    "## <font color='cornflowerblue'> Backtest"
   ]
  },
  {
   "cell_type": "code",
   "execution_count": 11,
   "id": "14fdd060",
   "metadata": {},
   "outputs": [],
   "source": [
    "# Initial values\n",
    "capital: float = 1_000_000\n",
    "margin_account: float = 0\n",
    "portfolio_value = [capital]\n",
    "active_long_positions: list[Position] = []\n",
    "active_short_positions: list[Position] = []\n",
    "\n",
    "for i, row in data.iterrows():\n",
    "    # -- LONG -- #\n",
    "    # Check active orders\n",
    "    for position in active_long_positions.copy():\n",
    "        # Stop loss or take profit check\n",
    "        if row.Close > position.tp or row.Close < position.sl:\n",
    "            # Add profits / losses to capital\n",
    "            capital += row.Close * position.n_shares * (1 - COM)\n",
    "            # Remove position from active position\n",
    "            active_long_positions.remove(position)\n",
    "\n",
    "    # -- SHORT -- #\n",
    "    for position in active_short_positions.copy():\n",
    "        # Apply borrow rate to active short positions\n",
    "        cover_cost = row.Close * position.n_shares * (1 + COM)\n",
    "        position.margin_account -= row.Close * position.n_shares * bar_borrow_rate\n",
    "\n",
    "        margin_deposit = position.margin_requirement\n",
    "        equity = (position.margin_account + margin_deposit) - cover_cost\n",
    "\n",
    "        # Required Equity\n",
    "        required_equity = MAINTENANCE_MARGIN * cover_cost\n",
    "\n",
    "        # Check Margin call\n",
    "        if equity < required_equity:\n",
    "            # Margin Call\n",
    "            deposit = required_equity - equity\n",
    "            print(f'Margin Call at {row.Datetime} | Equity: {equity:.2f} | Required: {required_equity:.2f}')\n",
    "\n",
    "            if capital > deposit:\n",
    "                capital -= deposit\n",
    "                position.margin_account += deposit\n",
    "            else:\n",
    "                # We have to close the position\n",
    "                capital += position.margin_account + position.margin_requirement - cover_cost\n",
    "                active_short_positions.remove(position)\n",
    "                continue\n",
    "\n",
    "        else:\n",
    "            # Stop loss or take profit check\n",
    "            if row.Close < position.tp or row.Close > position.sl:\n",
    "                # Add profits / losses to capital\n",
    "                capital += position.margin_account + position.margin_requirement - cover_cost\n",
    "                # Remove position from active position\n",
    "                active_short_positions.remove(position)\n",
    "\n",
    "    # Check Long Signal\n",
    "    if getattr(row, \"buy_signal\", False):\n",
    "        cost = row.Close * N_SHARES * (1 + COM)\n",
    "\n",
    "        # Do we have enough cash?\n",
    "        if capital > cost:\n",
    "            # Discount cash\n",
    "            capital -= cost\n",
    "            # Add position to portfolio\n",
    "            pos = Position(ticker='AAPL', n_shares=N_SHARES, price=row.Close,\n",
    "                           sl=row.Close * (1 - STOP_LOSS), tp=row.Close*(1 + TAKE_PROFIT),\n",
    "                           margin_account=0, margin_requirement=0, time=row.Datetime)\n",
    "            active_long_positions.append(pos)\n",
    "\n",
    "    # Check Short Signal\n",
    "    if getattr(row, \"sell_signal\", False):\n",
    "        short_value = row.Close * N_SHARES\n",
    "        margin_requirement = short_value * INITIAL_MARGIN\n",
    "        \n",
    "        # Do we have enough cash?\n",
    "        if capital > margin_requirement:\n",
    "            # Setting up the margin account\n",
    "            margin_account = row.Close * N_SHARES * (1 - COM)\n",
    "            # Discount cash\n",
    "            capital -= margin_requirement\n",
    "\n",
    "            pos = Position(ticker='AAPL', n_shares=N_SHARES, price=row.Close,\n",
    "                           sl=row.Close * (1 + STOP_LOSS), tp=row.Close*(1 - TAKE_PROFIT),\n",
    "                           margin_account=margin_account, margin_requirement=margin_requirement, time=row.Datetime)\n",
    "            active_short_positions.append(pos)\n",
    "\n",
    "    # Calculate portfolio value\n",
    "    portfolio_value.append(get_portfolio_value(capital, active_long_positions, active_short_positions, row.Close, N_SHARES, COM))\n",
    "\n",
    "# At the end of the backtesting, we should close all active positions\n",
    "capital += row.Close * len(active_long_positions) * N_SHARES * (1 - COM)\n",
    "\n",
    "for position in active_short_positions:\n",
    "    capital += position.margin_account + position.margin_requirement - (row.Close * position.n_shares * (1 + COM))\n",
    "\n",
    "active_long_positions = []\n",
    "active_short_positions = []"
   ]
  },
  {
   "cell_type": "code",
   "execution_count": 12,
   "id": "a3e4f7c3",
   "metadata": {},
   "outputs": [
    {
     "data": {
      "text/plain": [
       "1453063.3796248047"
      ]
     },
     "execution_count": 12,
     "metadata": {},
     "output_type": "execute_result"
    }
   ],
   "source": [
    "capital"
   ]
  },
  {
   "cell_type": "markdown",
   "id": "499e296a",
   "metadata": {},
   "source": [
    "## <font color='cornflowerblue'> Plots"
   ]
  },
  {
   "cell_type": "code",
   "execution_count": 13,
   "id": "e0d89a4f",
   "metadata": {},
   "outputs": [
    {
     "data": {
      "image/png": "[encoded data removed]",
      "text/plain": [
       "<Figure size 1200x600 with 1 Axes>"
      ]
     },
     "metadata": {},
     "output_type": "display_data"
    }
   ],
   "source": [
    "plt.figure(figsize=(12, 6))\n",
    "plt.plot(portfolio_value)\n",
    "plt.title('Portfolio Value Over Time')\n",
    "plt.xlabel('Time')\n",
    "plt.ylabel('Portfolio Value')\n",
    "plt.show()"
   ]
  }
 ],
 "metadata": {
  "kernelspec": {
   "display_name": "base",
   "language": "python",
   "name": "python3"
  },
  "language_info": {
   "codemirror_mode": {
    "name": "ipython",
    "version": 3
   },
   "file_extension": ".py",
   "mimetype": "text/x-python",
   "name": "python",
   "nbconvert_exporter": "python",
   "pygments_lexer": "ipython3",
   "version": "3.12.3"
  }
 },
 "nbformat": 4,
 "nbformat_minor": 5
}
