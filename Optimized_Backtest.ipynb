{
 "cells": [
  {
   "cell_type": "code",
   "execution_count": 1,
   "id": "1883831b",
   "metadata": {},
   "outputs": [],
   "source": [
    "import ta\n",
    "import optuna\n",
    "import warnings\n",
    "import numpy as np\n",
    "import pandas as pd\n",
    "import seaborn as sns\n",
    "import matplotlib.pyplot as plt\n",
    "\n",
    "sns.set_theme()\n",
    "np.random.seed(42)\n",
    "warnings.filterwarnings(\"ignore\")"
   ]
  },
  {
   "cell_type": "code",
   "execution_count": 2,
   "id": "af62c681",
   "metadata": {},
   "outputs": [],
   "source": [
    "from dataclasses import dataclass\n",
    "\n",
    "@dataclass\n",
    "class Position:\n",
    "    \"\"\" A cool representation of a position\n",
    "    \"\"\"\n",
    "    ticker: str\n",
    "    n_shares: int\n",
    "    price: float\n",
    "    sl: float\n",
    "    tp: float\n",
    "    margin_account: float\n",
    "    margin_requirement: float\n",
    "    time: str"
   ]
  },
  {
   "cell_type": "code",
   "execution_count": 3,
   "id": "790116e2",
   "metadata": {},
   "outputs": [],
   "source": [
    "def get_portfolio_value(cash: float, long_ops: list[Position], short_ops: list[Position], current_price: float, n_shares: int, COM: float) -> float:\n",
    "    val = cash\n",
    "\n",
    "    # Add long positions value\n",
    "    val += len(long_ops) * current_price * n_shares\n",
    "\n",
    "    # Add short positions equity (margin_account + margin_requirement - cost to cover)\n",
    "    for pos in short_ops:\n",
    "        cover_cost = current_price * pos.n_shares * (1 + COM)  # include commission\n",
    "        val += pos.margin_account + pos.margin_requirement - cover_cost\n",
    "\n",
    "    return val"
   ]
  },
  {
   "cell_type": "code",
   "execution_count": 4,
   "id": "437617f1",
   "metadata": {},
   "outputs": [],
   "source": [
    "data = pd.read_csv('aapl_5m_train.csv').dropna()"
   ]
  },
  {
   "cell_type": "markdown",
   "id": "33fc1e05",
   "metadata": {},
   "source": [
    "## <font color='cornflowerblue'> Optimización de hiperparámetros"
   ]
  },
  {
   "cell_type": "code",
   "execution_count": 5,
   "id": "41bc824c",
   "metadata": {},
   "outputs": [],
   "source": [
    "def backtest(data, trial) -> float:\n",
    "    data = data.copy()\n",
    "\n",
    "    # Hyperparameters to optimize\n",
    "    rsi_window = trial.suggest_int('rsi_window', 5, 50)\n",
    "    rsi_lower = trial.suggest_int('rsi_lower', 5, 35)\n",
    "    rsi_upper = trial.suggest_int('rsi_upper', 65, 95)\n",
    "    stop_loss = trial.suggest_float('stop_loss', 0.01, 0.15)\n",
    "    take_profit = trial.suggest_float('take_profit', 0.01, 0.15)\n",
    "    n_shares = trial.suggest_int('n_shares', 50, 500)\n",
    "\n",
    "    # Indicators\n",
    "    rsi_indicator = ta.momentum.RSIIndicator(data.Close, window=rsi_window)\n",
    "    data['rsi'] = rsi_indicator.rsi()\n",
    "\n",
    "    # Signals\n",
    "    data['buy_signal'] = data.rsi < rsi_lower\n",
    "    data['sell_signal'] = data.rsi > rsi_upper\n",
    "\n",
    "    # Initial values\n",
    "    capital: float = 1_000_000\n",
    "    margin_account: float = 0\n",
    "    portfolio_value = [capital]\n",
    "    active_long_positions: list[Position] = []\n",
    "    active_short_positions: list[Position] = []\n",
    "\n",
    "    # Commissions and rates\n",
    "    COM: float = 0.125 / 100\n",
    "    BORROW_RATE: float = 0.25 / 100\n",
    "    INITIAL_MARGIN = 0.5\n",
    "    MAINTENANCE_MARGIN = 0.25\n",
    "\n",
    "    # Convert annualized borrow rate to 5-min bar rate\n",
    "    bars_per_year = 252 * 6.5 * 60 / 5  # 252 trading days, 6.5 hours per day, 5-min bars\n",
    "    bar_borrow_rate = (1 + BORROW_RATE) ** (1 / bars_per_year) - 1\n",
    "\n",
    "    # Strategy parameters\n",
    "    STOP_LOSS: float = stop_loss\n",
    "    TAKE_PROFIT: float = take_profit\n",
    "    N_SHARES: int = n_shares\n",
    "\n",
    "    for i, row in data.iterrows():\n",
    "        # -- LONG -- #\n",
    "        # Check active orders\n",
    "        for position in active_long_positions.copy():\n",
    "            # Stop loss or take profit check\n",
    "            if row.Close > position.tp or row.Close < position.sl:\n",
    "                # Add profits / losses to capital\n",
    "                capital += row.Close * position.n_shares * (1 - COM)\n",
    "                # Remove position from active position\n",
    "                active_long_positions.remove(position)\n",
    "\n",
    "        # -- SHORT -- #\n",
    "        for position in active_short_positions.copy():\n",
    "            # Apply borrow rate to active short positions\n",
    "            cover_cost = row.Close * position.n_shares * (1 + COM)\n",
    "            position.margin_account -= row.Close * position.n_shares * bar_borrow_rate\n",
    "\n",
    "            margin_deposit = position.margin_requirement\n",
    "            equity = (position.margin_account + margin_deposit) - cover_cost\n",
    "\n",
    "            # Required Equity\n",
    "            required_equity = MAINTENANCE_MARGIN * cover_cost\n",
    "\n",
    "            # Check Margin call\n",
    "            if equity < required_equity:\n",
    "                # Margin Call\n",
    "                deposit = required_equity - equity\n",
    "                print(f'Margin Call at {row.Datetime} | Equity: {equity:.2f} | Required: {required_equity:.2f}')\n",
    "\n",
    "                if capital > deposit:\n",
    "                    capital -= deposit\n",
    "                else:\n",
    "                    # We have to close the position\n",
    "                    capital += position.margin_account + position.margin_requirement - cover_cost\n",
    "                    active_short_positions.remove(position)\n",
    "                    continue\n",
    "\n",
    "            else:\n",
    "                # Stop loss or take profit check\n",
    "                if row.Close < position.tp or row.Close > position.sl:\n",
    "                    # Add profits / losses to capital\n",
    "                    capital += position.margin_account + position.margin_requirement - cover_cost\n",
    "                    # Remove position from active position\n",
    "                    active_short_positions.remove(position)\n",
    "\n",
    "        # Check Long Signal\n",
    "        if row.buy_signal:\n",
    "            cost = row.Close * N_SHARES * (1 + COM)\n",
    "\n",
    "            # Do we have enough cash?\n",
    "            if capital > cost:\n",
    "                # Discount cash\n",
    "                capital -= cost\n",
    "                # Add position to portfolio\n",
    "                pos = Position(ticker='AAPL', n_shares=N_SHARES, price=row.Close,\n",
    "                            sl=row.Close * (1 - STOP_LOSS), tp=row.Close*(1 + TAKE_PROFIT),\n",
    "                            margin_account=0, margin_requirement=0, time=row.Datetime)\n",
    "                active_long_positions.append(pos)\n",
    "\n",
    "        # Check Short Signal\n",
    "        if row.sell_signal:\n",
    "            short_value = row.Close * N_SHARES\n",
    "            margin_requirement = short_value * INITIAL_MARGIN\n",
    "            \n",
    "            # Do we have enough cash?\n",
    "            if capital > margin_requirement:\n",
    "                # Setting up the margin account\n",
    "                margin_account = row.Close * N_SHARES * (1 - COM)\n",
    "                # Discount cash\n",
    "                capital -= margin_requirement\n",
    "\n",
    "                pos = Position(ticker='AAPL', n_shares=N_SHARES, price=row.Close,\n",
    "                            sl=row.Close * (1 + STOP_LOSS), tp=row.Close*(1 - TAKE_PROFIT),\n",
    "                            margin_account=margin_account, margin_requirement=margin_requirement, time=row.Datetime)\n",
    "                active_short_positions.append(pos)\n",
    "\n",
    "        # Calculate portfolio value\n",
    "        portfolio_value.append(get_portfolio_value(capital, active_long_positions, active_short_positions, row.Close, N_SHARES, COM))\n",
    "\n",
    "    # At the end of the backtesting, we should close all active positions\n",
    "    capital += row.Close * len(active_long_positions) * N_SHARES * (1 - COM)\n",
    "\n",
    "    for position in active_short_positions:\n",
    "        capital += position.margin_account + position.margin_requirement - (row.Close * position.n_shares * (1 + COM))\n",
    "\n",
    "    active_long_positions = []\n",
    "    active_short_positions = []\n",
    "\n",
    "    return (capital / 1_000_000) - 1 "
   ]
  },
  {
   "cell_type": "code",
   "execution_count": 6,
   "id": "f2ea7b17",
   "metadata": {},
   "outputs": [
    {
     "name": "stderr",
     "output_type": "stream",
     "text": [
      "[I 2025-09-15 19:35:25,639] A new study created in memory with name: no-name-2e475d12-d7a7-4a97-ab20-421faf47992c\n",
      "[I 2025-09-15 19:35:31,173] Trial 7 finished with value: 0.0 and parameters: {'rsi_window': 42, 'rsi_lower': 16, 'rsi_upper': 95, 'stop_loss': 0.05832998874671914, 'take_profit': 0.0748016149982942, 'n_shares': 403}. Best is trial 7 with value: 0.0.\n",
      "[I 2025-09-15 19:35:33,936] Trial 0 finished with value: 0.07646726216088773 and parameters: {'rsi_window': 47, 'rsi_lower': 30, 'rsi_upper': 91, 'stop_loss': 0.05230800318772704, 'take_profit': 0.09195206859145197, 'n_shares': 327}. Best is trial 0 with value: 0.07646726216088773.\n",
      "[I 2025-09-15 19:35:40,129] Trial 8 finished with value: 0.004261227672756052 and parameters: {'rsi_window': 36, 'rsi_lower': 17, 'rsi_upper': 77, 'stop_loss': 0.0546238643644072, 'take_profit': 0.04885070403569664, 'n_shares': 219}. Best is trial 0 with value: 0.07646726216088773.\n",
      "[I 2025-09-15 19:35:40,144] Trial 3 finished with value: 0.06475761195690644 and parameters: {'rsi_window': 34, 'rsi_lower': 8, 'rsi_upper': 76, 'stop_loss': 0.11816620926706634, 'take_profit': 0.12134394312262325, 'n_shares': 400}. Best is trial 0 with value: 0.07646726216088773.\n",
      "[I 2025-09-15 19:35:41,972] Trial 4 finished with value: -0.021384839194305227 and parameters: {'rsi_window': 10, 'rsi_lower': 17, 'rsi_upper': 93, 'stop_loss': 0.07931285160037926, 'take_profit': 0.051421766810531296, 'n_shares': 172}. Best is trial 0 with value: 0.07646726216088773.\n",
      "[I 2025-09-15 19:35:48,136] Trial 2 finished with value: -0.23085788904196913 and parameters: {'rsi_window': 12, 'rsi_lower': 26, 'rsi_upper': 81, 'stop_loss': 0.039334158080457655, 'take_profit': 0.053942977735251814, 'n_shares': 321}. Best is trial 0 with value: 0.07646726216088773.\n",
      "[I 2025-09-15 19:36:02,674] Trial 1 finished with value: 0.05131917845845324 and parameters: {'rsi_window': 10, 'rsi_lower': 8, 'rsi_upper': 84, 'stop_loss': 0.11686216820767742, 'take_profit': 0.09508626445501862, 'n_shares': 139}. Best is trial 0 with value: 0.07646726216088773.\n",
      "[I 2025-09-15 19:36:03,192] Trial 9 finished with value: 0.33698687844539443 and parameters: {'rsi_window': 12, 'rsi_lower': 35, 'rsi_upper': 75, 'stop_loss': 0.1444591350958646, 'take_profit': 0.05836320225049725, 'n_shares': 422}. Best is trial 9 with value: 0.33698687844539443.\n",
      "[I 2025-09-15 19:36:21,743] Trial 6 finished with value: 0.04475657591788873 and parameters: {'rsi_window': 7, 'rsi_lower': 6, 'rsi_upper': 73, 'stop_loss': 0.14586989233172223, 'take_profit': 0.039680707615292014, 'n_shares': 184}. Best is trial 9 with value: 0.33698687844539443.\n",
      "[I 2025-09-15 19:36:28,263] Trial 5 finished with value: -0.19247347463183406 and parameters: {'rsi_window': 6, 'rsi_lower': 11, 'rsi_upper': 68, 'stop_loss': 0.08408051290322262, 'take_profit': 0.03867907271381124, 'n_shares': 89}. Best is trial 9 with value: 0.33698687844539443.\n"
     ]
    }
   ],
   "source": [
    "study = optuna.create_study(direction='maximize')\n",
    "study.optimize(lambda trial: backtest(data, trial), n_trials=10, n_jobs=-1)"
   ]
  },
  {
   "cell_type": "markdown",
   "id": "8613509c",
   "metadata": {},
   "source": [
    "## <font color='cornflowerblue'> Resultados"
   ]
  },
  {
   "cell_type": "code",
   "execution_count": 7,
   "id": "8b143117",
   "metadata": {},
   "outputs": [
    {
     "data": {
      "text/plain": [
       "{'rsi_window': 12,\n",
       " 'rsi_lower': 35,\n",
       " 'rsi_upper': 75,\n",
       " 'stop_loss': 0.1444591350958646,\n",
       " 'take_profit': 0.05836320225049725,\n",
       " 'n_shares': 422}"
      ]
     },
     "execution_count": 7,
     "metadata": {},
     "output_type": "execute_result"
    }
   ],
   "source": [
    "study.best_params"
   ]
  },
  {
   "cell_type": "code",
   "execution_count": 8,
   "id": "95d1861f",
   "metadata": {},
   "outputs": [
    {
     "data": {
      "text/plain": [
       "0.33698687844539443"
      ]
     },
     "execution_count": 8,
     "metadata": {},
     "output_type": "execute_result"
    }
   ],
   "source": [
    "study.best_value"
   ]
  },
  {
   "cell_type": "markdown",
   "id": "cb061814",
   "metadata": {},
   "source": [
    "## <font color='cornflowerblue'> Uso de resultados óptimos"
   ]
  },
  {
   "cell_type": "code",
   "execution_count": 9,
   "id": "30804bbb",
   "metadata": {},
   "outputs": [],
   "source": [
    "# Windows\n",
    "window = study.best_params['rsi_window']\n",
    "lower = study.best_params['rsi_lower']\n",
    "upper = study.best_params['rsi_upper']\n",
    "\n",
    "# Commissions and rates\n",
    "COM = 0.125 / 100\n",
    "BORROW_RATE = 0.25 / 100\n",
    "INITIAL_MARGIN = 0.5\n",
    "MAINTENANCE_MARGIN = 0.25\n",
    "\n",
    "# Convert annualized borrow rate to 5-min bar rate\n",
    "bars_per_year = 252 * 6.5 * 60 / 5  # 252 trading days, 6.5 hours per day, 5-min bars\n",
    "bar_borrow_rate = (1 + BORROW_RATE) ** (1 / bars_per_year) - 1\n",
    "\n",
    "# Strategy parameters\n",
    "STOP_LOSS: float = study.best_params['stop_loss']\n",
    "TAKE_PROFIT: float = study.best_params['take_profit']\n",
    "N_SHARES: int = study.best_params['n_shares']"
   ]
  },
  {
   "cell_type": "code",
   "execution_count": 10,
   "id": "c6268b22",
   "metadata": {},
   "outputs": [],
   "source": [
    "# Data\n",
    "data = pd.read_csv('aapl_5m_train.csv').dropna()\n",
    "\n",
    "# Indicators\n",
    "rsi_indicator = ta.momentum.RSIIndicator(data.Close, window=window)\n",
    "data['rsi'] = rsi_indicator.rsi()\n",
    "\n",
    "# Signals\n",
    "data['buy_signal'] = data['rsi'] < lower\n",
    "data['sell_signal'] = data['rsi'] > upper"
   ]
  },
  {
   "cell_type": "markdown",
   "id": "794a5e7a",
   "metadata": {},
   "source": [
    "## <font color='cornflowerblue'> Backtest"
   ]
  },
  {
   "cell_type": "code",
   "execution_count": 11,
   "id": "14fdd060",
   "metadata": {},
   "outputs": [],
   "source": [
    "# Initial values\n",
    "capital: float = 1_000_000\n",
    "margin_account: float = 0\n",
    "portfolio_value = [capital]\n",
    "active_long_positions: list[Position] = []\n",
    "active_short_positions: list[Position] = []\n",
    "\n",
    "for i, row in data.iterrows():\n",
    "    # -- LONG -- #\n",
    "    # Check active orders\n",
    "    for position in active_long_positions.copy():\n",
    "        # Stop loss or take profit check\n",
    "        if row.Close > position.tp or row.Close < position.sl:\n",
    "            # Add profits / losses to capital\n",
    "            capital += row.Close * position.n_shares * (1 - COM)\n",
    "            # Remove position from active position\n",
    "            active_long_positions.remove(position)\n",
    "\n",
    "    # -- SHORT -- #\n",
    "    for position in active_short_positions.copy():\n",
    "        # Apply borrow rate to active short positions\n",
    "        cover_cost = row.Close * position.n_shares * (1 + COM)\n",
    "        position.margin_account -= row.Close * position.n_shares * bar_borrow_rate\n",
    "\n",
    "        margin_deposit = position.margin_requirement\n",
    "        equity = (position.margin_account + margin_deposit) - cover_cost\n",
    "\n",
    "        # Required Equity\n",
    "        required_equity = MAINTENANCE_MARGIN * cover_cost\n",
    "\n",
    "        # Check Margin call\n",
    "        if equity < required_equity:\n",
    "            # Margin Call\n",
    "            deposit = required_equity - equity\n",
    "            print(f'Margin Call at {row.Datetime} | Equity: {equity:.2f} | Required: {required_equity:.2f}')\n",
    "\n",
    "            if capital > deposit:\n",
    "                capital -= deposit\n",
    "            else:\n",
    "                # We have to close the position\n",
    "                capital += position.margin_account + position.margin_requirement - cover_cost\n",
    "                active_short_positions.remove(position)\n",
    "                continue\n",
    "\n",
    "        else:\n",
    "            # Stop loss or take profit check\n",
    "            if row.Close < position.tp or row.Close > position.sl:\n",
    "                # Add profits / losses to capital\n",
    "                capital += position.margin_account + position.margin_requirement - cover_cost\n",
    "                # Remove position from active position\n",
    "                active_short_positions.remove(position)\n",
    "\n",
    "    # Check Long Signal\n",
    "    if row.buy_signal:\n",
    "        cost = row.Close * N_SHARES * (1 + COM)\n",
    "\n",
    "        # Do we have enough cash?\n",
    "        if capital > cost:\n",
    "            # Discount cash\n",
    "            capital -= cost\n",
    "            # Add position to portfolio\n",
    "            pos = Position(ticker='AAPL', n_shares=N_SHARES, price=row.Close,\n",
    "                           sl=row.Close * (1 - STOP_LOSS), tp=row.Close*(1 + TAKE_PROFIT),\n",
    "                           margin_account=0, margin_requirement=0, time=row.Datetime)\n",
    "            active_long_positions.append(pos)\n",
    "\n",
    "    # Check Short Signal\n",
    "    if row.sell_signal:\n",
    "        short_value = row.Close * N_SHARES\n",
    "        margin_requirement = short_value * INITIAL_MARGIN\n",
    "        \n",
    "        # Do we have enough cash?\n",
    "        if capital > margin_requirement:\n",
    "            # Setting up the margin account\n",
    "            margin_account = row.Close * N_SHARES * (1 - COM)\n",
    "            # Discount cash\n",
    "            capital -= margin_requirement\n",
    "\n",
    "            pos = Position(ticker='AAPL', n_shares=N_SHARES, price=row.Close,\n",
    "                           sl=row.Close * (1 + STOP_LOSS), tp=row.Close*(1 - TAKE_PROFIT),\n",
    "                           margin_account=margin_account, margin_requirement=margin_requirement, time=row.Datetime)\n",
    "            active_short_positions.append(pos)\n",
    "\n",
    "    # Calculate portfolio value\n",
    "    portfolio_value.append(get_portfolio_value(capital, active_long_positions, active_short_positions, row.Close, N_SHARES, COM))\n",
    "\n",
    "# At the end of the backtesting, we should close all active positions\n",
    "capital += row.Close * len(active_long_positions) * N_SHARES * (1 - COM)\n",
    "\n",
    "for position in active_short_positions:\n",
    "    capital += position.margin_account + position.margin_requirement - (row.Close * position.n_shares * (1 + COM))\n",
    "\n",
    "active_long_positions = []\n",
    "active_short_positions = []"
   ]
  },
  {
   "cell_type": "code",
   "execution_count": 12,
   "id": "a3e4f7c3",
   "metadata": {},
   "outputs": [
    {
     "data": {
      "text/plain": [
       "1336986.8784453943"
      ]
     },
     "execution_count": 12,
     "metadata": {},
     "output_type": "execute_result"
    }
   ],
   "source": [
    "capital"
   ]
  },
  {
   "cell_type": "markdown",
   "id": "499e296a",
   "metadata": {},
   "source": [
    "## <font color='cornflowerblue'> Plots"
   ]
  },
  {
   "cell_type": "code",
   "execution_count": 13,
   "id": "e0d89a4f",
   "metadata": {},
   "outputs": [
    {
     "data": {
      "image/png": "[encoded data removed]",
      "text/plain": [
       "<Figure size 1200x600 with 1 Axes>"
      ]
     },
     "metadata": {},
     "output_type": "display_data"
    }
   ],
   "source": [
    "plt.figure(figsize=(12, 6))\n",
    "plt.plot(portfolio_value)\n",
    "plt.title('Portfolio Value Over Time')\n",
    "plt.xlabel('Time')\n",
    "plt.ylabel('Portfolio Value')\n",
    "plt.show()"
   ]
  }
 ],
 "metadata": {
  "kernelspec": {
   "display_name": "base",
   "language": "python",
   "name": "python3"
  },
  "language_info": {
   "codemirror_mode": {
    "name": "ipython",
    "version": 3
   },
   "file_extension": ".py",
   "mimetype": "text/x-python",
   "name": "python",
   "nbconvert_exporter": "python",
   "pygments_lexer": "ipython3",
   "version": "3.12.3"
  }
 },
 "nbformat": 4,
 "nbformat_minor": 5
}
