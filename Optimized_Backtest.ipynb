{
 "cells": [
  {
   "cell_type": "code",
   "execution_count": 1,
   "id": "1883831b",
   "metadata": {},
   "outputs": [],
   "source": [
    "import ta\n",
    "import optuna\n",
    "import warnings\n",
    "import numpy as np\n",
    "import pandas as pd\n",
    "import seaborn as sns\n",
    "import matplotlib.pyplot as plt\n",
    "\n",
    "sns.set_theme()\n",
    "np.random.seed(42)\n",
    "warnings.filterwarnings(\"ignore\")"
   ]
  },
  {
   "cell_type": "code",
   "execution_count": 2,
   "id": "af62c681",
   "metadata": {},
   "outputs": [],
   "source": [
    "from dataclasses import dataclass\n",
    "\n",
    "@dataclass\n",
    "class Position:\n",
    "    \"\"\" A cool representation of a position\n",
    "    \"\"\"\n",
    "    ticker: str\n",
    "    n_shares: int\n",
    "    price: float\n",
    "    sl: float\n",
    "    tp: float\n",
    "    margin_account: float\n",
    "    margin_requirement: float\n",
    "    time: str"
   ]
  },
  {
   "cell_type": "code",
   "execution_count": 3,
   "id": "790116e2",
   "metadata": {},
   "outputs": [],
   "source": [
    "def get_portfolio_value(cash: float, long_ops: list[Position], short_ops: list[Position], current_price: float, n_shares: int, COM: float) -> float:\n",
    "    val = cash\n",
    "\n",
    "    # Add long positions value\n",
    "    val += len(long_ops) * current_price * n_shares\n",
    "\n",
    "    # Add short positions equity (margin_account + margin_requirement - cost to cover)\n",
    "    for pos in short_ops:\n",
    "        cover_cost = current_price * pos.n_shares * (1 + COM)  # include commission\n",
    "        val += pos.margin_account + pos.margin_requirement - cover_cost\n",
    "\n",
    "    return val"
   ]
  },
  {
   "cell_type": "code",
   "execution_count": 4,
   "id": "437617f1",
   "metadata": {},
   "outputs": [],
   "source": [
    "data = pd.read_csv('aapl_5m_train.csv').dropna()"
   ]
  },
  {
   "cell_type": "markdown",
   "id": "33fc1e05",
   "metadata": {},
   "source": [
    "## <font color='cornflowerblue'> Optimización de hiperparámetros"
   ]
  },
  {
   "cell_type": "code",
   "execution_count": 5,
   "id": "41bc824c",
   "metadata": {},
   "outputs": [],
   "source": [
    "def backtest(data, trial) -> float:\n",
    "    data = data.copy()\n",
    "\n",
    "    # Hyperparameters to optimize\n",
    "    rsi_window = trial.suggest_int('rsi_window', 5, 50)\n",
    "    rsi_lower = trial.suggest_int('rsi_lower', 5, 35)\n",
    "    rsi_upper = trial.suggest_int('rsi_upper', 65, 95)\n",
    "    stop_loss = trial.suggest_float('stop_loss', 0.01, 0.15)\n",
    "    take_profit = trial.suggest_float('take_profit', 0.01, 0.15)\n",
    "    n_shares = trial.suggest_int('n_shares', 50, 500)\n",
    "\n",
    "    # Indicators\n",
    "    rsi_indicator = ta.momentum.RSIIndicator(data.Close, window=rsi_window)\n",
    "    data['rsi'] = rsi_indicator.rsi()\n",
    "\n",
    "    # Signals\n",
    "    data['buy_signal'] = data.rsi < rsi_lower\n",
    "    data['sell_signal'] = data.rsi > rsi_upper\n",
    "\n",
    "    # Initial values\n",
    "    capital: float = 1_000_000\n",
    "    margin_account: float = 0\n",
    "    portfolio_value = [capital]\n",
    "    active_long_positions: list[Position] = []\n",
    "    active_short_positions: list[Position] = []\n",
    "\n",
    "    # Commissions and rates\n",
    "    COM: float = 0.125 / 100\n",
    "    BORROW_RATE: float = 0.25 / 100\n",
    "    INITIAL_MARGIN = 0.5\n",
    "    MAINTENANCE_MARGIN = 0.25\n",
    "\n",
    "    # Convert annualized borrow rate to 5-min bar rate\n",
    "    bars_per_year = 252 * 6.5 * 60 / 5  # 252 trading days, 6.5 hours per day, 5-min bars\n",
    "    bar_borrow_rate = (1 + BORROW_RATE) ** (1 / bars_per_year) - 1\n",
    "\n",
    "    # Strategy parameters\n",
    "    STOP_LOSS: float = stop_loss\n",
    "    TAKE_PROFIT: float = take_profit\n",
    "    N_SHARES: int = n_shares\n",
    "\n",
    "    for i, row in data.iterrows():\n",
    "        # -- LONG -- #\n",
    "        # Check active orders\n",
    "        for position in active_long_positions.copy():\n",
    "            # Stop loss or take profit check\n",
    "            if row.Close > position.tp or row.Close < position.sl:\n",
    "                # Add profits / losses to capital\n",
    "                capital += row.Close * position.n_shares * (1 - COM)\n",
    "                # Remove position from active position\n",
    "                active_long_positions.remove(position)\n",
    "\n",
    "        # -- SHORT -- #\n",
    "        for position in active_short_positions.copy():\n",
    "            # Apply borrow rate to active short positions\n",
    "            cover_cost = row.Close * position.n_shares * (1 + COM)\n",
    "            position.margin_account -= row.Close * position.n_shares * bar_borrow_rate\n",
    "            equity = position.margin_account + position.margin_requirement - cover_cost\n",
    "\n",
    "            # Required Equity\n",
    "            required_equity = MAINTENANCE_MARGIN * cover_cost\n",
    "\n",
    "            # Check Margin call\n",
    "            if equity < required_equity:\n",
    "                # Margin Call\n",
    "                deposit = required_equity - equity\n",
    "                print(f'Margin Call at {row.Datetime} | Equity: {equity:.2f} | Required: {required_equity:.2f}')\n",
    "\n",
    "                if capital > deposit:\n",
    "                    capital -= deposit\n",
    "                    position.margin_account += deposit\n",
    "                else:\n",
    "                    # We have to close the position\n",
    "                    capital += position.margin_account + position.margin_requirement - cover_cost\n",
    "                    active_short_positions.remove(position)\n",
    "                    continue\n",
    "\n",
    "            else:\n",
    "                # Stop loss or take profit check\n",
    "                if row.Close < position.tp or row.Close > position.sl:\n",
    "                    # Add profits / losses to capital\n",
    "                    capital += position.margin_account + position.margin_requirement - cover_cost\n",
    "                    # Remove position from active position\n",
    "                    active_short_positions.remove(position)\n",
    "\n",
    "        # Check Long Signal\n",
    "        if getattr(row, \"buy_signal\", False):\n",
    "            cost = row.Close * N_SHARES * (1 + COM)\n",
    "\n",
    "            # Do we have enough cash?\n",
    "            if capital > cost:\n",
    "                # Discount cash\n",
    "                capital -= cost\n",
    "                # Add position to portfolio\n",
    "                pos = Position(ticker='AAPL', n_shares=N_SHARES, price=row.Close,\n",
    "                            sl=row.Close * (1 - STOP_LOSS), tp=row.Close*(1 + TAKE_PROFIT),\n",
    "                            margin_account=0, margin_requirement=0, time=row.Datetime)\n",
    "                active_long_positions.append(pos)\n",
    "\n",
    "        # Check Short Signal\n",
    "        if getattr(row, \"sell_signal\", False):\n",
    "            margin_requirement = row.Close * N_SHARES * INITIAL_MARGIN\n",
    "            \n",
    "            # Do we have enough cash?\n",
    "            if capital > margin_requirement:\n",
    "                # Setting up the margin account\n",
    "                margin_account = row.Close * N_SHARES * (1 - COM)\n",
    "                # Discount cash\n",
    "                capital -= margin_requirement\n",
    "\n",
    "                pos = Position(ticker='AAPL', n_shares=N_SHARES, price=row.Close,\n",
    "                            sl=row.Close * (1 + STOP_LOSS), tp=row.Close*(1 - TAKE_PROFIT),\n",
    "                            margin_account=margin_account, margin_requirement=margin_requirement, time=row.Datetime)\n",
    "                active_short_positions.append(pos)\n",
    "\n",
    "        # Calculate portfolio value\n",
    "        portfolio_value.append(get_portfolio_value(capital, active_long_positions, active_short_positions, row.Close, N_SHARES, COM))\n",
    "\n",
    "    # At the end of the backtesting, we should close all active positions\n",
    "    capital += row.Close * len(active_long_positions) * N_SHARES * (1 - COM)\n",
    "\n",
    "    for position in active_short_positions:\n",
    "        capital += position.margin_account + position.margin_requirement - (row.Close * position.n_shares * (1 + COM))\n",
    "\n",
    "    active_long_positions = []\n",
    "    active_short_positions = []\n",
    "\n",
    "    return (capital / 1_000_000) - 1 "
   ]
  },
  {
   "cell_type": "code",
   "execution_count": 6,
   "id": "f2ea7b17",
   "metadata": {},
   "outputs": [
    {
     "name": "stderr",
     "output_type": "stream",
     "text": [
      "[I 2025-09-16 22:45:43,420] A new study created in memory with name: no-name-b767e30d-8534-43bf-abcd-373ee2bd07e2\n",
      "[I 2025-09-16 22:45:49,198] Trial 3 finished with value: 0.0 and parameters: {'rsi_window': 50, 'rsi_lower': 18, 'rsi_upper': 95, 'stop_loss': 0.026867363748963632, 'take_profit': 0.05792509395531443, 'n_shares': 76}. Best is trial 3 with value: 0.0.\n",
      "[I 2025-09-16 22:45:49,363] Trial 6 finished with value: 0.0 and parameters: {'rsi_window': 39, 'rsi_lower': 12, 'rsi_upper': 93, 'stop_loss': 0.12124062121922795, 'take_profit': 0.10774526760204846, 'n_shares': 77}. Best is trial 3 with value: 0.0.\n",
      "[I 2025-09-16 22:45:50,313] Trial 1 finished with value: -0.005804356936844335 and parameters: {'rsi_window': 40, 'rsi_lower': 12, 'rsi_upper': 79, 'stop_loss': 0.10037971271130253, 'take_profit': 0.05752395704659881, 'n_shares': 91}. Best is trial 3 with value: 0.0.\n",
      "[I 2025-09-16 22:45:52,541] Trial 7 finished with value: 0.06448126055348125 and parameters: {'rsi_window': 50, 'rsi_lower': 24, 'rsi_upper': 77, 'stop_loss': 0.13798993401331144, 'take_profit': 0.14919436569544117, 'n_shares': 252}. Best is trial 7 with value: 0.06448126055348125.\n",
      "[I 2025-09-16 22:45:54,452] Trial 2 finished with value: 0.1360551122564393 and parameters: {'rsi_window': 37, 'rsi_lower': 27, 'rsi_upper': 88, 'stop_loss': 0.14758185159293008, 'take_profit': 0.07594209337758706, 'n_shares': 144}. Best is trial 2 with value: 0.1360551122564393.\n",
      "[I 2025-09-16 22:45:59,321] Trial 8 finished with value: 0.06870666831987027 and parameters: {'rsi_window': 16, 'rsi_lower': 19, 'rsi_upper': 93, 'stop_loss': 0.08738745302384708, 'take_profit': 0.09920544298235685, 'n_shares': 84}. Best is trial 2 with value: 0.1360551122564393.\n",
      "[I 2025-09-16 22:46:00,200] Trial 9 finished with value: 0.34290637876077623 and parameters: {'rsi_window': 33, 'rsi_lower': 26, 'rsi_upper': 81, 'stop_loss': 0.1410202627787683, 'take_profit': 0.11603632371802974, 'n_shares': 447}. Best is trial 9 with value: 0.34290637876077623.\n",
      "[I 2025-09-16 22:46:00,656] Trial 4 finished with value: -0.2249026268398474 and parameters: {'rsi_window': 17, 'rsi_lower': 28, 'rsi_upper': 83, 'stop_loss': 0.06804789084485252, 'take_profit': 0.07027536013850418, 'n_shares': 327}. Best is trial 9 with value: 0.34290637876077623.\n",
      "[I 2025-09-16 22:46:12,547] Trial 5 finished with value: -0.16070835638949232 and parameters: {'rsi_window': 16, 'rsi_lower': 15, 'rsi_upper': 66, 'stop_loss': 0.10831008105501486, 'take_profit': 0.05573539393441132, 'n_shares': 332}. Best is trial 9 with value: 0.34290637876077623.\n",
      "[I 2025-09-16 22:46:19,137] Trial 0 finished with value: 0.26452169021200733 and parameters: {'rsi_window': 26, 'rsi_lower': 33, 'rsi_upper': 68, 'stop_loss': 0.13522265370078684, 'take_profit': 0.14779611304972926, 'n_shares': 153}. Best is trial 9 with value: 0.34290637876077623.\n"
     ]
    }
   ],
   "source": [
    "study = optuna.create_study(direction='maximize')\n",
    "study.optimize(lambda trial: backtest(data, trial), n_trials=10, n_jobs=-1)"
   ]
  },
  {
   "cell_type": "markdown",
   "id": "8613509c",
   "metadata": {},
   "source": [
    "## <font color='cornflowerblue'> Resultados"
   ]
  },
  {
   "cell_type": "code",
   "execution_count": 7,
   "id": "8b143117",
   "metadata": {},
   "outputs": [
    {
     "data": {
      "text/plain": [
       "{'rsi_window': 33,\n",
       " 'rsi_lower': 26,\n",
       " 'rsi_upper': 81,\n",
       " 'stop_loss': 0.1410202627787683,\n",
       " 'take_profit': 0.11603632371802974,\n",
       " 'n_shares': 447}"
      ]
     },
     "execution_count": 7,
     "metadata": {},
     "output_type": "execute_result"
    }
   ],
   "source": [
    "study.best_params"
   ]
  },
  {
   "cell_type": "code",
   "execution_count": 8,
   "id": "95d1861f",
   "metadata": {},
   "outputs": [
    {
     "data": {
      "text/plain": [
       "0.34290637876077623"
      ]
     },
     "execution_count": 8,
     "metadata": {},
     "output_type": "execute_result"
    }
   ],
   "source": [
    "study.best_value"
   ]
  },
  {
   "cell_type": "markdown",
   "id": "cb061814",
   "metadata": {},
   "source": [
    "## <font color='cornflowerblue'> Uso de resultados óptimos"
   ]
  },
  {
   "cell_type": "code",
   "execution_count": 9,
   "id": "30804bbb",
   "metadata": {},
   "outputs": [],
   "source": [
    "# Windows\n",
    "window = study.best_params['rsi_window']\n",
    "lower = study.best_params['rsi_lower']\n",
    "upper = study.best_params['rsi_upper']\n",
    "\n",
    "# Commissions and rates\n",
    "COM = 0.125 / 100\n",
    "BORROW_RATE = 0.25 / 100\n",
    "INITIAL_MARGIN = 0.5\n",
    "MAINTENANCE_MARGIN = 0.25\n",
    "\n",
    "# Convert annualized borrow rate to 5-min bar rate\n",
    "bars_per_year = 252 * 6.5 * 60 / 5  # 252 trading days, 6.5 hours per day, 5-min bars\n",
    "bar_borrow_rate = (1 + BORROW_RATE) ** (1 / bars_per_year) - 1\n",
    "\n",
    "# Strategy parameters\n",
    "STOP_LOSS: float = study.best_params['stop_loss']\n",
    "TAKE_PROFIT: float = study.best_params['take_profit']\n",
    "N_SHARES: int = study.best_params['n_shares']"
   ]
  },
  {
   "cell_type": "code",
   "execution_count": 10,
   "id": "c6268b22",
   "metadata": {},
   "outputs": [],
   "source": [
    "# Data\n",
    "data = pd.read_csv('aapl_5m_train.csv').dropna()\n",
    "\n",
    "# Indicators\n",
    "rsi_indicator = ta.momentum.RSIIndicator(data.Close, window=window)\n",
    "data['rsi'] = rsi_indicator.rsi()\n",
    "\n",
    "# Signals\n",
    "data['buy_signal'] = data['rsi'] < lower\n",
    "data['sell_signal'] = data['rsi'] > upper"
   ]
  },
  {
   "cell_type": "markdown",
   "id": "794a5e7a",
   "metadata": {},
   "source": [
    "## <font color='cornflowerblue'> Backtest"
   ]
  },
  {
   "cell_type": "code",
   "execution_count": 11,
   "id": "14fdd060",
   "metadata": {},
   "outputs": [],
   "source": [
    "# Initial values\n",
    "capital: float = 1_000_000\n",
    "margin_account: float = 0\n",
    "portfolio_value = [capital]\n",
    "active_long_positions: list[Position] = []\n",
    "active_short_positions: list[Position] = []\n",
    "\n",
    "for i, row in data.iterrows():\n",
    "    # -- LONG -- #\n",
    "    # Check active orders\n",
    "    for position in active_long_positions.copy():\n",
    "        # Stop loss or take profit check\n",
    "        if row.Close > position.tp or row.Close < position.sl:\n",
    "            # Add profits / losses to capital\n",
    "            capital += row.Close * position.n_shares * (1 - COM)\n",
    "            # Remove position from active position\n",
    "            active_long_positions.remove(position)\n",
    "\n",
    "    # -- SHORT -- #\n",
    "    for position in active_short_positions.copy():\n",
    "        # Apply borrow rate to active short positions\n",
    "        cover_cost = row.Close * position.n_shares * (1 + COM)\n",
    "        position.margin_account -= row.Close * position.n_shares * bar_borrow_rate\n",
    "        equity = position.margin_account + position.margin_requirement - cover_cost\n",
    "\n",
    "        # Required Equity\n",
    "        required_equity = MAINTENANCE_MARGIN * cover_cost\n",
    "\n",
    "        # Check Margin call\n",
    "        if equity < required_equity:\n",
    "            # Margin Call\n",
    "            deposit = required_equity - equity\n",
    "            print(f'Margin Call at {row.Datetime} | Equity: {equity:.2f} | Required: {required_equity:.2f}')\n",
    "\n",
    "            if capital > deposit:\n",
    "                capital -= deposit\n",
    "                position.margin_account += deposit\n",
    "            else:\n",
    "                # We have to close the position\n",
    "                capital += position.margin_account + position.margin_requirement - cover_cost\n",
    "                active_short_positions.remove(position)\n",
    "                continue\n",
    "\n",
    "        else:\n",
    "            # Stop loss or take profit check\n",
    "            if row.Close < position.tp or row.Close > position.sl:\n",
    "                # Add profits / losses to capital\n",
    "                capital += position.margin_account + position.margin_requirement - cover_cost\n",
    "                # Remove position from active position\n",
    "                active_short_positions.remove(position)\n",
    "\n",
    "    # Check Long Signal\n",
    "    if getattr(row, \"buy_signal\", False):\n",
    "        cost = row.Close * N_SHARES * (1 + COM)\n",
    "\n",
    "        # Do we have enough cash?\n",
    "        if capital > cost:\n",
    "            # Discount cash\n",
    "            capital -= cost\n",
    "            # Add position to portfolio\n",
    "            pos = Position(ticker='AAPL', n_shares=N_SHARES, price=row.Close,\n",
    "                           sl=row.Close * (1 - STOP_LOSS), tp=row.Close*(1 + TAKE_PROFIT),\n",
    "                           margin_account=0, margin_requirement=0, time=row.Datetime)\n",
    "            active_long_positions.append(pos)\n",
    "\n",
    "    # Check Short Signal\n",
    "    if getattr(row, \"sell_signal\", False):\n",
    "        margin_requirement = row.Close * N_SHARES * INITIAL_MARGIN\n",
    "        \n",
    "        # Do we have enough cash?\n",
    "        if capital > margin_requirement:\n",
    "            # Setting up the margin account\n",
    "            margin_account = row.Close * N_SHARES * (1 - COM)\n",
    "            # Discount cash\n",
    "            capital -= margin_requirement\n",
    "\n",
    "            pos = Position(ticker='AAPL', n_shares=N_SHARES, price=row.Close,\n",
    "                           sl=row.Close * (1 + STOP_LOSS), tp=row.Close*(1 - TAKE_PROFIT),\n",
    "                           margin_account=margin_account, margin_requirement=margin_requirement, time=row.Datetime)\n",
    "            active_short_positions.append(pos)\n",
    "\n",
    "    # Calculate portfolio value\n",
    "    portfolio_value.append(get_portfolio_value(capital, active_long_positions, active_short_positions, row.Close, N_SHARES, COM))\n",
    "\n",
    "# At the end of the backtesting, we should close all active positions\n",
    "capital += row.Close * len(active_long_positions) * N_SHARES * (1 - COM)\n",
    "\n",
    "for position in active_short_positions:\n",
    "    capital += position.margin_account + position.margin_requirement - (row.Close * position.n_shares * (1 + COM))\n",
    "\n",
    "active_long_positions = []\n",
    "active_short_positions = []"
   ]
  },
  {
   "cell_type": "code",
   "execution_count": 12,
   "id": "a3e4f7c3",
   "metadata": {},
   "outputs": [
    {
     "data": {
      "text/plain": [
       "1342906.3787607762"
      ]
     },
     "execution_count": 12,
     "metadata": {},
     "output_type": "execute_result"
    }
   ],
   "source": [
    "capital"
   ]
  },
  {
   "cell_type": "markdown",
   "id": "499e296a",
   "metadata": {},
   "source": [
    "## <font color='cornflowerblue'> Plots"
   ]
  },
  {
   "cell_type": "code",
   "execution_count": 13,
   "id": "e0d89a4f",
   "metadata": {},
   "outputs": [
    {
     "data": {
      "image/png": "[encoded data removed]",
      "text/plain": [
       "<Figure size 1200x600 with 1 Axes>"
      ]
     },
     "metadata": {},
     "output_type": "display_data"
    }
   ],
   "source": [
    "plt.figure(figsize=(12, 6))\n",
    "plt.plot(portfolio_value)\n",
    "plt.title('Portfolio Value Over Time')\n",
    "plt.xlabel('Time')\n",
    "plt.ylabel('Portfolio Value')\n",
    "plt.show()"
   ]
  }
 ],
 "metadata": {
  "kernelspec": {
   "display_name": "base",
   "language": "python",
   "name": "python3"
  },
  "language_info": {
   "codemirror_mode": {
    "name": "ipython",
    "version": 3
   },
   "file_extension": ".py",
   "mimetype": "text/x-python",
   "name": "python",
   "nbconvert_exporter": "python",
   "pygments_lexer": "ipython3",
   "version": "3.12.3"
  }
 },
 "nbformat": 4,
 "nbformat_minor": 5
}
