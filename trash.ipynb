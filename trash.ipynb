{
 "cells": [
  {
   "cell_type": "markdown",
   "id": "2d88281c",
   "metadata": {},
   "source": [
    "## <font color='cornflowerblue'> Packages"
   ]
  },
  {
   "cell_type": "code",
   "execution_count": 1,
   "id": "edcc2888",
   "metadata": {},
   "outputs": [],
   "source": [
    "import ta\n",
    "import numpy as np\n",
    "import pandas as pd\n",
    "import seaborn as sns\n",
    "import matplotlib.pyplot as plt\n",
    "\n",
    "sns.set_theme()"
   ]
  },
  {
   "cell_type": "markdown",
   "id": "a12a4ae4",
   "metadata": {},
   "source": [
    "## <font color='cornflowerblue'> Classes and Functions"
   ]
  },
  {
   "cell_type": "code",
   "execution_count": 2,
   "id": "d3b6abeb",
   "metadata": {},
   "outputs": [],
   "source": [
    "from dataclasses import dataclass\n",
    "\n",
    "@dataclass\n",
    "class Position:\n",
    "    \"\"\" A cool representation of a position\n",
    "    \"\"\"\n",
    "    ticker: str\n",
    "    n_shares: int\n",
    "    price: float\n",
    "    sl: float\n",
    "    tp: float\n",
    "    time: str"
   ]
  },
  {
   "cell_type": "code",
   "execution_count": 3,
   "id": "b5fa7e42",
   "metadata": {},
   "outputs": [],
   "source": [
    "class TradingMetrics:\n",
    "    def __init__(self, portfolio_values: list[float], time_frame: int):\n",
    "        self.portfolio_values = portfolio_values\n",
    "        self.time_frame = time_frame  # in minutes\n",
    "\n",
    "        self.df = pd.DataFrame({\n",
    "            'value': self.portfolio_values,\n",
    "            'rets': pd.Series(self.portfolio_values).pct_change()\n",
    "        }).dropna()\n",
    "\n",
    "    def sharpe_ratio(self) -> float:\n",
    "        mean = self.df.rets.mean()\n",
    "        std = self.df.rets.std()\n",
    "\n",
    "        # 252 trading days, 6.5 hours per day, time_frame-min bars\n",
    "        bars_per_year = (60 / self.time_frame) * 6.5 * 252\n",
    "        annual_mean = mean * bars_per_year\n",
    "        annual_std = std * np.sqrt(bars_per_year)\n",
    "        \n",
    "        return annual_mean / annual_std\n",
    "\n",
    "    def sortino_ratio(self) -> float:\n",
    "        mean = self.df.rets.mean()\n",
    "        downside_risk = np.minimum(self.df.rets, 0).std()\n",
    "\n",
    "        # 252 trading days, 6.5 hours per day, time_frame-min bars\n",
    "        bars_per_year = (60 / self.time_frame) * 6.5 * 252\n",
    "        annual_mean = mean * bars_per_year\n",
    "        annual_downside_risk = downside_risk * np.sqrt(bars_per_year)\n",
    "\n",
    "        return annual_mean / annual_downside_risk\n",
    "\n",
    "    def max_drawdown(self) -> float:\n",
    "        roll_max = self.df.value.cummax()\n",
    "        drawdown = (roll_max - self.df.value) / roll_max  # Drawdown as positive values\n",
    "        return drawdown.max()  # Maximum drawdown as positive percentage\n",
    "\n",
    "    def calmar_ratio(self) -> float:\n",
    "        mean = self.df.rets.mean()\n",
    "        \n",
    "        # 252 trading days, 6.5 hours per day, time_frame-min bars\n",
    "        bars_per_year = (60 / self.time_frame) * 6.5 * 252\n",
    "        annual_mean = mean * bars_per_year\n",
    "        \n",
    "        max_dd = self.max_drawdown()  # Now this returns a positive value\n",
    "        \n",
    "        return annual_mean / max_dd if max_dd != 0 else 0\n",
    "\n",
    "    def show_metrics(self) -> pd.DataFrame:\n",
    "        df = pd.DataFrame(\n",
    "            {\n",
    "                'Metric': ['Sharpe Ratio', 'Sortino Ratio', 'Max Drawdown', 'Calmar Ratio'],\n",
    "                'Value': [self.sharpe_ratio(), self.sortino_ratio(), f'{self.max_drawdown():.2%}', self.calmar_ratio()]\n",
    "            }\n",
    "        )\n",
    "        return df"
   ]
  },
  {
   "cell_type": "code",
   "execution_count": 4,
   "id": "1490dcf8",
   "metadata": {},
   "outputs": [],
   "source": [
    "def rsi(data: pd.DataFrame, window: int, rsi_lower: int, rsi_upper: int) -> pd.DataFrame:\n",
    "    df = data.copy()\n",
    "    rsi_indicator = ta.momentum.RSIIndicator(df.Close, window=window)\n",
    "    df['rsi'] = rsi_indicator.rsi()\n",
    "    df['buy_signal'] = df['rsi'] < rsi_lower\n",
    "    df['sell_signal'] = df['rsi'] > rsi_upper\n",
    "    df = df.dropna()\n",
    "    return df"
   ]
  },
  {
   "cell_type": "code",
   "execution_count": 5,
   "id": "28d8947b",
   "metadata": {},
   "outputs": [],
   "source": [
    "def get_portfolio_value(cash: float, long_ops: list[Position], short_ops: list[Position], current_price: float, \n",
    "                        n_shares: int, COM: float) -> float:\n",
    "    \n",
    "    val = cash \n",
    "\n",
    "    # Longs\n",
    "    val += len(long_ops) * current_price * n_shares * (1 - COM)\n",
    "\n",
    "    # Shorts\n",
    "    short_val = sum(\n",
    "        (pos.price - current_price) * pos.n_shares * (1 - COM)\n",
    "        for pos in short_ops\n",
    "    )\n",
    "\n",
    "    return val + short_val"
   ]
  },
  {
   "cell_type": "markdown",
   "id": "28a919af",
   "metadata": {},
   "source": [
    "## <font color='cornflowerblue'> Data"
   ]
  },
  {
   "cell_type": "code",
   "execution_count": 6,
   "id": "17b5661e",
   "metadata": {},
   "outputs": [],
   "source": [
    "data = pd.read_csv('aapl_5m_train.csv').dropna()"
   ]
  },
  {
   "cell_type": "code",
   "execution_count": 7,
   "id": "b25e5144",
   "metadata": {},
   "outputs": [
    {
     "data": {
      "text/html": [
       "<div>\n",
       "<style scoped>\n",
       "    .dataframe tbody tr th:only-of-type {\n",
       "        vertical-align: middle;\n",
       "    }\n",
       "\n",
       "    .dataframe tbody tr th {\n",
       "        vertical-align: top;\n",
       "    }\n",
       "\n",
       "    .dataframe thead th {\n",
       "        text-align: right;\n",
       "    }\n",
       "</style>\n",
       "<table border=\"1\" class=\"dataframe\">\n",
       "  <thead>\n",
       "    <tr style=\"text-align: right;\">\n",
       "      <th></th>\n",
       "      <th>Unnamed: 0</th>\n",
       "      <th>Timestamp</th>\n",
       "      <th>Gmtoffset</th>\n",
       "      <th>Datetime</th>\n",
       "      <th>Open</th>\n",
       "      <th>High</th>\n",
       "      <th>Low</th>\n",
       "      <th>Close</th>\n",
       "      <th>Volume</th>\n",
       "      <th>rsi</th>\n",
       "      <th>buy_signal</th>\n",
       "      <th>sell_signal</th>\n",
       "    </tr>\n",
       "  </thead>\n",
       "  <tbody>\n",
       "    <tr>\n",
       "      <th>24</th>\n",
       "      <td>24</td>\n",
       "      <td>1609777800</td>\n",
       "      <td>0</td>\n",
       "      <td>2021-01-04 16:30:00</td>\n",
       "      <td>129.889892</td>\n",
       "      <td>130.089996</td>\n",
       "      <td>129.619995</td>\n",
       "      <td>129.910003</td>\n",
       "      <td>1379536.0</td>\n",
       "      <td>31.181021</td>\n",
       "      <td>True</td>\n",
       "      <td>False</td>\n",
       "    </tr>\n",
       "    <tr>\n",
       "      <th>25</th>\n",
       "      <td>25</td>\n",
       "      <td>1609778100</td>\n",
       "      <td>0</td>\n",
       "      <td>2021-01-04 16:35:00</td>\n",
       "      <td>129.914794</td>\n",
       "      <td>129.929992</td>\n",
       "      <td>129.600006</td>\n",
       "      <td>129.690002</td>\n",
       "      <td>1060015.0</td>\n",
       "      <td>29.621070</td>\n",
       "      <td>True</td>\n",
       "      <td>False</td>\n",
       "    </tr>\n",
       "    <tr>\n",
       "      <th>26</th>\n",
       "      <td>26</td>\n",
       "      <td>1609778400</td>\n",
       "      <td>0</td>\n",
       "      <td>2021-01-04 16:40:00</td>\n",
       "      <td>129.679992</td>\n",
       "      <td>129.679992</td>\n",
       "      <td>129.270004</td>\n",
       "      <td>129.390106</td>\n",
       "      <td>1729037.0</td>\n",
       "      <td>27.656393</td>\n",
       "      <td>True</td>\n",
       "      <td>False</td>\n",
       "    </tr>\n",
       "    <tr>\n",
       "      <th>27</th>\n",
       "      <td>27</td>\n",
       "      <td>1609778700</td>\n",
       "      <td>0</td>\n",
       "      <td>2021-01-04 16:45:00</td>\n",
       "      <td>129.399993</td>\n",
       "      <td>129.585006</td>\n",
       "      <td>129.329299</td>\n",
       "      <td>129.413299</td>\n",
       "      <td>1180904.0</td>\n",
       "      <td>28.040889</td>\n",
       "      <td>True</td>\n",
       "      <td>False</td>\n",
       "    </tr>\n",
       "    <tr>\n",
       "      <th>28</th>\n",
       "      <td>28</td>\n",
       "      <td>1609779000</td>\n",
       "      <td>0</td>\n",
       "      <td>2021-01-04 16:50:00</td>\n",
       "      <td>129.410003</td>\n",
       "      <td>129.529998</td>\n",
       "      <td>129.110000</td>\n",
       "      <td>129.148498</td>\n",
       "      <td>1457144.0</td>\n",
       "      <td>26.373813</td>\n",
       "      <td>True</td>\n",
       "      <td>False</td>\n",
       "    </tr>\n",
       "  </tbody>\n",
       "</table>\n",
       "</div>"
      ],
      "text/plain": [
       "    Unnamed: 0   Timestamp  Gmtoffset             Datetime        Open  \\\n",
       "24          24  1609777800          0  2021-01-04 16:30:00  129.889892   \n",
       "25          25  1609778100          0  2021-01-04 16:35:00  129.914794   \n",
       "26          26  1609778400          0  2021-01-04 16:40:00  129.679992   \n",
       "27          27  1609778700          0  2021-01-04 16:45:00  129.399993   \n",
       "28          28  1609779000          0  2021-01-04 16:50:00  129.410003   \n",
       "\n",
       "          High         Low       Close     Volume        rsi  buy_signal  \\\n",
       "24  130.089996  129.619995  129.910003  1379536.0  31.181021        True   \n",
       "25  129.929992  129.600006  129.690002  1060015.0  29.621070        True   \n",
       "26  129.679992  129.270004  129.390106  1729037.0  27.656393        True   \n",
       "27  129.585006  129.329299  129.413299  1180904.0  28.040889        True   \n",
       "28  129.529998  129.110000  129.148498  1457144.0  26.373813        True   \n",
       "\n",
       "    sell_signal  \n",
       "24        False  \n",
       "25        False  \n",
       "26        False  \n",
       "27        False  \n",
       "28        False  "
      ]
     },
     "execution_count": 7,
     "metadata": {},
     "output_type": "execute_result"
    }
   ],
   "source": [
    "data = rsi(data, window=25, rsi_lower=32, rsi_upper=72)\n",
    "data.head()"
   ]
  },
  {
   "cell_type": "markdown",
   "id": "50ad1af9",
   "metadata": {},
   "source": [
    "## <font color='cornflowerblue'> Parameters"
   ]
  },
  {
   "cell_type": "code",
   "execution_count": 8,
   "id": "df6dedbe",
   "metadata": {},
   "outputs": [],
   "source": [
    "COM: float = 0.125 / 100\n",
    "BORROW_RATE: float = 0.25 / 100\n",
    "INITIAL_MARGIN = 1.5\n",
    "MAINTENANCE_MARGIN = 0.25\n",
    "\n",
    "# Convert annualized borrow rate to 5-min bar rate\n",
    "bars_per_year = 252 * 6.5 * 60 / 5  # 252 trading days, 6.5 hours per day, 5-min bars\n",
    "bar_borrow_rate = BORROW_RATE / bars_per_year\n",
    "\n",
    "# DOF\n",
    "STOP_LOSS: float = 0.1449606732271905\n",
    "TAKE_PROFIT: float = 0.07216372458077823\n",
    "N_SHARES: int = 478"
   ]
  },
  {
   "cell_type": "markdown",
   "id": "97187d15",
   "metadata": {},
   "source": [
    "## <font color='cornflowerblue'> Backtest"
   ]
  },
  {
   "cell_type": "code",
   "execution_count": 16,
   "id": "ea1f9362",
   "metadata": {},
   "outputs": [
    {
     "name": "stdout",
     "output_type": "stream",
     "text": [
      "Portfolio value went negative. Stopping backtest.\n"
     ]
    }
   ],
   "source": [
    "capital: float = 1_000_000\n",
    "\n",
    "portfolio_value = [capital]\n",
    "active_long_positions: list[Position] = []\n",
    "active_short_positions: list[Position] = []\n",
    "\n",
    "for i, row in data.iterrows():\n",
    "    # Checkin nonnegative portfolio value\n",
    "    if portfolio_value[-1] < 0:\n",
    "        print(\"Portfolio value went negative. Stopping backtest.\")\n",
    "        portfolio_value.extend([0] * (len(data)+1-len(portfolio_value)))\n",
    "        break\n",
    "    \n",
    "    # -- LONG -- #\n",
    "    # Check active orders\n",
    "    for position in active_long_positions.copy():\n",
    "        # Stop loss or take profit check\n",
    "        if row.Close > position.tp or row.Close < position.sl:\n",
    "            # Add profits / losses to capital\n",
    "            capital += row.Close * position.n_shares * (1 - COM)\n",
    "            # Remove position from active position\n",
    "            active_long_positions.remove(position)\n",
    "\n",
    "    # -- SHORT -- #\n",
    "    # Check active orders\n",
    "    for position in active_short_positions.copy():\n",
    "        # Stop loss or take profit check\n",
    "        if row.Close < position.tp or row.Close > position.sl:\n",
    "            # Add profits / losses to capital\n",
    "            pnl = (position.price - row.Close) * position.n_shares * (1 - COM)\n",
    "            capital += pnl\n",
    "            # Remove position from active position\n",
    "            active_short_positions.remove(position)\n",
    "            continue\n",
    "\n",
    "    # Check Long Signal\n",
    "    if getattr(row, \"buy_signal\", False):\n",
    "        cost = row.Close * N_SHARES * (1 + COM)\n",
    "\n",
    "        # Do we have enough cash?\n",
    "        if capital > cost:\n",
    "            # Discount cash\n",
    "            capital -= cost\n",
    "            # Add position to portfolio\n",
    "            pos = Position(ticker='AAPL', n_shares=N_SHARES, price=row.Close,\n",
    "                           sl=row.Close * (1 - STOP_LOSS), tp=row.Close*(1 + TAKE_PROFIT),\n",
    "                           time=row.Datetime)\n",
    "            active_long_positions.append(pos)\n",
    "\n",
    "    # Check Short Signal\n",
    "    if getattr(row, \"sell_signal\", False):\n",
    "        commission = row.Close * N_SHARES * COM\n",
    "        # Do we have enough cash?\n",
    "        if capital > commission:\n",
    "            # Discount commission\n",
    "            capital -= commission\n",
    "            # Add position to portfolio\n",
    "            pos = Position(ticker='AAPL', n_shares=N_SHARES, price=row.Close,\n",
    "                            sl=row.Close * (1 + STOP_LOSS), tp=row.Close*(1 - TAKE_PROFIT),\n",
    "                            time=row.Datetime)\n",
    "            active_short_positions.append(pos)\n",
    "\n",
    "    # Calculate portfolio value\n",
    "    portfolio_value.append(get_portfolio_value(capital, active_long_positions, active_short_positions, row.Close, N_SHARES, COM))\n",
    "\n",
    "# At the end of the backtesting, we should close all active positions\n",
    "capital += row.Close * len(active_long_positions) * N_SHARES * (1 - COM)\n",
    "\n",
    "for position in active_short_positions:\n",
    "    pnl = (position.price - row.Close) * position.n_shares * (1 - COM)\n",
    "    capital += pnl\n",
    "\n",
    "active_long_positions = []\n",
    "active_short_positions = []"
   ]
  },
  {
   "cell_type": "code",
   "execution_count": 17,
   "id": "ac55e5bd",
   "metadata": {},
   "outputs": [
    {
     "data": {
      "text/plain": [
       "7181.875455911134"
      ]
     },
     "execution_count": 17,
     "metadata": {},
     "output_type": "execute_result"
    }
   ],
   "source": [
    "capital"
   ]
  },
  {
   "cell_type": "code",
   "execution_count": 18,
   "id": "18d5e945",
   "metadata": {},
   "outputs": [
    {
     "data": {
      "image/png": "[encoded data removed]",
      "text/plain": [
       "<Figure size 1200x600 with 1 Axes>"
      ]
     },
     "metadata": {},
     "output_type": "display_data"
    }
   ],
   "source": [
    "df = pd.DataFrame({'Portfolio Value': portfolio_value[1:]},\n",
    "                  index=pd.to_datetime(data.Datetime))\n",
    "\n",
    "plt.figure(figsize=(12, 6))\n",
    "plt.plot(df.index, df['Portfolio Value'])\n",
    "plt.title('Portfolio Value Over Time')\n",
    "plt.xlabel('Date')\n",
    "plt.ylabel('Portfolio Value ($)')\n",
    "plt.show()"
   ]
  },
  {
   "cell_type": "markdown",
   "id": "6c5c7b39",
   "metadata": {},
   "source": [
    "## <font color='cornflowerblue'> Metrics"
   ]
  },
  {
   "cell_type": "code",
   "execution_count": 19,
   "id": "7d3c011e",
   "metadata": {},
   "outputs": [
    {
     "data": {
      "text/html": [
       "<div>\n",
       "<style scoped>\n",
       "    .dataframe tbody tr th:only-of-type {\n",
       "        vertical-align: middle;\n",
       "    }\n",
       "\n",
       "    .dataframe tbody tr th {\n",
       "        vertical-align: top;\n",
       "    }\n",
       "\n",
       "    .dataframe thead th {\n",
       "        text-align: right;\n",
       "    }\n",
       "</style>\n",
       "<table border=\"1\" class=\"dataframe\">\n",
       "  <thead>\n",
       "    <tr style=\"text-align: right;\">\n",
       "      <th></th>\n",
       "      <th>Metric</th>\n",
       "      <th>Value</th>\n",
       "    </tr>\n",
       "  </thead>\n",
       "  <tbody>\n",
       "    <tr>\n",
       "      <th>0</th>\n",
       "      <td>Sharpe Ratio</td>\n",
       "      <td>-1.522323</td>\n",
       "    </tr>\n",
       "    <tr>\n",
       "      <th>1</th>\n",
       "      <td>Sortino Ratio</td>\n",
       "      <td>-1.576632</td>\n",
       "    </tr>\n",
       "    <tr>\n",
       "      <th>2</th>\n",
       "      <td>Max Drawdown</td>\n",
       "      <td>101.78%</td>\n",
       "    </tr>\n",
       "    <tr>\n",
       "      <th>3</th>\n",
       "      <td>Calmar Ratio</td>\n",
       "      <td>-9.033067</td>\n",
       "    </tr>\n",
       "  </tbody>\n",
       "</table>\n",
       "</div>"
      ],
      "text/plain": [
       "          Metric     Value\n",
       "0   Sharpe Ratio -1.522323\n",
       "1  Sortino Ratio -1.576632\n",
       "2   Max Drawdown   101.78%\n",
       "3   Calmar Ratio -9.033067"
      ]
     },
     "execution_count": 19,
     "metadata": {},
     "output_type": "execute_result"
    }
   ],
   "source": [
    "metrics = TradingMetrics(portfolio_value, time_frame=5)\n",
    "metrics.show_metrics()"
   ]
  }
 ],
 "metadata": {
  "kernelspec": {
   "display_name": "base",
   "language": "python",
   "name": "python3"
  },
  "language_info": {
   "codemirror_mode": {
    "name": "ipython",
    "version": 3
   },
   "file_extension": ".py",
   "mimetype": "text/x-python",
   "name": "python",
   "nbconvert_exporter": "python",
   "pygments_lexer": "ipython3",
   "version": "3.12.3"
  }
 },
 "nbformat": 4,
 "nbformat_minor": 5
}
