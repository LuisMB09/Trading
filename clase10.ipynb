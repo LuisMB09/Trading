{
 "cells": [
  {
   "cell_type": "markdown",
   "id": "2586c37f",
   "metadata": {},
   "source": [
    "# Sequential Decision Modeling"
   ]
  },
  {
   "cell_type": "markdown",
   "id": "fe9764c5",
   "metadata": {},
   "source": [
    "## Step 1: Narrative"
   ]
  },
  {
   "cell_type": "markdown",
   "id": "3a2a1562",
   "metadata": {},
   "source": [
    "## Step 2: Identify Core Metrics\n",
    "\n",
    "* Maximize contribution.\n",
    "* Demand for each day is unknown.\n",
    "    * $\\hat{W}_{t+1}=\\hat{D}_{t+1}$: Demand for today.\n",
    "    * $\\hat{D} \\sim \\mathcal{N}(\\mu = 50, \\sigma^2 = 5)$\n",
    "* Decision variable $x_t$: How many pounds of bacon we'll order at the end of the day. $t$\n",
    "* Constants:\n",
    "    * $p=25$\n",
    "    * $c=15$\n",
    "* Initial values:\n",
    "    * $R_0=10$\n",
    "* Policies:\n",
    "    * $\\theta \\in [40,60]$"
   ]
  },
  {
   "cell_type": "markdown",
   "id": "310f63f2",
   "metadata": {},
   "source": [
    "## Step 3: Mathematical Model\n",
    "\n",
    "### State:\n",
    "\n",
    "$$S_t=(R_t, \\hat{D}_{t+1}, c, p, \\mu, \\sigma^2)$$\n",
    "\n",
    "### Decision Variables:\n",
    "\n",
    "$$X^\\pi = \\max(\\theta - R_t, 0)$$\n",
    "\n",
    "### Exogenous Informartion:\n",
    "\n",
    "$$\\hat{D}_{t+1} \\sim \\mathcal{N}(\\mu = 50, \\sigma^2 = 5)$$\n",
    "\n",
    "### Transition Function:\n",
    "\n",
    "$$S^M=\\max(R_t+x_t-\\hat{D}_{t+1}, 0)$$\n",
    "\n",
    "### Objective Function:\n",
    "\n",
    "$$\\max_{\\pi} \\sum_{t=1}^T C(S_t,x_t) | S_0$$\n",
    "\n",
    "$$C(S_t,x_t)=-c(x_t)+p(\\min(R_t+x_t,\\hat{D}_{t+1}))$$"
   ]
  },
  {
   "cell_type": "markdown",
   "id": "03ff322e",
   "metadata": {},
   "source": [
    "## Step 4: Uncertainity Model\n",
    "\n",
    "* Previously defined..."
   ]
  },
  {
   "cell_type": "markdown",
   "id": "22a5ccd3",
   "metadata": {},
   "source": [
    "## Step 5: Designing Policies\n",
    "\n",
    "$$\\theta \\in [40,60]$$"
   ]
  },
  {
   "cell_type": "markdown",
   "id": "08be19cd",
   "metadata": {},
   "source": [
    "## Step 6: Evaluating Policies"
   ]
  },
  {
   "cell_type": "code",
   "execution_count": 1,
   "id": "91094d48",
   "metadata": {},
   "outputs": [],
   "source": [
    "import matplotlib.pyplot as plt\n",
    "import numpy as np\n",
    "import pandas as pd"
   ]
  },
  {
   "cell_type": "code",
   "execution_count": 2,
   "id": "505a46fd",
   "metadata": {},
   "outputs": [],
   "source": [
    "def X_t(r_t: int, theta: int) -> int:\n",
    "    return np.max([0, theta - r_t])"
   ]
  },
  {
   "cell_type": "code",
   "execution_count": 6,
   "id": "3dce407b",
   "metadata": {},
   "outputs": [
    {
     "name": "stdout",
     "output_type": "stream",
     "text": [
      "Theta = 40 -> 4150.00\n",
      "Theta = 41 -> 4250.00\n",
      "Theta = 42 -> 4350.00\n",
      "Theta = 43 -> 4449.97\n",
      "Theta = 44 -> 4549.66\n",
      "Theta = 45 -> 4649.13\n",
      "Theta = 46 -> 4746.06\n",
      "Theta = 47 -> 4839.95\n",
      "Theta = 48 -> 4925.31\n",
      "Theta = 49 -> 4997.79\n",
      "Theta = 50 -> 5047.07\n",
      "Theta = 51 -> 5080.38\n",
      "Theta = 52 -> 5093.02\n",
      "Theta = 53 -> 5096.26\n",
      "Theta = 54 -> 5082.08\n",
      "Theta = 55 -> 5072.47\n",
      "Theta = 56 -> 5052.31\n",
      "Theta = 57 -> 5042.99\n",
      "Theta = 58 -> 5032.96\n",
      "Theta = 59 -> 5008.44\n",
      "Theta = 60 -> 4998.03\n"
     ]
    }
   ],
   "source": [
    "c = 15\n",
    "p = 25\n",
    "mu = 50\n",
    "var = 5\n",
    "r_0 = 10\n",
    "\n",
    "theta_space = list(range(40, 61))\n",
    "\n",
    "for theta in theta_space:\n",
    "    contributions = []\n",
    "\n",
    "    for _ in range(1000):\n",
    "        scenarios = []\n",
    "        r_t = r_0\n",
    "    \n",
    "        for i in range(1, 11):\n",
    "            # Buy inventory\n",
    "            x_t = X_t(r_t, theta)\n",
    "\n",
    "            # Exogenous information\n",
    "            D_t_1 = np.round(np.random.normal(mu, np.sqrt(var)))\n",
    "\n",
    "            # Transition function\n",
    "            r_t_1 = np.max([x_t + r_t - D_t_1, 0])\n",
    "\n",
    "            contribution = -c * x_t + p * (np.min([x_t + r_t, D_t_1]))\n",
    "\n",
    "            scenarios.append({\n",
    "                \"t\": i,\n",
    "                \"r_t\": r_t,\n",
    "                \"x_t\": x_t,\n",
    "                \"D_t_1\": D_t_1,\n",
    "                \"C\": contribution,\n",
    "            })\n",
    "\n",
    "            r_t = r_t_1\n",
    "\n",
    "        theta_df = pd.DataFrame.from_records(scenarios)\n",
    "\n",
    "        contributions.append(theta_df.C.sum())\n",
    "\n",
    "    print(f\"Theta = {theta} -> {np.mean(contributions):.2f}\")"
   ]
  }
 ],
 "metadata": {
  "kernelspec": {
   "display_name": "venv",
   "language": "python",
   "name": "python3"
  },
  "language_info": {
   "codemirror_mode": {
    "name": "ipython",
    "version": 3
   },
   "file_extension": ".py",
   "mimetype": "text/x-python",
   "name": "python",
   "nbconvert_exporter": "python",
   "pygments_lexer": "ipython3",
   "version": "3.12.7"
  }
 },
 "nbformat": 4,
 "nbformat_minor": 5
}
